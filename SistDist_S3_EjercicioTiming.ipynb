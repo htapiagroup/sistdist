{
  "nbformat": 4,
  "nbformat_minor": 0,
  "metadata": {
    "colab": {
      "name": "SistDist_S3_EjercicioTiming.ipynb",
      "version": "0.3.2",
      "provenance": [],
      "include_colab_link": true
    },
    "kernelspec": {
      "name": "python3",
      "display_name": "Python 3"
    }
  },
  "cells": [
    {
      "cell_type": "markdown",
      "metadata": {
        "id": "view-in-github",
        "colab_type": "text"
      },
      "source": [
        "<a href=\"https://colab.research.google.com/github/htapiagroup/sistdist/blob/master/SistDist_S3_EjercicioTiming.ipynb\" target=\"_parent\"><img src=\"https://colab.research.google.com/assets/colab-badge.svg\" alt=\"Open In Colab\"/></a>"
      ]
    },
    {
      "cell_type": "code",
      "metadata": {
        "id": "jKSUNt5fsT2b",
        "colab_type": "code",
        "colab": {}
      },
      "source": [
        "import numpy as np\n",
        "import dask.array as da\n",
        "import h5py, time"
      ],
      "execution_count": 0,
      "outputs": []
    },
    {
      "cell_type": "code",
      "metadata": {
        "id": "2R1IWVaQsdkG",
        "colab_type": "code",
        "colab": {
          "base_uri": "https://localhost:8080/",
          "height": 394
        },
        "outputId": "02b9c213-96d0-410c-b860-f899572b2c74"
      },
      "source": [
        "!wget https://www.gw-osc.org/archive/data/S5/814743552/H-H1_LOSC_4_V1-815411200-4096.hdf5"
      ],
      "execution_count": 2,
      "outputs": [
        {
          "output_type": "stream",
          "text": [
            "--2019-05-21 18:40:31--  https://www.gw-osc.org/archive/data/S5/814743552/H-H1_LOSC_4_V1-815411200-4096.hdf5\n",
            "Resolving www.gw-osc.org (www.gw-osc.org)... 131.215.125.179\n",
            "Connecting to www.gw-osc.org (www.gw-osc.org)|131.215.125.179|:443... connected.\n",
            "HTTP request sent, awaiting response... 302 Found\n",
            "Location: https://www.gw-openscience.org/archive/data/S5/814743552/H-H1_LOSC_4_V1-815411200-4096.hdf5 [following]\n",
            "--2019-05-21 18:40:32--  https://www.gw-openscience.org/archive/data/S5/814743552/H-H1_LOSC_4_V1-815411200-4096.hdf5\n",
            "Resolving www.gw-openscience.org (www.gw-openscience.org)... 131.215.125.179\n",
            "Connecting to www.gw-openscience.org (www.gw-openscience.org)|131.215.125.179|:443... connected.\n",
            "HTTP request sent, awaiting response... 301 Moved Permanently\n",
            "Location: /archive/data/S5/814743552/H-H1_LOSC_4_V1-815411200-4096.hdf5/ [following]\n",
            "--2019-05-21 18:40:32--  https://www.gw-openscience.org/archive/data/S5/814743552/H-H1_LOSC_4_V1-815411200-4096.hdf5/\n",
            "Reusing existing connection to www.gw-openscience.org:443.\n",
            "HTTP request sent, awaiting response... 200 OK\n",
            "Length: 95071329 (91M) [application/octet-stream]\n",
            "Saving to: ‘H-H1_LOSC_4_V1-815411200-4096.hdf5’\n",
            "\n",
            "H-H1_LOSC_4_V1-8154 100%[===================>]  90.67M  37.1MB/s    in 2.4s    \n",
            "\n",
            "2019-05-21 18:40:35 (37.1 MB/s) - ‘H-H1_LOSC_4_V1-815411200-4096.hdf5’ saved [95071329/95071329]\n",
            "\n"
          ],
          "name": "stdout"
        }
      ]
    },
    {
      "cell_type": "code",
      "metadata": {
        "id": "cm3SCWgJsd3u",
        "colab_type": "code",
        "colab": {}
      },
      "source": [
        "!cp H-H1_LOSC_4_V1-815411200-4096.hdf5 LIGO_data.hdf5"
      ],
      "execution_count": 0,
      "outputs": []
    },
    {
      "cell_type": "code",
      "metadata": {
        "id": "Y2aXnEubsfG-",
        "colab_type": "code",
        "colab": {}
      },
      "source": [
        "with h5py.File('./LIGO_data.hdf5') as dset:\n",
        "  strain = dset['strain']['Strain'][:]"
      ],
      "execution_count": 0,
      "outputs": []
    },
    {
      "cell_type": "code",
      "metadata": {
        "id": "O-n3q9JysjrA",
        "colab_type": "code",
        "colab": {
          "base_uri": "https://localhost:8080/",
          "height": 53
        },
        "outputId": "57850438-e2d5-4f9b-929d-aeb077f9fc5e"
      },
      "source": [
        "res = []\n",
        "\n",
        "for n_chunks in 2**np.arange(10):\n",
        "  chunk_size = strain.shape[0] // n_chunks\n",
        "  # mide el tiempo con numpy\n",
        "  \n",
        "  ti = time.time()\n",
        "  tmp = np.array([np.nanmean(strain_split) for strain_split in np.array_split(strain, n_chunks)])\n",
        "  tf = time.time()\n",
        "  df_np = (tf-ti)*1000\n",
        "  # print('Tiempo transcurrido: {} ms'.format(df_np))\n",
        "  \n",
        "  # mide el tiempo con dask\n",
        "  strain_dask8 = da.from_array(strain, chunks=chunk_size)\n",
        "  \n",
        "  ti = time.time()\n",
        "  promedio8 = strain_dask8.mean().compute()\n",
        "  tf = time.time()\n",
        "  df_dask = (tf-ti)*1000\n",
        "  # print('Tiempo transcurrido: {} ms'.format(df))\n",
        "\n",
        "  res.append([n_chunks, df_np, df_dask])\n",
        "\n",
        "res = pd.DataFrame(np.array(res), columns=[\"chunk\", \"t1\", \"t2\"])"
      ],
      "execution_count": 32,
      "outputs": [
        {
          "output_type": "stream",
          "text": [
            "/usr/local/lib/python3.6/dist-packages/ipykernel_launcher.py:8: RuntimeWarning: Mean of empty slice\n",
            "  \n"
          ],
          "name": "stderr"
        }
      ]
    },
    {
      "cell_type": "code",
      "metadata": {
        "id": "Xp40t8TpvSmD",
        "colab_type": "code",
        "colab": {
          "base_uri": "https://localhost:8080/",
          "height": 196
        },
        "outputId": "c0800d73-e75d-4743-af9d-1ca96eac70a7"
      },
      "source": [
        "res"
      ],
      "execution_count": 33,
      "outputs": [
        {
          "output_type": "execute_result",
          "data": {
            "text/plain": [
              "[[1, 212.25333213806152, 65.49191474914551],\n",
              " [2, 118.09039115905762, 47.661542892456055],\n",
              " [4, 123.19231033325195, 54.69489097595215],\n",
              " [8, 128.04555892944336, 48.726558685302734],\n",
              " [16, 126.30867958068848, 61.68961524963379],\n",
              " [32, 112.51354217529297, 71.2897777557373],\n",
              " [64, 117.83981323242188, 98.8626480102539],\n",
              " [128, 87.7830982208252, 153.43928337097168],\n",
              " [256, 89.53261375427246, 208.6014747619629],\n",
              " [512, 70.04690170288086, 371.4752197265625]]"
            ]
          },
          "metadata": {
            "tags": []
          },
          "execution_count": 33
        }
      ]
    },
    {
      "cell_type": "code",
      "metadata": {
        "id": "03VeR1TivuRP",
        "colab_type": "code",
        "colab": {}
      },
      "source": [
        "import pandas as pd"
      ],
      "execution_count": 0,
      "outputs": []
    },
    {
      "cell_type": "code",
      "metadata": {
        "id": "hpUg4LgXvw-S",
        "colab_type": "code",
        "colab": {}
      },
      "source": [
        "res= pd.DataFrame(np.array(res), columns=[\"chunk\", \"t1\", \"t2\"])"
      ],
      "execution_count": 0,
      "outputs": []
    },
    {
      "cell_type": "code",
      "metadata": {
        "id": "a4PkZ8Lcv0Et",
        "colab_type": "code",
        "colab": {}
      },
      "source": [
        "pd.DataFrame?"
      ],
      "execution_count": 0,
      "outputs": []
    },
    {
      "cell_type": "code",
      "metadata": {
        "id": "CXz8RfKzwByr",
        "colab_type": "code",
        "colab": {
          "base_uri": "https://localhost:8080/",
          "height": 295
        },
        "outputId": "6cbbc111-c814-45e5-daef-6bd3d85b5ca9"
      },
      "source": [
        "res.plot.scatter(x=\"chunk\", y=\"t1\", title=\"Time using numpy\");"
      ],
      "execution_count": 45,
      "outputs": [
        {
          "output_type": "display_data",
          "data": {
            "image/png": "[encoded data removed]",
            "text/plain": [
              "<Figure size 432x288 with 1 Axes>"
            ]
          },
          "metadata": {
            "tags": []
          }
        }
      ]
    },
    {
      "cell_type": "code",
      "metadata": {
        "id": "odBbHkjbwQy5",
        "colab_type": "code",
        "colab": {
          "base_uri": "https://localhost:8080/",
          "height": 301
        },
        "outputId": "cd62588e-af5b-418e-9bce-0873c2efb61e"
      },
      "source": [
        "res.plot.scatter(x=\"chunk\", y=\"t2\", title=\"Time using dask\");"
      ],
      "execution_count": 43,
      "outputs": [
        {
          "output_type": "execute_result",
          "data": {
            "text/plain": [
              "<matplotlib.axes._subplots.AxesSubplot at 0x7fb94e1cafd0>"
            ]
          },
          "metadata": {
            "tags": []
          },
          "execution_count": 43
        },
        {
          "output_type": "display_data",
          "data": {
            "image/png": "[encoded data removed]",
            "text/plain": [
              "<Figure size 432x288 with 1 Axes>"
            ]
          },
          "metadata": {
            "tags": []
          }
        }
      ]
    },
    {
      "cell_type": "code",
      "metadata": {
        "id": "zqft9KM4wUB6",
        "colab_type": "code",
        "colab": {}
      },
      "source": [
        ""
      ],
      "execution_count": 0,
      "outputs": []
    }
  ]
}