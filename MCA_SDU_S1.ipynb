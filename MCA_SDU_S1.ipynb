{
  "nbformat": 4,
  "nbformat_minor": 0,
  "metadata": {
    "colab": {
      "name": "MCA_SDU_S1.ipynb",
      "version": "0.3.2",
      "provenance": [],
      "include_colab_link": true
    },
    "kernelspec": {
      "name": "python3",
      "display_name": "Python 3"
    }
  },
  "cells": [
    {
      "cell_type": "markdown",
      "metadata": {
        "id": "view-in-github",
        "colab_type": "text"
      },
      "source": [
        "<a href=\"https://colab.research.google.com/github/htapiagroup/sistdist/blob/master/MCA_SDU_S1.ipynb\" target=\"_parent\"><img src=\"https://colab.research.google.com/assets/colab-badge.svg\" alt=\"Open In Colab\"/></a>"
      ]
    },
    {
      "cell_type": "markdown",
      "metadata": {
        "id": "Q0gavZdpQ1Vd",
        "colab_type": "text"
      },
      "source": [
        "# Entendiendo como la computadora \"guarda\" informacion\n",
        "\n",
        "Antes de comenzar nuestras deambulaciones en computo paralelo, vamos a entender como se guarda la informacion en una computadora midiendo el uso de memoria a traves del interprete de Python.\n",
        "\n",
        "Para eso usaremos la  funcion que sigue\n"
      ]
    },
    {
      "cell_type": "code",
      "metadata": {
        "id": "19vEeb1oQN-E",
        "colab_type": "code",
        "colab": {}
      },
      "source": [
        "import psutil, os\n",
        "\n",
        "def huella_memoria():\n",
        "  '''Regresa la huella de memoria usada por un proceso de Python'''\n",
        "  mem = psutil.Process(os.getpid()).memory_info().rss\n",
        "  return (mem / 1024**2)\n"
      ],
      "execution_count": 0,
      "outputs": []
    },
    {
      "cell_type": "markdown",
      "metadata": {
        "id": "KYV1gLthige0",
        "colab_type": "text"
      },
      "source": [
        "# Memoria asignada en un arreglo"
      ]
    },
    {
      "cell_type": "code",
      "metadata": {
        "id": "MBdkK04vSOAO",
        "colab_type": "code",
        "colab": {}
      },
      "source": [
        "import numpy as np"
      ],
      "execution_count": 0,
      "outputs": []
    },
    {
      "cell_type": "code",
      "metadata": {
        "id": "28ogkjZoScRp",
        "colab_type": "code",
        "colab": {
          "base_uri": "https://localhost:8080/",
          "height": 171
        },
        "outputId": "7b573bac-266b-431c-a289-e17e0eabeb66"
      },
      "source": [
        "antes = huella_memoria()"
      ],
      "execution_count": 4,
      "outputs": [
        {
          "output_type": "error",
          "ename": "NameError",
          "evalue": "ignored",
          "traceback": [
            "\u001b[0;31m---------------------------------------------------------------------------\u001b[0m",
            "\u001b[0;31mNameError\u001b[0m                                 Traceback (most recent call last)",
            "\u001b[0;32m<ipython-input-4-41210438037e>\u001b[0m in \u001b[0;36m<module>\u001b[0;34m()\u001b[0m\n\u001b[0;32m----> 1\u001b[0;31m \u001b[0mantes\u001b[0m \u001b[0;34m=\u001b[0m \u001b[0mhuella_memoria\u001b[0m\u001b[0;34m(\u001b[0m\u001b[0;34m)\u001b[0m\u001b[0;34m\u001b[0m\u001b[0;34m\u001b[0m\u001b[0m\n\u001b[0m",
            "\u001b[0;31mNameError\u001b[0m: name 'huella_memoria' is not defined"
          ]
        }
      ]
    },
    {
      "cell_type": "code",
      "metadata": {
        "id": "YZZEQBPBSknq",
        "colab_type": "code",
        "colab": {}
      },
      "source": [
        "N = (1024**2)//8 # cantidad de valores de punto flotante que llenan 1 MB"
      ],
      "execution_count": 0,
      "outputs": []
    },
    {
      "cell_type": "code",
      "metadata": {
        "id": "Wazi7GTgS0b9",
        "colab_type": "code",
        "colab": {}
      },
      "source": [
        "x = np.random.rand(50*N) # arreglo de numeros que llena 50 MB"
      ],
      "execution_count": 0,
      "outputs": []
    },
    {
      "cell_type": "code",
      "metadata": {
        "id": "tWMo_zL5S_K4",
        "colab_type": "code",
        "colab": {}
      },
      "source": [
        "despues = huella_memoria()"
      ],
      "execution_count": 0,
      "outputs": []
    },
    {
      "cell_type": "code",
      "metadata": {
        "id": "ILKTYjZjTCVX",
        "colab_type": "code",
        "outputId": "4a5a7456-ea0c-4f72-9bb4-b96bc1229abb",
        "colab": {
          "base_uri": "https://localhost:8080/",
          "height": 35
        }
      },
      "source": [
        "print('Memoria antes: {} MB'.format(antes))"
      ],
      "execution_count": 0,
      "outputs": [
        {
          "output_type": "stream",
          "text": [
            "Memoria antes: 115.28515625 MB\n"
          ],
          "name": "stdout"
        }
      ]
    },
    {
      "cell_type": "code",
      "metadata": {
        "id": "FBL8KoClTJ4J",
        "colab_type": "code",
        "outputId": "92de5567-f603-4069-a70b-0da3edeea6dd",
        "colab": {
          "base_uri": "https://localhost:8080/",
          "height": 35
        }
      },
      "source": [
        "print('Memoria despues: {} MB'.format(despues))"
      ],
      "execution_count": 0,
      "outputs": [
        {
          "output_type": "stream",
          "text": [
            "Memoria despues: 165.6171875 MB\n"
          ],
          "name": "stdout"
        }
      ]
    },
    {
      "cell_type": "markdown",
      "metadata": {
        "id": "V6qPoHvAhR99",
        "colab_type": "text"
      },
      "source": [
        "# Memoria asignada en un calculo"
      ]
    },
    {
      "cell_type": "code",
      "metadata": {
        "id": "gzSARaKlTPzs",
        "colab_type": "code",
        "colab": {
          "base_uri": "https://localhost:8080/",
          "height": 35
        },
        "outputId": "97c82c1f-4eac-4e90-c364-6b57017f843c"
      },
      "source": [
        "antes = huella_memoria()\n",
        "print('Memoria antes: {} MB'.format(antes))"
      ],
      "execution_count": 13,
      "outputs": [
        {
          "output_type": "stream",
          "text": [
            "Memoria antes: 165.80078125 MB\n"
          ],
          "name": "stdout"
        }
      ]
    },
    {
      "cell_type": "code",
      "metadata": {
        "id": "7viFb-M0iviM",
        "colab_type": "code",
        "colab": {
          "base_uri": "https://localhost:8080/",
          "height": 53
        },
        "outputId": "32e50085-a6a9-440c-8319-bcb75bf3c65b"
      },
      "source": [
        "x**2"
      ],
      "execution_count": 14,
      "outputs": [
        {
          "output_type": "execute_result",
          "data": {
            "text/plain": [
              "array([0.19122293, 0.66407732, 0.1330167 , ..., 0.04321395, 0.08955538,\n",
              "       0.23767142])"
            ]
          },
          "metadata": {
            "tags": []
          },
          "execution_count": 14
        }
      ]
    },
    {
      "cell_type": "code",
      "metadata": {
        "id": "epFfauL2i1Cr",
        "colab_type": "code",
        "colab": {
          "base_uri": "https://localhost:8080/",
          "height": 35
        },
        "outputId": "642c7bf4-a65b-4438-c643-3f159c414b2a"
      },
      "source": [
        "despues = huella_memoria()\n",
        "print('Memoria despues: {} MB'.format(despues))"
      ],
      "execution_count": 15,
      "outputs": [
        {
          "output_type": "stream",
          "text": [
            "Memoria despues: 215.9765625 MB\n"
          ],
          "name": "stdout"
        }
      ]
    },
    {
      "cell_type": "markdown",
      "metadata": {
        "id": "6h9muX1xwQM7",
        "colab_type": "text"
      },
      "source": [
        "# Uso de memoria\n",
        "\n",
        "Huella de memoria en bytes usada por Python para asignar el arreglo"
      ]
    },
    {
      "cell_type": "code",
      "metadata": {
        "id": "XLby9M3Fi3V6",
        "colab_type": "code",
        "colab": {
          "base_uri": "https://localhost:8080/",
          "height": 35
        },
        "outputId": "fe953b24-fb09-4ea1-d85e-a0fc7cd92a1a"
      },
      "source": [
        "x.nbytes"
      ],
      "execution_count": 16,
      "outputs": [
        {
          "output_type": "execute_result",
          "data": {
            "text/plain": [
              "52428800"
            ]
          },
          "metadata": {
            "tags": []
          },
          "execution_count": 16
        }
      ]
    },
    {
      "cell_type": "markdown",
      "metadata": {
        "id": "RO4B4RYvwmI3",
        "colab_type": "text"
      },
      "source": [
        "En megabytes"
      ]
    },
    {
      "cell_type": "code",
      "metadata": {
        "id": "LqbZ_U17wY4B",
        "colab_type": "code",
        "colab": {
          "base_uri": "https://localhost:8080/",
          "height": 35
        },
        "outputId": "03cddb11-bf65-4b08-f48e-f6c013bb5760"
      },
      "source": [
        "x.nbytes // (1024**2)"
      ],
      "execution_count": 17,
      "outputs": [
        {
          "output_type": "execute_result",
          "data": {
            "text/plain": [
              "50"
            ]
          },
          "metadata": {
            "tags": []
          },
          "execution_count": 17
        }
      ]
    },
    {
      "cell_type": "markdown",
      "metadata": {
        "id": "vxzHwbdmwqmN",
        "colab_type": "text"
      },
      "source": [
        "## Usando  DataFrame\n",
        "`DataFrame` es una estructura de la libreria pandas que hace eficiente y sencillo el procesamiento de datos"
      ]
    },
    {
      "cell_type": "code",
      "metadata": {
        "id": "m1qIjmnqwkpt",
        "colab_type": "code",
        "colab": {}
      },
      "source": [
        "import pandas as pd"
      ],
      "execution_count": 0,
      "outputs": []
    },
    {
      "cell_type": "code",
      "metadata": {
        "id": "DovIrkVIw2G9",
        "colab_type": "code",
        "colab": {}
      },
      "source": [
        "df = pd.DataFrame(x)"
      ],
      "execution_count": 0,
      "outputs": []
    },
    {
      "cell_type": "code",
      "metadata": {
        "id": "ufnRT93tw4tu",
        "colab_type": "code",
        "colab": {
          "base_uri": "https://localhost:8080/",
          "height": 53
        },
        "outputId": "56b02fde-3b0e-4318-cb9d-df66a71575a7"
      },
      "source": [
        "df.memory_usage(index=False) # memoria en bytes"
      ],
      "execution_count": 20,
      "outputs": [
        {
          "output_type": "execute_result",
          "data": {
            "text/plain": [
              "0    52428800\n",
              "dtype: int64"
            ]
          },
          "metadata": {
            "tags": []
          },
          "execution_count": 20
        }
      ]
    },
    {
      "cell_type": "code",
      "metadata": {
        "id": "o7yFahv8w6mN",
        "colab_type": "code",
        "colab": {
          "base_uri": "https://localhost:8080/",
          "height": 53
        },
        "outputId": "cf8eec7b-f852-4023-c9d4-c33e1197be60"
      },
      "source": [
        "df.memory_usage(index=False) // (1024**2) # memoria en Megabytes"
      ],
      "execution_count": 21,
      "outputs": [
        {
          "output_type": "execute_result",
          "data": {
            "text/plain": [
              "0    50\n",
              "dtype: int64"
            ]
          },
          "metadata": {
            "tags": []
          },
          "execution_count": 21
        }
      ]
    },
    {
      "cell_type": "markdown",
      "metadata": {
        "id": "t85OpXpbpi5h",
        "colab_type": "text"
      },
      "source": [
        "## Ejercicio\n",
        " \n",
        "Muestren cual es el uso memoria de generar la siguiente lista de temperaturas en celsius y luego al convertirlas a fahrenheit (para convertir de grados celsius a fahrenheit necesitan multiplicar por 9/5 y sumar 32).\n",
        "\n",
        "1. cual el tamaño de memoria del arreglo `celsius` en MB\n",
        "2. obtener la memoria total en MB que usa el programa __antes__ de ralizar la operacion (usar la funcion `huella_memoria`) \n",
        "3. convertir a fahrenheit\n",
        "2. obtener la memoria total en MB que usa el programa __despues__ de ralizar la operacion (usar la funcion `huella_memoria`) \n",
        "5. cual es la diferencia de memoria consumida?\n",
        "6. Antes de usar el atributo correspondiente para conocer el tamaño en memoria del arreglo `fahrenheit`, cual es su tamaño, en MB\n",
        "7. ahora si comparen con el resultado del atributo"
      ]
    },
    {
      "cell_type": "code",
      "metadata": {
        "id": "0I9trD7znt8l",
        "colab_type": "code",
        "colab": {}
      },
      "source": [
        "celsius = np.arange(-4,0,4/366000)"
      ],
      "execution_count": 0,
      "outputs": []
    },
    {
      "cell_type": "code",
      "metadata": {
        "id": "0_alPh_mqD2V",
        "colab_type": "code",
        "colab": {
          "base_uri": "https://localhost:8080/",
          "height": 53
        },
        "outputId": "01b43f27-e8a7-4dd4-a694-d8422b053425"
      },
      "source": [
        "celsius"
      ],
      "execution_count": 13,
      "outputs": [
        {
          "output_type": "execute_result",
          "data": {
            "text/plain": [
              "array([-4.00000000e+00, -3.99998907e+00, -3.99997814e+00, ...,\n",
              "       -3.27869416e-05, -2.18579799e-05, -1.09290181e-05])"
            ]
          },
          "metadata": {
            "tags": []
          },
          "execution_count": 13
        }
      ]
    },
    {
      "cell_type": "markdown",
      "metadata": {
        "id": "lh7sZWK_xH8w",
        "colab_type": "text"
      },
      "source": [
        "# Datos en partes\n",
        "\n",
        "La memoria disponible y la capacidad de almacenamiento restringen los conjuntos de datos que podemos analizar. Es comun pensar y tratar a los datos en pedazos, partes o _chunks_\n",
        "Veamos un poco como podemos hacer esto"
      ]
    },
    {
      "cell_type": "code",
      "metadata": {
        "id": "dbGRcy2gw9Q3",
        "colab_type": "code",
        "colab": {
          "base_uri": "https://localhost:8080/",
          "height": 178
        },
        "outputId": "718af35c-dc37-4d5f-fbf8-3806cad6b7af"
      },
      "source": [
        "ls -alp sample_data/"
      ],
      "execution_count": 24,
      "outputs": [
        {
          "output_type": "stream",
          "text": [
            "total 55512\n",
            "drwxr-xr-x 1 root root     4096 Apr 29 16:32 \u001b[0m\u001b[01;34m.\u001b[0m/\n",
            "drwxr-xr-x 1 root root     4096 May  6 17:37 \u001b[01;34m..\u001b[0m/\n",
            "-r-xr-xr-x 1 root root     1697 Jan  1  2000 \u001b[01;32manscombe.json\u001b[0m\n",
            "-rw-r--r-- 1 root root   301141 Apr 29 16:32 california_housing_test.csv\n",
            "-rw-r--r-- 1 root root  1706430 Apr 29 16:32 california_housing_train.csv\n",
            "-rw-r--r-- 1 root root 18289443 Apr 29 16:32 mnist_test.csv\n",
            "-rw-r--r-- 1 root root 36523880 Apr 29 16:32 mnist_train_small.csv\n",
            "-r-xr-xr-x 1 root root      903 Jan  1  2000 \u001b[01;32mREADME.md\u001b[0m\n"
          ],
          "name": "stdout"
        }
      ]
    },
    {
      "cell_type": "code",
      "metadata": {
        "id": "farmkHG5xGYi",
        "colab_type": "code",
        "colab": {}
      },
      "source": [
        "archivo = 'sample_data/california_housing_train.csv'"
      ],
      "execution_count": 0,
      "outputs": []
    },
    {
      "cell_type": "code",
      "metadata": {
        "id": "phXpOA0IxWvv",
        "colab_type": "code",
        "colab": {
          "base_uri": "https://localhost:8080/",
          "height": 88
        },
        "outputId": "2a152252-315f-48dd-bc8b-90d9d02915ed"
      },
      "source": [
        "for chunk in pd.read_csv(archivo, chunksize=5000):\n",
        "  print('tipo: %s forma %s' % (type(chunk), chunk.shape))"
      ],
      "execution_count": 40,
      "outputs": [
        {
          "output_type": "stream",
          "text": [
            "tipo: <class 'pandas.core.frame.DataFrame'> forma (5000, 9)\n",
            "tipo: <class 'pandas.core.frame.DataFrame'> forma (5000, 9)\n",
            "tipo: <class 'pandas.core.frame.DataFrame'> forma (5000, 9)\n",
            "tipo: <class 'pandas.core.frame.DataFrame'> forma (2000, 9)\n"
          ],
          "name": "stdout"
        }
      ]
    },
    {
      "cell_type": "code",
      "metadata": {
        "id": "5qxuII5cxs3g",
        "colab_type": "code",
        "colab": {
          "base_uri": "https://localhost:8080/",
          "height": 35
        },
        "outputId": "506631be-1a4f-47a6-9192-a9c4de1697de"
      },
      "source": [
        "chunk.shape"
      ],
      "execution_count": 41,
      "outputs": [
        {
          "output_type": "execute_result",
          "data": {
            "text/plain": [
              "(2000, 9)"
            ]
          },
          "metadata": {
            "tags": []
          },
          "execution_count": 41
        }
      ]
    },
    {
      "cell_type": "code",
      "metadata": {
        "id": "_OLxnXTC5y9P",
        "colab_type": "code",
        "colab": {
          "base_uri": "https://localhost:8080/",
          "height": 267
        },
        "outputId": "52a5e1b5-35c4-4cb1-b1bc-33316e390ed7"
      },
      "source": [
        "chunk.info()"
      ],
      "execution_count": 42,
      "outputs": [
        {
          "output_type": "stream",
          "text": [
            "<class 'pandas.core.frame.DataFrame'>\n",
            "RangeIndex: 2000 entries, 15000 to 16999\n",
            "Data columns (total 9 columns):\n",
            "longitude             2000 non-null float64\n",
            "latitude              2000 non-null float64\n",
            "housing_median_age    2000 non-null float64\n",
            "total_rooms           2000 non-null float64\n",
            "total_bedrooms        2000 non-null float64\n",
            "population            2000 non-null float64\n",
            "households            2000 non-null float64\n",
            "median_income         2000 non-null float64\n",
            "median_house_value    2000 non-null float64\n",
            "dtypes: float64(9)\n",
            "memory usage: 140.7 KB\n"
          ],
          "name": "stdout"
        }
      ]
    },
    {
      "cell_type": "code",
      "metadata": {
        "id": "2Pcmg1Qe507v",
        "colab_type": "code",
        "colab": {}
      },
      "source": [
        "es_casa_vieja = (chunk.housing_median_age > 35)"
      ],
      "execution_count": 0,
      "outputs": []
    },
    {
      "cell_type": "code",
      "metadata": {
        "id": "WH8fpt_h6GMu",
        "colab_type": "code",
        "colab": {
          "base_uri": "https://localhost:8080/",
          "height": 35
        },
        "outputId": "1d5ba1a5-a20b-4af0-c372-19447a8e3001"
      },
      "source": [
        "chunk.loc[es_casa_vieja].shape"
      ],
      "execution_count": 47,
      "outputs": [
        {
          "output_type": "execute_result",
          "data": {
            "text/plain": [
              "(1006, 9)"
            ]
          },
          "metadata": {
            "tags": []
          },
          "execution_count": 47
        }
      ]
    },
    {
      "cell_type": "code",
      "metadata": {
        "id": "7uVquPlM6Irv",
        "colab_type": "code",
        "colab": {}
      },
      "source": [
        "def filtra_es_casa_vieja(data):\n",
        "  '''Returns DataFrame filtering houses over 35 years old'''\n",
        "  es_casa_vieja = (data.housing_median_age > 35)\n",
        "  return data.loc[es_casa_vieja]"
      ],
      "execution_count": 0,
      "outputs": []
    },
    {
      "cell_type": "code",
      "metadata": {
        "id": "43OvtSr38mJc",
        "colab_type": "code",
        "colab": {}
      },
      "source": [
        "chunks = []"
      ],
      "execution_count": 0,
      "outputs": []
    },
    {
      "cell_type": "code",
      "metadata": {
        "id": "xwWpdqg18n1f",
        "colab_type": "code",
        "colab": {}
      },
      "source": [
        "for chunk in pd.read_csv(archivo, chunksize=1000):\n",
        "  chunks.append(filtra_es_casa_vieja(chunk))"
      ],
      "execution_count": 0,
      "outputs": []
    },
    {
      "cell_type": "code",
      "metadata": {
        "id": "VyWpjfIj8xVg",
        "colab_type": "code",
        "colab": {}
      },
      "source": [
        "chunks = [filtra_es_casa_vieja(chunk) for chunk in pd.read_csv(archivo, chunksize=1000) ]"
      ],
      "execution_count": 0,
      "outputs": []
    },
    {
      "cell_type": "code",
      "metadata": {
        "id": "0mYLjpPN87le",
        "colab_type": "code",
        "colab": {
          "base_uri": "https://localhost:8080/",
          "height": 35
        },
        "outputId": "59bd75e5-49a8-48e3-a325-ce7993081678"
      },
      "source": [
        "len(chunks)"
      ],
      "execution_count": 52,
      "outputs": [
        {
          "output_type": "execute_result",
          "data": {
            "text/plain": [
              "17"
            ]
          },
          "metadata": {
            "tags": []
          },
          "execution_count": 52
        }
      ]
    },
    {
      "cell_type": "code",
      "metadata": {
        "id": "xvXVGYAc890j",
        "colab_type": "code",
        "colab": {}
      },
      "source": [
        "lengths = [len(chunk) for chunk in chunks]"
      ],
      "execution_count": 0,
      "outputs": []
    },
    {
      "cell_type": "code",
      "metadata": {
        "id": "LSth60Eo9DYu",
        "colab_type": "code",
        "colab": {
          "base_uri": "https://localhost:8080/",
          "height": 35
        },
        "outputId": "68bd00ca-1ec4-4779-b8b1-83efd3d8bd64"
      },
      "source": [
        "lengths[-5:]"
      ],
      "execution_count": 54,
      "outputs": [
        {
          "output_type": "execute_result",
          "data": {
            "text/plain": [
              "[254, 181, 476, 620, 386]"
            ]
          },
          "metadata": {
            "tags": []
          },
          "execution_count": 54
        }
      ]
    },
    {
      "cell_type": "code",
      "metadata": {
        "id": "uldbrEnR9Fx_",
        "colab_type": "code",
        "colab": {}
      },
      "source": [
        "casas_viejas_df = pd.concat(chunks)"
      ],
      "execution_count": 0,
      "outputs": []
    },
    {
      "cell_type": "code",
      "metadata": {
        "id": "OHfHnS8L9Lau",
        "colab_type": "code",
        "colab": {
          "base_uri": "https://localhost:8080/",
          "height": 35
        },
        "outputId": "cdc4518b-6e99-4c0e-c61b-e96958c13b0a"
      },
      "source": [
        "casas_viejas_df.shape"
      ],
      "execution_count": 56,
      "outputs": [
        {
          "output_type": "execute_result",
          "data": {
            "text/plain": [
              "(5191, 9)"
            ]
          },
          "metadata": {
            "tags": []
          },
          "execution_count": 56
        }
      ]
    },
    {
      "cell_type": "code",
      "metadata": {
        "id": "EiLDWpTL9NT8",
        "colab_type": "code",
        "colab": {}
      },
      "source": [
        "import matplotlib.pyplot as plt"
      ],
      "execution_count": 0,
      "outputs": []
    },
    {
      "cell_type": "code",
      "metadata": {
        "id": "aEd_vI4P9TRc",
        "colab_type": "code",
        "colab": {
          "base_uri": "https://localhost:8080/",
          "height": 296
        },
        "outputId": "85db2fc3-ca61-45c6-db8e-13184ef7d230"
      },
      "source": [
        "casas_viejas_df.plot.scatter(x='total_bedrooms', y='median_income',title='Casas viejas');"
      ],
      "execution_count": 63,
      "outputs": [
        {
          "output_type": "display_data",
          "data": {
            "image/png": "[encoded data removed]",
            "text/plain": [
              "<Figure size 432x288 with 1 Axes>"
            ]
          },
          "metadata": {
            "tags": []
          }
        }
      ]
    },
    {
      "cell_type": "code",
      "metadata": {
        "id": "DfwoFRid99yx",
        "colab_type": "code",
        "colab": {}
      },
      "source": [
        ""
      ],
      "execution_count": 0,
      "outputs": []
    }
  ]
}