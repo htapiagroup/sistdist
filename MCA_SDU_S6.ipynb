{
  "nbformat": 4,
  "nbformat_minor": 0,
  "metadata": {
    "colab": {
      "name": "MCA_SDU_S6.ipynb",
      "version": "0.3.2",
      "provenance": [],
      "include_colab_link": true
    },
    "kernelspec": {
      "name": "python3",
      "display_name": "Python 3"
    }
  },
  "cells": [
    {
      "cell_type": "markdown",
      "metadata": {
        "id": "view-in-github",
        "colab_type": "text"
      },
      "source": [
        "<a href=\"https://colab.research.google.com/github/htapiagroup/sistdist/blob/master/MCA_SDU_S6.ipynb\" target=\"_parent\"><img src=\"https://colab.research.google.com/assets/colab-badge.svg\" alt=\"Open In Colab\"/></a>"
      ]
    },
    {
      "cell_type": "markdown",
      "metadata": {
        "id": "Njn20fpYCb4N",
        "colab_type": "text"
      },
      "source": [
        "# Sistemas Distribuidos y Ubicuos II\n",
        "## MCA Tercer cuatrimestre\n",
        "### Horacio Tapia-McClung\n",
        "\n",
        "## Resumen Semana 5\n",
        "\n",
        "* arreglos multidimensionales con `numpy` y `dask`\n",
        "* DataFrames con `pandas` y `dask`\n",
        "\n",
        "* leyendo multiples archivos de texto (.csv)\n",
        "* construyendo flujos retrasados\n",
        "* cronometraje de operaciones con dataframes, `pandas` vs. `dask`\n",
        "\n",
        "Cuando usar `pandas` y cuando usar `dask`?"
      ]
    },
    {
      "cell_type": "code",
      "metadata": {
        "id": "cKWMqgRCHE0P",
        "colab_type": "code",
        "colab": {
          "base_uri": "https://localhost:8080/",
          "height": 35
        },
        "outputId": "a0ad26a4-f14b-44b8-fa45-ee0d8dacb70d"
      },
      "source": [
        "[k for k in range(1,2)]"
      ],
      "execution_count": 122,
      "outputs": [
        {
          "output_type": "execute_result",
          "data": {
            "text/plain": [
              "[1]"
            ]
          },
          "metadata": {
            "tags": []
          },
          "execution_count": 122
        }
      ]
    },
    {
      "cell_type": "markdown",
      "metadata": {
        "id": "rYRZw6axDvq0",
        "colab_type": "text"
      },
      "source": [
        "# Analizando los viajes en taxi de la Ciudad de NY"
      ]
    },
    {
      "cell_type": "code",
      "metadata": {
        "id": "zOQEt6EpCaUa",
        "colab_type": "code",
        "colab": {}
      },
      "source": [
        "# download taxi data\n",
        "\n",
        "import os\n",
        "plantilla = 'yellow_tripdata_2018-{:02d}.csv'\n",
        "plantillaURL = 'wget https://s3.amazonaws.com/nyc-tlc/trip+data/'+plantilla\n",
        "urls = (plantillaURL.format(k) for k in range(1,13)) # generator\n",
        "for url in urls:\n",
        "  os.system(url)"
      ],
      "execution_count": 0,
      "outputs": []
    },
    {
      "cell_type": "code",
      "metadata": {
        "id": "GKbpWxogEk_B",
        "colab_type": "code",
        "outputId": "05e76d53-a37c-4eb7-d575-3a59d52ed7c1",
        "colab": {
          "base_uri": "https://localhost:8080/",
          "height": 142
        }
      },
      "source": [
        "ls"
      ],
      "execution_count": 0,
      "outputs": [
        {
          "output_type": "stream",
          "text": [
            "\u001b[0m\u001b[01;34msample_data\u001b[0m/                 yellow_tripdata_2018-07.csv\n",
            "yellow_tripdata_2018-01.csv  yellow_tripdata_2018-08.csv\n",
            "yellow_tripdata_2018-02.csv  yellow_tripdata_2018-09.csv\n",
            "yellow_tripdata_2018-03.csv  yellow_tripdata_2018-10.csv\n",
            "yellow_tripdata_2018-04.csv  yellow_tripdata_2018-11.csv\n",
            "yellow_tripdata_2018-05.csv  yellow_tripdata_2018-12.csv\n",
            "yellow_tripdata_2018-06.csv\n"
          ],
          "name": "stdout"
        }
      ]
    },
    {
      "cell_type": "code",
      "metadata": {
        "id": "rCrOpC8DGVfJ",
        "colab_type": "code",
        "outputId": "d43a8f85-70c7-481b-f388-315771cfe5af",
        "colab": {
          "base_uri": "https://localhost:8080/",
          "height": 231
        }
      },
      "source": [
        "%ll -h yellow_tripdata_2018-*.csv"
      ],
      "execution_count": 0,
      "outputs": [
        {
          "output_type": "stream",
          "text": [
            "-rw-r--r-- 1 root 737M Aug  3  2018 yellow_tripdata_2018-01.csv\n",
            "-rw-r--r-- 1 root 715M Aug  3  2018 yellow_tripdata_2018-02.csv\n",
            "-rw-r--r-- 1 root 794M Aug  3  2018 yellow_tripdata_2018-03.csv\n",
            "-rw-r--r-- 1 root 784M Aug  3  2018 yellow_tripdata_2018-04.csv\n",
            "-rw-r--r-- 1 root 777M Aug  3  2018 yellow_tripdata_2018-05.csv\n",
            "-rw-r--r-- 1 root 734M Aug  3  2018 yellow_tripdata_2018-06.csv\n",
            "-rw-r--r-- 1 root 661M Feb  5 15:07 yellow_tripdata_2018-07.csv\n",
            "-rw-r--r-- 1 root 661M Feb  5 15:09 yellow_tripdata_2018-08.csv\n",
            "-rw-r--r-- 1 root 678M Feb  5 15:12 yellow_tripdata_2018-09.csv\n",
            "-rw-r--r-- 1 root 744M Feb  5 15:14 yellow_tripdata_2018-10.csv\n",
            "-rw-r--r-- 1 root 687M Feb  5 15:16 yellow_tripdata_2018-11.csv\n",
            "-rw-r--r-- 1 root 689M Feb  5 15:19 yellow_tripdata_2018-12.csv\n"
          ],
          "name": "stdout"
        }
      ]
    },
    {
      "cell_type": "markdown",
      "metadata": {
        "id": "-3VWzARWEGCQ",
        "colab_type": "text"
      },
      "source": [
        ""
      ]
    },
    {
      "cell_type": "code",
      "metadata": {
        "id": "ajL98MT0Ga5S",
        "colab_type": "code",
        "colab": {}
      },
      "source": [
        "import pandas as pd\n",
        "import numpy as np"
      ],
      "execution_count": 0,
      "outputs": []
    },
    {
      "cell_type": "code",
      "metadata": {
        "id": "uW3y34G7GouT",
        "colab_type": "code",
        "outputId": "cac492de-7c5b-405e-f58f-eedb21454b02",
        "colab": {
          "base_uri": "https://localhost:8080/",
          "height": 35
        }
      },
      "source": [
        "df = pd.read_csv('yellow_tripdata_2018-01.csv')\n",
        "df.shape"
      ],
      "execution_count": 124,
      "outputs": [
        {
          "output_type": "execute_result",
          "data": {
            "text/plain": [
              "(8759874, 17)"
            ]
          },
          "metadata": {
            "tags": []
          },
          "execution_count": 124
        }
      ]
    },
    {
      "cell_type": "code",
      "metadata": {
        "id": "lxkoZIPLGuPy",
        "colab_type": "code",
        "outputId": "0fbc9d79-a304-4484-95ef-4f1e19f7df0f",
        "colab": {
          "base_uri": "https://localhost:8080/",
          "height": 124
        }
      },
      "source": [
        "df.columns"
      ],
      "execution_count": 125,
      "outputs": [
        {
          "output_type": "execute_result",
          "data": {
            "text/plain": [
              "Index(['VendorID', 'tpep_pickup_datetime', 'tpep_dropoff_datetime',\n",
              "       'passenger_count', 'trip_distance', 'RatecodeID', 'store_and_fwd_flag',\n",
              "       'PULocationID', 'DOLocationID', 'payment_type', 'fare_amount', 'extra',\n",
              "       'mta_tax', 'tip_amount', 'tolls_amount', 'improvement_surcharge',\n",
              "       'total_amount'],\n",
              "      dtype='object')"
            ]
          },
          "metadata": {
            "tags": []
          },
          "execution_count": 125
        }
      ]
    },
    {
      "cell_type": "code",
      "metadata": {
        "id": "nuOcKUyLGujA",
        "colab_type": "code",
        "outputId": "0a8cf971-54f3-4130-c35e-ba77fca8f321",
        "colab": {
          "base_uri": "https://localhost:8080/",
          "height": 106
        }
      },
      "source": [
        "df['payment_type'].value_counts()"
      ],
      "execution_count": 126,
      "outputs": [
        {
          "output_type": "execute_result",
          "data": {
            "text/plain": [
              "1    6105871\n",
              "2    2598947\n",
              "3      43204\n",
              "4      11852\n",
              "Name: payment_type, dtype: int64"
            ]
          },
          "metadata": {
            "tags": []
          },
          "execution_count": 126
        }
      ]
    },
    {
      "cell_type": "markdown",
      "metadata": {
        "id": "mN16ftG4GxxF",
        "colab_type": "text"
      },
      "source": [
        "# Using `pandas`"
      ]
    },
    {
      "cell_type": "code",
      "metadata": {
        "id": "wiEIo0O0G35k",
        "colab_type": "code",
        "colab": {}
      },
      "source": [
        "df['tip_fraction'] = df['tip_amount'] / (df['total_amount'] - df['tip_amount'])"
      ],
      "execution_count": 0,
      "outputs": []
    },
    {
      "cell_type": "code",
      "metadata": {
        "id": "lnz6L9EIHXLM",
        "colab_type": "code",
        "colab": {}
      },
      "source": [
        "df['tpep_dropoff_datetime'] = pd.to_datetime(df['tpep_dropoff_datetime'])"
      ],
      "execution_count": 0,
      "outputs": []
    },
    {
      "cell_type": "code",
      "metadata": {
        "id": "uE7bJSKSHZLP",
        "colab_type": "code",
        "colab": {}
      },
      "source": [
        "df['hour'] = df['tpep_dropoff_datetime'].dt.hour"
      ],
      "execution_count": 0,
      "outputs": []
    },
    {
      "cell_type": "code",
      "metadata": {
        "id": "vVw2K2QFHjRd",
        "colab_type": "code",
        "colab": {}
      },
      "source": [
        "# Filter rows where payment_type == 1: credit\n",
        "credit = df[df.payment_type==1]\n",
        "\n",
        "# Group by 'hour' column: hourly\n",
        "hourly = credit.groupby('hour')\n",
        "\n",
        "# Aggregate mean 'tip_fraction' and print its data type\n",
        "result = hourly['tip_fraction'].mean()\n",
        "print(type(result))\n",
        "print(result)"
      ],
      "execution_count": 0,
      "outputs": []
    },
    {
      "cell_type": "code",
      "metadata": {
        "id": "XnUxByMqHrsN",
        "colab_type": "code",
        "colab": {
          "base_uri": "https://localhost:8080/",
          "height": 355
        },
        "outputId": "699d2a96-a999-437d-9101-8fbc5254c90c"
      },
      "source": [
        "import matplotlib.pyplot as plt\n",
        "# Perform the computation\n",
        "tip_frac = result\n",
        "\n",
        "# Print the type of tip_frac\n",
        "print(type(tip_frac))\n",
        "\n",
        "# Generate a line plot using .plot.line()\n",
        "tip_frac.plot.line(style=\"-o\", figsize=(15,5))\n",
        "plt.ylabel('Tip fraction')\n",
        "plt.show()"
      ],
      "execution_count": 141,
      "outputs": [
        {
          "output_type": "stream",
          "text": [
            "<class 'pandas.core.series.Series'>\n"
          ],
          "name": "stdout"
        },
        {
          "output_type": "display_data",
          "data": {
            "image/png": "[encoded data removed]",
            "text/plain": [
              "<Figure size 1080x360 with 1 Axes>"
            ]
          },
          "metadata": {
            "tags": []
          }
        }
      ]
    },
    {
      "cell_type": "code",
      "metadata": {
        "id": "fMOrQzkUIlTk",
        "colab_type": "code",
        "colab": {
          "base_uri": "https://localhost:8080/",
          "height": 124
        },
        "outputId": "0501c2eb-971c-4cb9-e983-2eaa19bc0fc0"
      },
      "source": [
        "df.columns"
      ],
      "execution_count": 136,
      "outputs": [
        {
          "output_type": "execute_result",
          "data": {
            "text/plain": [
              "Index(['VendorID', 'tpep_pickup_datetime', 'tpep_dropoff_datetime',\n",
              "       'passenger_count', 'trip_distance', 'RatecodeID', 'store_and_fwd_flag',\n",
              "       'PULocationID', 'DOLocationID', 'payment_type', 'fare_amount', 'extra',\n",
              "       'mta_tax', 'tip_amount', 'tolls_amount', 'improvement_surcharge',\n",
              "       'total_amount', 'tip_fraction', 'hour'],\n",
              "      dtype='object')"
            ]
          },
          "metadata": {
            "tags": []
          },
          "execution_count": 136
        }
      ]
    },
    {
      "cell_type": "code",
      "metadata": {
        "id": "ExHr8vYmI4bz",
        "colab_type": "code",
        "colab": {}
      },
      "source": [
        "# Group pickups by 'hour' column\n",
        "hourly_pickups = df.groupby('hour')"
      ],
      "execution_count": 0,
      "outputs": []
    },
    {
      "cell_type": "code",
      "metadata": {
        "id": "6vwOKBcjJdgM",
        "colab_type": "code",
        "colab": {}
      },
      "source": [
        "puCount = hourly_pickups['passenger_count'].mean()"
      ],
      "execution_count": 0,
      "outputs": []
    },
    {
      "cell_type": "code",
      "metadata": {
        "id": "cu4CXNRqJntM",
        "colab_type": "code",
        "colab": {
          "base_uri": "https://localhost:8080/",
          "height": 337
        },
        "outputId": "a749c5ab-6d72-45ca-9c08-86921265a437"
      },
      "source": [
        "puCount.plot.line(style=\"-o\", figsize=(15,5))\n",
        "plt.ylabel('Average pickups per hour of day')\n",
        "plt.show()"
      ],
      "execution_count": 140,
      "outputs": [
        {
          "output_type": "display_data",
          "data": {
            "image/png": "[encoded data removed]",
            "text/plain": [
              "<Figure size 1080x360 with 1 Axes>"
            ]
          },
          "metadata": {
            "tags": []
          }
        }
      ]
    },
    {
      "cell_type": "markdown",
      "metadata": {
        "id": "Htgzxw4hIuhH",
        "colab_type": "text"
      },
      "source": [
        "# Using `dask`"
      ]
    },
    {
      "cell_type": "markdown",
      "metadata": {
        "id": "lG61SpwvHCNS",
        "colab_type": "text"
      },
      "source": [
        "## Reading & cleaning files\n",
        "\n",
        "Here you'll be working with a subset of the NYC Taxi Trip data. The first step is to use the Dask dd.read_csv() function to read multiple files at once. Dask will automatically concatenate the contents of the files into a single DataFrame. Notice that you'll use the option assume_missing=True in the call to dd.read_csv() to suppress warning messages.\n",
        "\n",
        "Your job is to use a glob pattern containing the * character to read all of the CSV files from the taxi/ subdirectory into a single Dask DataFrame. You'll then construct a new column called 'tip_fraction' using the 'tip_amount' and 'total_amount' columns. The 'total_amount' is the sum of the fare, other fees, and the tip_amount.\n",
        "\n",
        "## Instrucciones\n",
        "\n",
        "\n",
        " * Read all .csv files from the taxi/ directory (with a wildcard pattern *).\n",
        " * Create a column 'tip_fraction', which is the result of the 'tip_amount' divided by the difference of the 'total_amount' and 'tip_amount' columns.\n",
        " * Convert the 'tpep_dropoff_datetime' column to datetime using dd.to_datetime().\n",
        " * Create a column 'hour' using the .dt.hour attribute of the 'tpep_dropoff_datetime' column.\n"
      ]
    },
    {
      "cell_type": "code",
      "metadata": {
        "id": "gRM8Y8c4G00D",
        "colab_type": "code",
        "colab": {}
      },
      "source": [
        "import dask.dataframe as dd\n",
        "# Read all .csv files: df\n",
        "df = dd.read_csv('taxi/yellow*.csv', assume_missing=True)\n",
        "\n",
        "# Make column 'tip_fraction'\n",
        "df['tip_fraction'] = df['tip_amount'] / (df['total_amount'] - df['tip_amount'])\n",
        "\n",
        "# Convert 'tpep_dropoff_datetime' column to datetime objects\n",
        "df['tpep_dropoff_datetime'] = dd.to_datetime(df['tpep_dropoff_datetime'])\n",
        "\n",
        "# Construct column 'hour'\n",
        "df['hour'] = df['tpep_dropoff_datetime'].dt.hour"
      ],
      "execution_count": 0,
      "outputs": []
    },
    {
      "cell_type": "markdown",
      "metadata": {
        "id": "7v3rGj49HRXT",
        "colab_type": "text"
      },
      "source": [
        "## Filtering & grouping data\n",
        "\n",
        "You have the Dask dataframe df prepared using multiple CSV files from the last exercise. It contains a subset of the 2015 yellow taxi ride data from New York City with some additional columns from preprocessing. Remember, none of the files have actually been loaded, nor has any computation been done to construct the new columns.\n",
        "\n",
        "Your task now is to build a pipeline of computations to compute the hourly average tip fraction for each hour of the day across the entire year of data. You'll have to filter for payments of type 1 (credit card transactions) from the 'payment_type' column, group transactions using the 'hour' column, and finally aggregate the mean from the 'tip_fraction' column.\n",
        "\n",
        "## Instrucciones\n",
        "\n",
        "* Filter out rows where payment_type is 1 and call the resulting dataframe credit.\n",
        "* Group credit using the 'hour' column and call the result 'hourly'.\n",
        "* Select the 'tip_fraction' column and aggregate the mean.\n",
        "* Display the data type of result.\n"
      ]
    },
    {
      "cell_type": "code",
      "metadata": {
        "id": "BMTV-v4pHR8O",
        "colab_type": "code",
        "colab": {}
      },
      "source": [
        "# Filter rows where payment_type == 1: credit\n",
        "credit = df[df.payment_type==1]\n",
        "\n",
        "# Group by 'hour' column: hourly\n",
        "hourly = credit.groupby('hour')\n",
        "\n",
        "# Aggregate mean 'tip_fraction' and print its data type\n",
        "result = hourly['tip_fraction'].mean()\n",
        "print(type(result))"
      ],
      "execution_count": 0,
      "outputs": []
    },
    {
      "cell_type": "markdown",
      "metadata": {
        "id": "OxeF1C4dHek7",
        "colab_type": "text"
      },
      "source": [
        "## Computing & plotting\n",
        "\n",
        "Now that you've got the entire delayed pipeline prepared it's time compute and plot the result. Matplotlib has been imported for you as plt.\n",
        "\n",
        "Warning: The execution of of this exercise is expected to be several seconds.\n",
        "\n",
        "## Instrucciones\n",
        "\n",
        "\n",
        "* Perform the computation on result and assign it to tip_frac.\n",
        "* Print the type of tip_frac.\n",
        "* Hit 'Submit Answer to view the plot.\n"
      ]
    },
    {
      "cell_type": "code",
      "metadata": {
        "id": "wjcHymAbHnk8",
        "colab_type": "code",
        "colab": {}
      },
      "source": [
        "import matplotlib.pyplot as plt\n",
        "# Perform the computation\n",
        "tip_frac = result.compute()\n",
        "\n",
        "# Print the type of tip_frac\n",
        "print(type(tip_frac))\n",
        "\n",
        "# Generate a line plot using .plot.line()\n",
        "tip_frac.plot.line()\n",
        "plt.ylabel('Tip fraction')\n",
        "plt.show()"
      ],
      "execution_count": 0,
      "outputs": []
    },
    {
      "cell_type": "markdown",
      "metadata": {
        "id": "ewpd2FU7IwsW",
        "colab_type": "text"
      },
      "source": [
        "# Exploratory data analysis using `pandas` on a single file with all the 2015 data\n",
        "\n",
        "homework will be using `dask`"
      ]
    },
    {
      "cell_type": "code",
      "metadata": {
        "id": "VlCI2Hwq7h3e",
        "colab_type": "code",
        "colab": {}
      },
      "source": [
        "!wget http://s3.amazonaws.com/datashader-data/nyc_taxi.zip && unzip nyc_taxi.zip "
      ],
      "execution_count": 0,
      "outputs": []
    },
    {
      "cell_type": "code",
      "metadata": {
        "id": "2rCFVF3W76UM",
        "colab_type": "code",
        "colab": {}
      },
      "source": [
        "import pandas as pd\n",
        "%time df = pd.read_csv('nyc_taxi.csv',usecols=['pickup_x', 'pickup_y', 'dropoff_x','dropoff_y', 'passenger_count','tpep_pickup_datetime','tpep_dropoff_datetime','tip_amount','total_amount'], parse_dates=[0, 1])\n",
        "df.tail()"
      ],
      "execution_count": 0,
      "outputs": []
    },
    {
      "cell_type": "markdown",
      "metadata": {
        "id": "rpQ_6-We9x-p",
        "colab_type": "text"
      },
      "source": [
        "## A simple plot"
      ]
    },
    {
      "cell_type": "code",
      "metadata": {
        "id": "E9La7eadSjer",
        "colab_type": "code",
        "colab": {}
      },
      "source": [
        "from bokeh.models import BoxZoomTool\n",
        "from bokeh.plotting import figure, output_notebook, show\n",
        "\n",
        "NYC = x_range, y_range = ((-8242000,-8210000), (4965000,4990000))\n",
        "\n",
        "plot_width  = int(750)\n",
        "plot_height = int(plot_width//1.2)\n",
        "\n",
        "def base_plot(tools='pan,wheel_zoom,reset',plot_width=plot_width, plot_height=plot_height, **plot_args):\n",
        "    p = figure(tools=tools, plot_width=plot_width, plot_height=plot_height,\n",
        "        x_range=x_range, y_range=y_range, outline_line_color=None,\n",
        "        min_border=0, min_border_left=0, min_border_right=0,\n",
        "        min_border_top=0, min_border_bottom=0, **plot_args)\n",
        "\n",
        "    p.axis.visible = False\n",
        "    p.xgrid.grid_line_color = None\n",
        "    p.ygrid.grid_line_color = None\n",
        "\n",
        "    p.add_tools(BoxZoomTool(match_aspect=True))\n",
        "\n",
        "    return p\n",
        "\n",
        "options = dict(line_color=None, fill_color='blue', size=5)"
      ],
      "execution_count": 0,
      "outputs": []
    },
    {
      "cell_type": "code",
      "metadata": {
        "id": "kz74hFHt9Ydb",
        "colab_type": "code",
        "colab": {
          "base_uri": "https://localhost:8080/",
          "height": 708
        },
        "outputId": "7f4bbf55-4c8c-44f6-8d5c-eb673d663b41"
      },
      "source": [
        "%%time\n",
        "from bokeh.tile_providers import STAMEN_TERRAIN\n",
        "\n",
        "output_notebook()\n",
        "\n",
        "samples = df.sample(n=1000)\n",
        "p = base_plot()\n",
        "p.add_tile(STAMEN_TERRAIN)\n",
        "p.circle(x=samples['dropoff_x'], y=samples['dropoff_y'], **options)\n",
        "show(p)"
      ],
      "execution_count": 99,
      "outputs": [
        {
          "output_type": "display_data",
          "data": {
            "text/html": [
              "\n",
              "    <div class=\"bk-root\">\n",
              "        <a href=\"https://bokeh.pydata.org\" target=\"_blank\" class=\"bk-logo bk-logo-small bk-logo-notebook\"></a>\n",
              "        <span id=\"1104\">Loading BokehJS ...</span>\n",
              "    </div>"
            ]
          },
          "metadata": {
            "tags": []
          }
        },
        {
          "output_type": "display_data",
          "data": {
            "application/javascript": [
              "\n",
              "(function(root) {\n",
              "  function now() {\n",
              "    return new Date();\n",
              "  }\n",
              "\n",
              "  var force = true;\n",
              "\n",
              "  if (typeof (root._bokeh_onload_callbacks) === \"undefined\" || force === true) {\n",
              "    root._bokeh_onload_callbacks = [];\n",
              "    root._bokeh_is_loading = undefined;\n",
              "  }\n",
              "\n",
              "  var JS_MIME_TYPE = 'application/javascript';\n",
              "  var HTML_MIME_TYPE = 'text/html';\n",
              "  var EXEC_MIME_TYPE = 'application/vnd.bokehjs_exec.v0+json';\n",
              "  var CLASS_NAME = 'output_bokeh rendered_html';\n",
              "\n",
              "  /**\n",
              "   * Render data to the DOM node\n",
              "   */\n",
              "  function render(props, node) {\n",
              "    var script = document.createElement(\"script\");\n",
              "    node.appendChild(script);\n",
              "  }\n",
              "\n",
              "  /**\n",
              "   * Handle when an output is cleared or removed\n",
              "   */\n",
              "  function handleClearOutput(event, handle) {\n",
              "    var cell = handle.cell;\n",
              "\n",
              "    var id = cell.output_area._bokeh_element_id;\n",
              "    var server_id = cell.output_area._bokeh_server_id;\n",
              "    // Clean up Bokeh references\n",
              "    if (id != null && id in Bokeh.index) {\n",
              "      Bokeh.index[id].model.document.clear();\n",
              "      delete Bokeh.index[id];\n",
              "    }\n",
              "\n",
              "    if (server_id !== undefined) {\n",
              "      // Clean up Bokeh references\n",
              "      var cmd = \"from bokeh.io.state import curstate; print(curstate().uuid_to_server['\" + server_id + \"'].get_sessions()[0].document.roots[0]._id)\";\n",
              "      cell.notebook.kernel.execute(cmd, {\n",
              "        iopub: {\n",
              "          output: function(msg) {\n",
              "            var id = msg.content.text.trim();\n",
              "            if (id in Bokeh.index) {\n",
              "              Bokeh.index[id].model.document.clear();\n",
              "              delete Bokeh.index[id];\n",
              "            }\n",
              "          }\n",
              "        }\n",
              "      });\n",
              "      // Destroy server and session\n",
              "      var cmd = \"import bokeh.io.notebook as ion; ion.destroy_server('\" + server_id + \"')\";\n",
              "      cell.notebook.kernel.execute(cmd);\n",
              "    }\n",
              "  }\n",
              "\n",
              "  /**\n",
              "   * Handle when a new output is added\n",
              "   */\n",
              "  function handleAddOutput(event, handle) {\n",
              "    var output_area = handle.output_area;\n",
              "    var output = handle.output;\n",
              "\n",
              "    // limit handleAddOutput to display_data with EXEC_MIME_TYPE content only\n",
              "    if ((output.output_type != \"display_data\") || (!output.data.hasOwnProperty(EXEC_MIME_TYPE))) {\n",
              "      return\n",
              "    }\n",
              "\n",
              "    var toinsert = output_area.element.find(\".\" + CLASS_NAME.split(' ')[0]);\n",
              "\n",
              "    if (output.metadata[EXEC_MIME_TYPE][\"id\"] !== undefined) {\n",
              "      toinsert[toinsert.length - 1].firstChild.textContent = output.data[JS_MIME_TYPE];\n",
              "      // store reference to embed id on output_area\n",
              "      output_area._bokeh_element_id = output.metadata[EXEC_MIME_TYPE][\"id\"];\n",
              "    }\n",
              "    if (output.metadata[EXEC_MIME_TYPE][\"server_id\"] !== undefined) {\n",
              "      var bk_div = document.createElement(\"div\");\n",
              "      bk_div.innerHTML = output.data[HTML_MIME_TYPE];\n",
              "      var script_attrs = bk_div.children[0].attributes;\n",
              "      for (var i = 0; i < script_attrs.length; i++) {\n",
              "        toinsert[toinsert.length - 1].firstChild.setAttribute(script_attrs[i].name, script_attrs[i].value);\n",
              "      }\n",
              "      // store reference to server id on output_area\n",
              "      output_area._bokeh_server_id = output.metadata[EXEC_MIME_TYPE][\"server_id\"];\n",
              "    }\n",
              "  }\n",
              "\n",
              "  function register_renderer(events, OutputArea) {\n",
              "\n",
              "    function append_mime(data, metadata, element) {\n",
              "      // create a DOM node to render to\n",
              "      var toinsert = this.create_output_subarea(\n",
              "        metadata,\n",
              "        CLASS_NAME,\n",
              "        EXEC_MIME_TYPE\n",
              "      );\n",
              "      this.keyboard_manager.register_events(toinsert);\n",
              "      // Render to node\n",
              "      var props = {data: data, metadata: metadata[EXEC_MIME_TYPE]};\n",
              "      render(props, toinsert[toinsert.length - 1]);\n",
              "      element.append(toinsert);\n",
              "      return toinsert\n",
              "    }\n",
              "\n",
              "    /* Handle when an output is cleared or removed */\n",
              "    events.on('clear_output.CodeCell', handleClearOutput);\n",
              "    events.on('delete.Cell', handleClearOutput);\n",
              "\n",
              "    /* Handle when a new output is added */\n",
              "    events.on('output_added.OutputArea', handleAddOutput);\n",
              "\n",
              "    /**\n",
              "     * Register the mime type and append_mime function with output_area\n",
              "     */\n",
              "    OutputArea.prototype.register_mime_type(EXEC_MIME_TYPE, append_mime, {\n",
              "      /* Is output safe? */\n",
              "      safe: true,\n",
              "      /* Index of renderer in `output_area.display_order` */\n",
              "      index: 0\n",
              "    });\n",
              "  }\n",
              "\n",
              "  // register the mime type if in Jupyter Notebook environment and previously unregistered\n",
              "  if (root.Jupyter !== undefined) {\n",
              "    var events = require('base/js/events');\n",
              "    var OutputArea = require('notebook/js/outputarea').OutputArea;\n",
              "\n",
              "    if (OutputArea.prototype.mime_types().indexOf(EXEC_MIME_TYPE) == -1) {\n",
              "      register_renderer(events, OutputArea);\n",
              "    }\n",
              "  }\n",
              "\n",
              "  \n",
              "  if (typeof (root._bokeh_timeout) === \"undefined\" || force === true) {\n",
              "    root._bokeh_timeout = Date.now() + 5000;\n",
              "    root._bokeh_failed_load = false;\n",
              "  }\n",
              "\n",
              "  var NB_LOAD_WARNING = {'data': {'text/html':\n",
              "     \"<div style='background-color: #fdd'>\\n\"+\n",
              "     \"<p>\\n\"+\n",
              "     \"BokehJS does not appear to have successfully loaded. If loading BokehJS from CDN, this \\n\"+\n",
              "     \"may be due to a slow or bad network connection. Possible fixes:\\n\"+\n",
              "     \"</p>\\n\"+\n",
              "     \"<ul>\\n\"+\n",
              "     \"<li>re-rerun `output_notebook()` to attempt to load from CDN again, or</li>\\n\"+\n",
              "     \"<li>use INLINE resources instead, as so:</li>\\n\"+\n",
              "     \"</ul>\\n\"+\n",
              "     \"<code>\\n\"+\n",
              "     \"from bokeh.resources import INLINE\\n\"+\n",
              "     \"output_notebook(resources=INLINE)\\n\"+\n",
              "     \"</code>\\n\"+\n",
              "     \"</div>\"}};\n",
              "\n",
              "  function display_loaded() {\n",
              "    var el = document.getElementById(\"1104\");\n",
              "    if (el != null) {\n",
              "      el.textContent = \"BokehJS is loading...\";\n",
              "    }\n",
              "    if (root.Bokeh !== undefined) {\n",
              "      if (el != null) {\n",
              "        el.textContent = \"BokehJS \" + root.Bokeh.version + \" successfully loaded.\";\n",
              "      }\n",
              "    } else if (Date.now() < root._bokeh_timeout) {\n",
              "      setTimeout(display_loaded, 100)\n",
              "    }\n",
              "  }\n",
              "\n",
              "\n",
              "  function run_callbacks() {\n",
              "    try {\n",
              "      root._bokeh_onload_callbacks.forEach(function(callback) { callback() });\n",
              "    }\n",
              "    finally {\n",
              "      delete root._bokeh_onload_callbacks\n",
              "    }\n",
              "    console.info(\"Bokeh: all callbacks have finished\");\n",
              "  }\n",
              "\n",
              "  function load_libs(js_urls, callback) {\n",
              "    root._bokeh_onload_callbacks.push(callback);\n",
              "    if (root._bokeh_is_loading > 0) {\n",
              "      console.log(\"Bokeh: BokehJS is being loaded, scheduling callback at\", now());\n",
              "      return null;\n",
              "    }\n",
              "    if (js_urls == null || js_urls.length === 0) {\n",
              "      run_callbacks();\n",
              "      return null;\n",
              "    }\n",
              "    console.log(\"Bokeh: BokehJS not loaded, scheduling load and callback at\", now());\n",
              "    root._bokeh_is_loading = js_urls.length;\n",
              "    for (var i = 0; i < js_urls.length; i++) {\n",
              "      var url = js_urls[i];\n",
              "      var s = document.createElement('script');\n",
              "      s.src = url;\n",
              "      s.async = false;\n",
              "      s.onreadystatechange = s.onload = function() {\n",
              "        root._bokeh_is_loading--;\n",
              "        if (root._bokeh_is_loading === 0) {\n",
              "          console.log(\"Bokeh: all BokehJS libraries loaded\");\n",
              "          run_callbacks()\n",
              "        }\n",
              "      };\n",
              "      s.onerror = function() {\n",
              "        console.warn(\"failed to load library \" + url);\n",
              "      };\n",
              "      console.log(\"Bokeh: injecting script tag for BokehJS library: \", url);\n",
              "      document.getElementsByTagName(\"head\")[0].appendChild(s);\n",
              "    }\n",
              "  };var element = document.getElementById(\"1104\");\n",
              "  if (element == null) {\n",
              "    console.log(\"Bokeh: ERROR: autoload.js configured with elementid '1104' but no matching script tag was found. \")\n",
              "    return false;\n",
              "  }\n",
              "\n",
              "  var js_urls = [\"https://cdn.pydata.org/bokeh/release/bokeh-1.0.4.min.js\", \"https://cdn.pydata.org/bokeh/release/bokeh-widgets-1.0.4.min.js\", \"https://cdn.pydata.org/bokeh/release/bokeh-tables-1.0.4.min.js\", \"https://cdn.pydata.org/bokeh/release/bokeh-gl-1.0.4.min.js\"];\n",
              "\n",
              "  var inline_js = [\n",
              "    function(Bokeh) {\n",
              "      Bokeh.set_log_level(\"info\");\n",
              "    },\n",
              "    \n",
              "    function(Bokeh) {\n",
              "      \n",
              "    },\n",
              "    function(Bokeh) {\n",
              "      console.log(\"Bokeh: injecting CSS: https://cdn.pydata.org/bokeh/release/bokeh-1.0.4.min.css\");\n",
              "      Bokeh.embed.inject_css(\"https://cdn.pydata.org/bokeh/release/bokeh-1.0.4.min.css\");\n",
              "      console.log(\"Bokeh: injecting CSS: https://cdn.pydata.org/bokeh/release/bokeh-widgets-1.0.4.min.css\");\n",
              "      Bokeh.embed.inject_css(\"https://cdn.pydata.org/bokeh/release/bokeh-widgets-1.0.4.min.css\");\n",
              "      console.log(\"Bokeh: injecting CSS: https://cdn.pydata.org/bokeh/release/bokeh-tables-1.0.4.min.css\");\n",
              "      Bokeh.embed.inject_css(\"https://cdn.pydata.org/bokeh/release/bokeh-tables-1.0.4.min.css\");\n",
              "    }\n",
              "  ];\n",
              "\n",
              "  function run_inline_js() {\n",
              "    \n",
              "    if ((root.Bokeh !== undefined) || (force === true)) {\n",
              "      for (var i = 0; i < inline_js.length; i++) {\n",
              "        inline_js[i].call(root, root.Bokeh);\n",
              "      }if (force === true) {\n",
              "        display_loaded();\n",
              "      }} else if (Date.now() < root._bokeh_timeout) {\n",
              "      setTimeout(run_inline_js, 100);\n",
              "    } else if (!root._bokeh_failed_load) {\n",
              "      console.log(\"Bokeh: BokehJS failed to load within specified timeout.\");\n",
              "      root._bokeh_failed_load = true;\n",
              "    } else if (force !== true) {\n",
              "      var cell = $(document.getElementById(\"1104\")).parents('.cell').data().cell;\n",
              "      cell.output_area.append_execute_result(NB_LOAD_WARNING)\n",
              "    }\n",
              "\n",
              "  }\n",
              "\n",
              "  if (root._bokeh_is_loading === 0) {\n",
              "    console.log(\"Bokeh: BokehJS loaded, going straight to plotting\");\n",
              "    run_inline_js();\n",
              "  } else {\n",
              "    load_libs(js_urls, function() {\n",
              "      console.log(\"Bokeh: BokehJS plotting callback run at\", now());\n",
              "      run_inline_js();\n",
              "    });\n",
              "  }\n",
              "}(window));"
            ],
            "application/vnd.bokehjs_load.v0+json": "\n(function(root) {\n  function now() {\n    return new Date();\n  }\n\n  var force = true;\n\n  if (typeof (root._bokeh_onload_callbacks) === \"undefined\" || force === true) {\n    root._bokeh_onload_callbacks = [];\n    root._bokeh_is_loading = undefined;\n  }\n\n  \n\n  \n  if (typeof (root._bokeh_timeout) === \"undefined\" || force === true) {\n    root._bokeh_timeout = Date.now() + 5000;\n    root._bokeh_failed_load = false;\n  }\n\n  var NB_LOAD_WARNING = {'data': {'text/html':\n     \"<div style='background-color: #fdd'>\\n\"+\n     \"<p>\\n\"+\n     \"BokehJS does not appear to have successfully loaded. If loading BokehJS from CDN, this \\n\"+\n     \"may be due to a slow or bad network connection. Possible fixes:\\n\"+\n     \"</p>\\n\"+\n     \"<ul>\\n\"+\n     \"<li>re-rerun `output_notebook()` to attempt to load from CDN again, or</li>\\n\"+\n     \"<li>use INLINE resources instead, as so:</li>\\n\"+\n     \"</ul>\\n\"+\n     \"<code>\\n\"+\n     \"from bokeh.resources import INLINE\\n\"+\n     \"output_notebook(resources=INLINE)\\n\"+\n     \"</code>\\n\"+\n     \"</div>\"}};\n\n  function display_loaded() {\n    var el = document.getElementById(\"1104\");\n    if (el != null) {\n      el.textContent = \"BokehJS is loading...\";\n    }\n    if (root.Bokeh !== undefined) {\n      if (el != null) {\n        el.textContent = \"BokehJS \" + root.Bokeh.version + \" successfully loaded.\";\n      }\n    } else if (Date.now() < root._bokeh_timeout) {\n      setTimeout(display_loaded, 100)\n    }\n  }\n\n\n  function run_callbacks() {\n    try {\n      root._bokeh_onload_callbacks.forEach(function(callback) { callback() });\n    }\n    finally {\n      delete root._bokeh_onload_callbacks\n    }\n    console.info(\"Bokeh: all callbacks have finished\");\n  }\n\n  function load_libs(js_urls, callback) {\n    root._bokeh_onload_callbacks.push(callback);\n    if (root._bokeh_is_loading > 0) {\n      console.log(\"Bokeh: BokehJS is being loaded, scheduling callback at\", now());\n      return null;\n    }\n    if (js_urls == null || js_urls.length === 0) {\n      run_callbacks();\n      return null;\n    }\n    console.log(\"Bokeh: BokehJS not loaded, scheduling load and callback at\", now());\n    root._bokeh_is_loading = js_urls.length;\n    for (var i = 0; i < js_urls.length; i++) {\n      var url = js_urls[i];\n      var s = document.createElement('script');\n      s.src = url;\n      s.async = false;\n      s.onreadystatechange = s.onload = function() {\n        root._bokeh_is_loading--;\n        if (root._bokeh_is_loading === 0) {\n          console.log(\"Bokeh: all BokehJS libraries loaded\");\n          run_callbacks()\n        }\n      };\n      s.onerror = function() {\n        console.warn(\"failed to load library \" + url);\n      };\n      console.log(\"Bokeh: injecting script tag for BokehJS library: \", url);\n      document.getElementsByTagName(\"head\")[0].appendChild(s);\n    }\n  };var element = document.getElementById(\"1104\");\n  if (element == null) {\n    console.log(\"Bokeh: ERROR: autoload.js configured with elementid '1104' but no matching script tag was found. \")\n    return false;\n  }\n\n  var js_urls = [\"https://cdn.pydata.org/bokeh/release/bokeh-1.0.4.min.js\", \"https://cdn.pydata.org/bokeh/release/bokeh-widgets-1.0.4.min.js\", \"https://cdn.pydata.org/bokeh/release/bokeh-tables-1.0.4.min.js\", \"https://cdn.pydata.org/bokeh/release/bokeh-gl-1.0.4.min.js\"];\n\n  var inline_js = [\n    function(Bokeh) {\n      Bokeh.set_log_level(\"info\");\n    },\n    \n    function(Bokeh) {\n      \n    },\n    function(Bokeh) {\n      console.log(\"Bokeh: injecting CSS: https://cdn.pydata.org/bokeh/release/bokeh-1.0.4.min.css\");\n      Bokeh.embed.inject_css(\"https://cdn.pydata.org/bokeh/release/bokeh-1.0.4.min.css\");\n      console.log(\"Bokeh: injecting CSS: https://cdn.pydata.org/bokeh/release/bokeh-widgets-1.0.4.min.css\");\n      Bokeh.embed.inject_css(\"https://cdn.pydata.org/bokeh/release/bokeh-widgets-1.0.4.min.css\");\n      console.log(\"Bokeh: injecting CSS: https://cdn.pydata.org/bokeh/release/bokeh-tables-1.0.4.min.css\");\n      Bokeh.embed.inject_css(\"https://cdn.pydata.org/bokeh/release/bokeh-tables-1.0.4.min.css\");\n    }\n  ];\n\n  function run_inline_js() {\n    \n    if ((root.Bokeh !== undefined) || (force === true)) {\n      for (var i = 0; i < inline_js.length; i++) {\n        inline_js[i].call(root, root.Bokeh);\n      }if (force === true) {\n        display_loaded();\n      }} else if (Date.now() < root._bokeh_timeout) {\n      setTimeout(run_inline_js, 100);\n    } else if (!root._bokeh_failed_load) {\n      console.log(\"Bokeh: BokehJS failed to load within specified timeout.\");\n      root._bokeh_failed_load = true;\n    } else if (force !== true) {\n      var cell = $(document.getElementById(\"1104\")).parents('.cell').data().cell;\n      cell.output_area.append_execute_result(NB_LOAD_WARNING)\n    }\n\n  }\n\n  if (root._bokeh_is_loading === 0) {\n    console.log(\"Bokeh: BokehJS loaded, going straight to plotting\");\n    run_inline_js();\n  } else {\n    load_libs(js_urls, function() {\n      console.log(\"Bokeh: BokehJS plotting callback run at\", now());\n      run_inline_js();\n    });\n  }\n}(window));"
          },
          "metadata": {
            "tags": []
          }
        },
        {
          "output_type": "display_data",
          "data": {
            "text/html": [
              "\n",
              "\n",
              "\n",
              "\n",
              "\n",
              "\n",
              "  <div class=\"bk-root\" id=\"0997bad1-4731-4713-9daa-869051aa6e0b\" data-root-id=\"1105\"></div>\n"
            ]
          },
          "metadata": {
            "tags": []
          }
        },
        {
          "output_type": "display_data",
          "data": {
            "application/javascript": [
              "(function(root) {\n",
              "  function embed_document(root) {\n",
              "    \n",
              "  var docs_json = {\"41bd3494-7578-4996-8bfd-28f6a4f3e5bf\":{\"roots\":{\"references\":[{\"attributes\":{\"below\":[{\"id\":\"1114\",\"type\":\"LinearAxis\"}],\"left\":[{\"id\":\"1119\",\"type\":\"LinearAxis\"}],\"min_border\":0,\"min_border_bottom\":0,\"min_border_left\":0,\"min_border_right\":0,\"min_border_top\":0,\"outline_line_color\":{\"value\":null},\"plot_height\":625,\"plot_width\":750,\"renderers\":[{\"id\":\"1114\",\"type\":\"LinearAxis\"},{\"id\":\"1118\",\"type\":\"Grid\"},{\"id\":\"1119\",\"type\":\"LinearAxis\"},{\"id\":\"1123\",\"type\":\"Grid\"},{\"id\":\"1132\",\"type\":\"BoxAnnotation\"},{\"id\":\"1135\",\"type\":\"TileRenderer\"},{\"id\":\"1140\",\"type\":\"GlyphRenderer\"}],\"title\":{\"id\":\"1151\",\"type\":\"Title\"},\"toolbar\":{\"id\":\"1127\",\"type\":\"Toolbar\"},\"x_range\":{\"id\":\"1106\",\"type\":\"Range1d\"},\"x_scale\":{\"id\":\"1110\",\"type\":\"LinearScale\"},\"y_range\":{\"id\":\"1108\",\"type\":\"Range1d\"},\"y_scale\":{\"id\":\"1112\",\"type\":\"LinearScale\"}},\"id\":\"1105\",\"subtype\":\"Figure\",\"type\":\"Plot\"},{\"attributes\":{},\"id\":\"1153\",\"type\":\"BasicTickFormatter\"},{\"attributes\":{\"fill_alpha\":{\"value\":0.1},\"fill_color\":{\"value\":\"#1f77b4\"},\"line_alpha\":{\"value\":0.1},\"line_color\":{\"value\":\"#1f77b4\"},\"size\":{\"units\":\"screen\",\"value\":5},\"x\":{\"field\":\"x\"},\"y\":{\"field\":\"y\"}},\"id\":\"1139\",\"type\":\"Circle\"},{\"attributes\":{},\"id\":\"1158\",\"type\":\"UnionRenderers\"},{\"attributes\":{\"tile_source\":{\"id\":\"1103\",\"type\":\"WMTSTileSource\"}},\"id\":\"1135\",\"type\":\"TileRenderer\"},{\"attributes\":{},\"id\":\"1120\",\"type\":\"BasicTicker\"},{\"attributes\":{},\"id\":\"1110\",\"type\":\"LinearScale\"},{\"attributes\":{},\"id\":\"1155\",\"type\":\"BasicTickFormatter\"},{\"attributes\":{\"fill_color\":{\"value\":\"blue\"},\"line_color\":{\"value\":null},\"size\":{\"units\":\"screen\",\"value\":5},\"x\":{\"field\":\"x\"},\"y\":{\"field\":\"y\"}},\"id\":\"1138\",\"type\":\"Circle\"},{\"attributes\":{},\"id\":\"1159\",\"type\":\"Selection\"},{\"attributes\":{},\"id\":\"1112\",\"type\":\"LinearScale\"},{\"attributes\":{\"match_aspect\":true,\"overlay\":{\"id\":\"1132\",\"type\":\"BoxAnnotation\"}},\"id\":\"1131\",\"type\":\"BoxZoomTool\"},{\"attributes\":{\"dimension\":1,\"grid_line_color\":{\"value\":null},\"plot\":{\"id\":\"1105\",\"subtype\":\"Figure\",\"type\":\"Plot\"},\"ticker\":{\"id\":\"1120\",\"type\":\"BasicTicker\"}},\"id\":\"1123\",\"type\":\"Grid\"},{\"attributes\":{\"plot\":null,\"text\":\"\"},\"id\":\"1151\",\"type\":\"Title\"},{\"attributes\":{\"active_drag\":\"auto\",\"active_inspect\":\"auto\",\"active_multi\":null,\"active_scroll\":\"auto\",\"active_tap\":\"auto\",\"tools\":[{\"id\":\"1124\",\"type\":\"PanTool\"},{\"id\":\"1125\",\"type\":\"WheelZoomTool\"},{\"id\":\"1126\",\"type\":\"ResetTool\"},{\"id\":\"1131\",\"type\":\"BoxZoomTool\"}]},\"id\":\"1127\",\"type\":\"Toolbar\"},{\"attributes\":{\"attribution\":\"Map tiles by <a href=\\\"https://stamen.com\\\">Stamen Design</a>, under <a href=\\\"https://creativecommons.org/licenses/by/3.0\\\">CC BY 3.0</a>. Data by <a href=\\\"https://openstreetmap.org\\\">OpenStreetMap</a>, under <a href=\\\"https://creativecommons.org/licenses/by-sa/3.0\\\">CC BY SA</a>.\",\"url\":\"http://tile.stamen.com/terrain/{Z}/{X}/{Y}.png\"},\"id\":\"1103\",\"type\":\"WMTSTileSource\"},{\"attributes\":{},\"id\":\"1125\",\"type\":\"WheelZoomTool\"},{\"attributes\":{\"formatter\":{\"id\":\"1155\",\"type\":\"BasicTickFormatter\"},\"plot\":{\"id\":\"1105\",\"subtype\":\"Figure\",\"type\":\"Plot\"},\"ticker\":{\"id\":\"1120\",\"type\":\"BasicTicker\"},\"visible\":false},\"id\":\"1119\",\"type\":\"LinearAxis\"},{\"attributes\":{\"callback\":null,\"data\":{\"x\":{\"__ndarray__\":\"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\",\"dtype\":\"float64\",\"shape\":[1000]},\"y\":{\"__ndarray__\":\"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\",\"dtype\":\"float64\",\"shape\":[1000]}},\"selected\":{\"id\":\"1159\",\"type\":\"Selection\"},\"selection_policy\":{\"id\":\"1158\",\"type\":\"UnionRenderers\"}},\"id\":\"1137\",\"type\":\"ColumnDataSource\"},{\"attributes\":{},\"id\":\"1124\",\"type\":\"PanTool\"},{\"attributes\":{\"bottom_units\":\"screen\",\"fill_alpha\":{\"value\":0.5},\"fill_color\":{\"value\":\"lightgrey\"},\"left_units\":\"screen\",\"level\":\"overlay\",\"line_alpha\":{\"value\":1.0},\"line_color\":{\"value\":\"black\"},\"line_dash\":[4,4],\"line_width\":{\"value\":2},\"plot\":null,\"render_mode\":\"css\",\"right_units\":\"screen\",\"top_units\":\"screen\"},\"id\":\"1132\",\"type\":\"BoxAnnotation\"},{\"attributes\":{\"data_source\":{\"id\":\"1137\",\"type\":\"ColumnDataSource\"},\"glyph\":{\"id\":\"1138\",\"type\":\"Circle\"},\"hover_glyph\":null,\"muted_glyph\":null,\"nonselection_glyph\":{\"id\":\"1139\",\"type\":\"Circle\"},\"selection_glyph\":null,\"view\":{\"id\":\"1141\",\"type\":\"CDSView\"}},\"id\":\"1140\",\"type\":\"GlyphRenderer\"},{\"attributes\":{\"callback\":null,\"end\":4990000,\"start\":4965000},\"id\":\"1108\",\"type\":\"Range1d\"},{\"attributes\":{\"formatter\":{\"id\":\"1153\",\"type\":\"BasicTickFormatter\"},\"plot\":{\"id\":\"1105\",\"subtype\":\"Figure\",\"type\":\"Plot\"},\"ticker\":{\"id\":\"1115\",\"type\":\"BasicTicker\"},\"visible\":false},\"id\":\"1114\",\"type\":\"LinearAxis\"},{\"attributes\":{},\"id\":\"1126\",\"type\":\"ResetTool\"},{\"attributes\":{\"source\":{\"id\":\"1137\",\"type\":\"ColumnDataSource\"}},\"id\":\"1141\",\"type\":\"CDSView\"},{\"attributes\":{\"grid_line_color\":{\"value\":null},\"plot\":{\"id\":\"1105\",\"subtype\":\"Figure\",\"type\":\"Plot\"},\"ticker\":{\"id\":\"1115\",\"type\":\"BasicTicker\"}},\"id\":\"1118\",\"type\":\"Grid\"},{\"attributes\":{},\"id\":\"1115\",\"type\":\"BasicTicker\"},{\"attributes\":{\"callback\":null,\"end\":-8210000,\"start\":-8242000},\"id\":\"1106\",\"type\":\"Range1d\"}],\"root_ids\":[\"1105\"]},\"title\":\"Bokeh Application\",\"version\":\"1.0.4\"}};\n",
              "  var render_items = [{\"docid\":\"41bd3494-7578-4996-8bfd-28f6a4f3e5bf\",\"roots\":{\"1105\":\"0997bad1-4731-4713-9daa-869051aa6e0b\"}}];\n",
              "  root.Bokeh.embed.embed_items_notebook(docs_json, render_items);\n",
              "\n",
              "  }\n",
              "  if (root.Bokeh !== undefined) {\n",
              "    embed_document(root);\n",
              "  } else {\n",
              "    var attempts = 0;\n",
              "    var timer = setInterval(function(root) {\n",
              "      if (root.Bokeh !== undefined) {\n",
              "        embed_document(root);\n",
              "        clearInterval(timer);\n",
              "      }\n",
              "      attempts++;\n",
              "      if (attempts > 100) {\n",
              "        console.log(\"Bokeh: ERROR: Unable to run BokehJS code because BokehJS library is missing\");\n",
              "        clearInterval(timer);\n",
              "      }\n",
              "    }, 10, root)\n",
              "  }\n",
              "})(window);"
            ],
            "application/vnd.bokehjs_exec.v0+json": ""
          },
          "metadata": {
            "tags": [],
            "application/vnd.bokehjs_exec.v0+json": {
              "id": "1105"
            }
          }
        },
        {
          "output_type": "stream",
          "text": [
            "CPU times: user 705 ms, sys: 23.1 ms, total: 728 ms\n",
            "Wall time: 737 ms\n"
          ],
          "name": "stdout"
        }
      ]
    },
    {
      "cell_type": "markdown",
      "metadata": {
        "id": "FIv4GpJP90rV",
        "colab_type": "text"
      },
      "source": [
        "## A simple analysis"
      ]
    },
    {
      "cell_type": "code",
      "metadata": {
        "id": "q0XAqx8_9bD7",
        "colab_type": "code",
        "outputId": "7ce3c308-6908-44c5-d9f6-489ad6081523",
        "colab": {
          "base_uri": "https://localhost:8080/",
          "height": 71
        }
      },
      "source": [
        "df.columns"
      ],
      "execution_count": 103,
      "outputs": [
        {
          "output_type": "execute_result",
          "data": {
            "text/plain": [
              "Index(['tpep_pickup_datetime', 'tpep_dropoff_datetime', 'passenger_count',\n",
              "       'pickup_x', 'pickup_y', 'dropoff_x', 'dropoff_y'],\n",
              "      dtype='object')"
            ]
          },
          "metadata": {
            "tags": []
          },
          "execution_count": 103
        }
      ]
    },
    {
      "cell_type": "code",
      "metadata": {
        "id": "dOygIBgxDLiR",
        "colab_type": "code",
        "colab": {}
      },
      "source": [
        "df['duration'] = (df.tpep_dropoff_datetime - df.tpep_pickup_datetime).dt.seconds"
      ],
      "execution_count": 0,
      "outputs": []
    },
    {
      "cell_type": "code",
      "metadata": {
        "id": "hA3iiOb7E7xw",
        "colab_type": "code",
        "colab": {}
      },
      "source": [
        "is_long_trip = df.duration > 1200"
      ],
      "execution_count": 0,
      "outputs": []
    },
    {
      "cell_type": "code",
      "metadata": {
        "id": "3d-w4czEFksa",
        "colab_type": "code",
        "colab": {
          "base_uri": "https://localhost:8080/",
          "height": 249
        },
        "outputId": "99e2a7f5-4c45-4ffe-9eb8-3c008b692728"
      },
      "source": [
        "df.info()"
      ],
      "execution_count": 108,
      "outputs": [
        {
          "output_type": "stream",
          "text": [
            "<class 'pandas.core.frame.DataFrame'>\n",
            "RangeIndex: 10679307 entries, 0 to 10679306\n",
            "Data columns (total 8 columns):\n",
            "tpep_pickup_datetime     datetime64[ns]\n",
            "tpep_dropoff_datetime    datetime64[ns]\n",
            "passenger_count          int64\n",
            "pickup_x                 float64\n",
            "pickup_y                 float64\n",
            "dropoff_x                float64\n",
            "dropoff_y                float64\n",
            "duration                 int64\n",
            "dtypes: datetime64[ns](2), float64(4), int64(2)\n",
            "memory usage: 651.8 MB\n"
          ],
          "name": "stdout"
        }
      ]
    },
    {
      "cell_type": "code",
      "metadata": {
        "id": "gsuAmw6yFWFT",
        "colab_type": "code",
        "colab": {}
      },
      "source": [
        "samples = df.sample(n=10000)"
      ],
      "execution_count": 0,
      "outputs": []
    },
    {
      "cell_type": "code",
      "metadata": {
        "id": "0n2BChmeFr7-",
        "colab_type": "code",
        "colab": {
          "base_uri": "https://localhost:8080/",
          "height": 206
        },
        "outputId": "199ac62d-1744-4593-8715-53c51ceff3ab"
      },
      "source": [
        "is_long_trip = samples.duration > 1200\n",
        "df_samples = samples.loc[is_long_trip]\n",
        "df_samples.tail()"
      ],
      "execution_count": 116,
      "outputs": [
        {
          "output_type": "execute_result",
          "data": {
            "text/html": [
              "<div>\n",
              "<style scoped>\n",
              "    .dataframe tbody tr th:only-of-type {\n",
              "        vertical-align: middle;\n",
              "    }\n",
              "\n",
              "    .dataframe tbody tr th {\n",
              "        vertical-align: top;\n",
              "    }\n",
              "\n",
              "    .dataframe thead th {\n",
              "        text-align: right;\n",
              "    }\n",
              "</style>\n",
              "<table border=\"1\" class=\"dataframe\">\n",
              "  <thead>\n",
              "    <tr style=\"text-align: right;\">\n",
              "      <th></th>\n",
              "      <th>tpep_pickup_datetime</th>\n",
              "      <th>tpep_dropoff_datetime</th>\n",
              "      <th>passenger_count</th>\n",
              "      <th>pickup_x</th>\n",
              "      <th>pickup_y</th>\n",
              "      <th>dropoff_x</th>\n",
              "      <th>dropoff_y</th>\n",
              "      <th>duration</th>\n",
              "    </tr>\n",
              "  </thead>\n",
              "  <tbody>\n",
              "    <tr>\n",
              "      <th>9516580</th>\n",
              "      <td>2015-01-19 23:21:20</td>\n",
              "      <td>2015-01-19 23:43:37</td>\n",
              "      <td>1</td>\n",
              "      <td>-8.235118e+06</td>\n",
              "      <td>4.981072e+06</td>\n",
              "      <td>-8.235544e+06</td>\n",
              "      <td>4.971283e+06</td>\n",
              "      <td>1337</td>\n",
              "    </tr>\n",
              "    <tr>\n",
              "      <th>6218641</th>\n",
              "      <td>2015-01-25 14:08:35</td>\n",
              "      <td>2015-01-25 14:31:47</td>\n",
              "      <td>1</td>\n",
              "      <td>-8.237808e+06</td>\n",
              "      <td>4.976518e+06</td>\n",
              "      <td>-8.235308e+06</td>\n",
              "      <td>4.977272e+06</td>\n",
              "      <td>1392</td>\n",
              "    </tr>\n",
              "    <tr>\n",
              "      <th>4666262</th>\n",
              "      <td>2015-01-14 19:34:42</td>\n",
              "      <td>2015-01-14 19:57:01</td>\n",
              "      <td>2</td>\n",
              "      <td>-8.235831e+06</td>\n",
              "      <td>4.978192e+06</td>\n",
              "      <td>-8.238333e+06</td>\n",
              "      <td>4.969141e+06</td>\n",
              "      <td>1339</td>\n",
              "    </tr>\n",
              "    <tr>\n",
              "      <th>2285166</th>\n",
              "      <td>2015-01-29 09:58:46</td>\n",
              "      <td>2015-01-29 10:18:51</td>\n",
              "      <td>1</td>\n",
              "      <td>-8.234586e+06</td>\n",
              "      <td>4.974817e+06</td>\n",
              "      <td>-8.235271e+06</td>\n",
              "      <td>4.977220e+06</td>\n",
              "      <td>1205</td>\n",
              "    </tr>\n",
              "    <tr>\n",
              "      <th>5829128</th>\n",
              "      <td>2015-01-22 23:40:23</td>\n",
              "      <td>2015-01-23 00:17:08</td>\n",
              "      <td>1</td>\n",
              "      <td>-8.235342e+06</td>\n",
              "      <td>4.974669e+06</td>\n",
              "      <td>-8.235272e+06</td>\n",
              "      <td>4.970199e+06</td>\n",
              "      <td>2205</td>\n",
              "    </tr>\n",
              "  </tbody>\n",
              "</table>\n",
              "</div>"
            ],
            "text/plain": [
              "        tpep_pickup_datetime tpep_dropoff_datetime  ...     dropoff_y  duration\n",
              "9516580  2015-01-19 23:21:20   2015-01-19 23:43:37  ...  4.971283e+06      1337\n",
              "6218641  2015-01-25 14:08:35   2015-01-25 14:31:47  ...  4.977272e+06      1392\n",
              "4666262  2015-01-14 19:34:42   2015-01-14 19:57:01  ...  4.969141e+06      1339\n",
              "2285166  2015-01-29 09:58:46   2015-01-29 10:18:51  ...  4.977220e+06      1205\n",
              "5829128  2015-01-22 23:40:23   2015-01-23 00:17:08  ...  4.970199e+06      2205\n",
              "\n",
              "[5 rows x 8 columns]"
            ]
          },
          "metadata": {
            "tags": []
          },
          "execution_count": 116
        }
      ]
    },
    {
      "cell_type": "code",
      "metadata": {
        "id": "JrhwzzFjGNuN",
        "colab_type": "code",
        "colab": {
          "base_uri": "https://localhost:8080/",
          "height": 35
        },
        "outputId": "31d12268-b3f4-4d9f-eb98-76e12acbf8cb"
      },
      "source": [
        "df_samples['passenger_count'].sum()"
      ],
      "execution_count": 117,
      "outputs": [
        {
          "output_type": "execute_result",
          "data": {
            "text/plain": [
              "1460"
            ]
          },
          "metadata": {
            "tags": []
          },
          "execution_count": 117
        }
      ]
    },
    {
      "cell_type": "code",
      "metadata": {
        "id": "JhYNHzafGl9Z",
        "colab_type": "code",
        "colab": {
          "base_uri": "https://localhost:8080/",
          "height": 216
        },
        "outputId": "1ad120f4-5597-46e3-b71d-c508c8f71388"
      },
      "source": [
        "!head nyc_taxi.csv"
      ],
      "execution_count": 118,
      "outputs": [
        {
          "output_type": "stream",
          "text": [
            "VendorID,tpep_pickup_datetime,tpep_dropoff_datetime,passenger_count,trip_distance,pickup_x,pickup_y,RateCodeID,store_and_fwd_flag,dropoff_x,dropoff_y,payment_type,fare_amount,extra,mta_tax,tip_amount,tolls_amount,improvement_surcharge,total_amount\n",
            "2,2015-01-15 19:05:39,2015-01-15 19:23:42,1,1.59,-8236962.87845,4975552.61692,1,N,-8234835.38116,4975627.16997,1,12.0,1.0,0.5,3.25,0.0,0.3,17.05\n",
            "1,2015-01-10 20:33:38,2015-01-10 20:53:28,1,3.3,-8237825.76757,4971752.28598,1,N,-8237020.63087,4976875.03705,1,14.5,0.5,0.5,2.0,0.0,0.3,17.8\n",
            "1,2015-01-10 20:33:39,2015-01-10 20:35:31,1,0.5,-8238653.83538,4970221.02621,1,N,-8238123.87198,4971126.9786,2,3.5,0.5,0.5,0.0,0.0,0.3,4.8\n",
            "1,2015-01-10 20:33:39,2015-01-10 20:52:58,1,3.0,-8234433.66211,4977362.79122,1,N,-8238107.73527,4974456.80877,2,15.0,0.5,0.5,0.0,0.0,0.3,16.3\n",
            "1,2015-01-10 20:33:39,2015-01-10 20:58:31,1,2.2,-8235780.65241,4972011.72183,1,N,-8236804.05929,4975482.54878,2,14.0,0.5,0.5,0.0,0.0,0.3,15.3\n",
            "1,2015-01-10 20:33:39,2015-01-10 20:42:20,3,0.8,-8237938.72451,4973206.44838,1,N,-8237086.8763,4972058.2305,1,7.0,0.5,0.5,1.66,0.0,0.3,9.96\n",
            "1,2015-01-10 20:33:40,2015-01-10 20:40:44,2,0.9,-8236037.99041,4978174.08688,1,N,-8236074.51032,4976912.59886,1,6.5,0.5,0.5,1.55,0.0,0.3,9.35\n",
            "1,2015-01-10 20:33:40,2015-01-10 20:41:39,1,0.9,-8236375.16263,4971584.74898,1,N,-8238131.51568,4972389.96139,1,7.0,0.5,0.5,1.66,0.0,0.3,9.96\n",
            "1,2015-01-10 20:33:41,2015-01-10 20:43:26,1,1.1,-8236950.13895,4975744.88647,1,N,-8234014.10776,4976596.972,1,7.5,0.5,0.5,1.0,0.0,0.3,9.8\n"
          ],
          "name": "stdout"
        }
      ]
    },
    {
      "cell_type": "code",
      "metadata": {
        "id": "038V6lbUGbQt",
        "colab_type": "code",
        "colab": {}
      },
      "source": [
        "# Make column 'tip_fraction'\n",
        "df['tip_fraction'] = df['tip_amount'] / (df['total_amount'] - df['tip_amount'])\n",
        "\n",
        "# Convert 'tpep_dropoff_datetime' column to datetime objects\n",
        "df['tpep_dropoff_datetime'] = dd.to_datetime(df['tpep_dropoff_datetime'])\n",
        "\n",
        "# Construct column 'hour'\n",
        "df['hour'] = df['tpep_dropoff_datetime'].dt.hour"
      ],
      "execution_count": 0,
      "outputs": []
    }
  ]
}