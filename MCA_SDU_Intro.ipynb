{
  "nbformat": 4,
  "nbformat_minor": 0,
  "metadata": {
    "colab": {
      "name": "MCA_SDU_Intro.ipynb",
      "version": "0.3.2",
      "provenance": [],
      "collapsed_sections": [],
      "toc_visible": true,
      "include_colab_link": true
    },
    "kernelspec": {
      "name": "python3",
      "display_name": "Python 3"
    }
  },
  "cells": [
    {
      "cell_type": "markdown",
      "metadata": {
        "id": "view-in-github",
        "colab_type": "text"
      },
      "source": [
        "<a href=\"https://colab.research.google.com/github/htapiagroup/sistdist/blob/master/MCA_SDU_Intro.ipynb\" target=\"_parent\"><img src=\"https://colab.research.google.com/assets/colab-badge.svg\" alt=\"Open In Colab\"/></a>"
      ]
    },
    {
      "cell_type": "markdown",
      "metadata": {
        "id": "rfc7QwIH884Q",
        "colab_type": "text"
      },
      "source": [
        "# Sistemas Distribuidos y Ubicuos II \n",
        "\n",
        "## MCA Tercer cuatrimestre\n",
        "\n",
        "### Horacio Tapia-McClung\n",
        "\n"
      ]
    },
    {
      "cell_type": "markdown",
      "metadata": {
        "id": "mhUqelRq9rDm",
        "colab_type": "text"
      },
      "source": [
        "## Objetivos\n",
        "\n",
        "Analizar y comprender técnicas novedosas de clustering, fail over y grid computing para diseñar aplicaciones que demanden grandes volúmenes de información aplicables a diversos dominios, por ejemplo, salud, finanzas y educación. "
      ]
    },
    {
      "cell_type": "markdown",
      "metadata": {
        "id": "7-qMXAmbAJel",
        "colab_type": "text"
      },
      "source": [
        "## Temas"
      ]
    },
    {
      "cell_type": "markdown",
      "metadata": {
        "id": "KNEvfl5k9t7Q",
        "colab_type": "text"
      },
      "source": [
        "### 1. Introducción a la computación paralela y distribuida\n",
        "\n",
        "1. Tecnología de procesamiento\n",
        "2. Tecnología de conectividad\n",
        "3. Herramientas de software y ambientes de desarrollo \n",
        "  \n",
        "### 2. Paradigma de paso de mensajes\n",
        "\n",
        "1. Funcionalidades deseables de un sistema de paso de mensajes\n",
        "2. Clasificación de herramientas\n",
        "3. Análisis de herramientas \n",
        "\n",
        "### 3. Memoria compartida distribuida\n",
        "\n",
        "1. Coherencia de cache\n",
        "2. Modelos\n",
        "3. Arquitecturas\n",
        "4. Clasificación\n",
        "\n",
        "### 4. Objetos distribuidos\n",
        "\n",
        "1. RMI\n",
        "2. CORBA\n",
        "\n",
        "### 5. Grid computing\n",
        "\n",
        "1. Anatomía del Grid\n",
        "2. Herramientas\n",
        "3. Globus toolkit\n",
        "\n",
        "### 6. Tecnologías comerciales de alto desempeño\n",
        "\n",
        "1. Panorama\n",
        "2. Ejemplos de herramientas\n",
        "3. Comparaciones"
      ]
    },
    {
      "cell_type": "markdown",
      "metadata": {
        "id": "iqHvYH-v_w76",
        "colab_type": "text"
      },
      "source": [
        "## Criterios y procedimientos de evaluación y acreditación\n",
        "\n",
        "\n",
        "Actividad | Porcentaje\n",
        "--- | ---\n",
        "Realizar un proyecto sobre tecnologías comerciales de alto desempeño | 40%\n",
        "Prácticas de procesamiento paralelo, paso de mensajes y aplicación de RMI y CORBA | 20%\n",
        "Participación proactiva en clases | 10%\n",
        "Examen teórico practico de medio termino | 15%\n",
        "Examen teórico practico final | 15%\n",
        " | \n",
        " | \n",
        "Total | 100%\n",
        "\n",
        "Para acreditar la asignatura se deberá cumplir con un mínimo del 80% de asistencia y obtener una calificación mínima de 7.0."
      ]
    },
    {
      "cell_type": "markdown",
      "metadata": {
        "id": "6Y1MyknDEgg-",
        "colab_type": "text"
      },
      "source": [
        "# Cómputo de Alto Desempeño"
      ]
    },
    {
      "cell_type": "markdown",
      "metadata": {
        "id": "TG2zPbMKCXLl",
        "colab_type": "text"
      },
      "source": [
        "## Objetivos\n",
        "\n",
        "Desarrollar y aplicar los conceptos generales de cómputo distribuido y paralelo a través de solución a problemas y aplicaciones que demanden el procesamiento de grandes volumenes de información.\n",
        "\n",
        "* Entender y aplicar el pensamiento de cómputo paralelo\n",
        "* Conocer algunas tecnologías para el cómputo de alto desempeño\n",
        "* Resolver problemas usando cómputo de alto desemepeño\n"
      ]
    },
    {
      "cell_type": "markdown",
      "metadata": {
        "id": "_70A_50YEhxW",
        "colab_type": "text"
      },
      "source": [
        "## Principios de programación paralela con Python\n",
        "\n",
        "* Usaremos IPython Notebooks (ecosistema Jupyter a través de la nube)\n",
        "* No es un curso que desarrolla la teoría detrás del cómputo de alto desempeño (CAD)\n",
        "* Es un curso que da una idea general del tipo de aplicaciones que pueden abordarse usando CAD a través de la solución a problemas\n",
        "* El objetivo será motivar el pensamiento y el uso de la programación paralela como alternativa de CAD disponible, barata, reproducible, etc.\n",
        "* Usaremos CAD o cómputo paralelo o sistemas distribuidos sin hacer distinción"
      ]
    },
    {
      "cell_type": "markdown",
      "metadata": {
        "id": "H04zIESMFESe",
        "colab_type": "text"
      },
      "source": [
        "## ¿Qué es el cómputo de alto desempeño?\n",
        "\n",
        "* No está bein definido\n",
        "* No es una ciencia\n",
        "* Es más bien un arte y un oficio -> __artificio__\n",
        "\n",
        "> ![wtf](https://media.giphy.com/media/LyJ6KPlrFdKnK/giphy.gif)\n",
        "\n",
        "* Uso de algoritmos eficientes en computadoras potentes para resolver problemas que demandan un enorme poder de cómputo"
      ]
    },
    {
      "cell_type": "markdown",
      "metadata": {
        "id": "Gy4UDRn5GHNH",
        "colab_type": "text"
      },
      "source": [
        "## Es una disciplina pragmática\n",
        "\n",
        "* Experiencia práctica\n",
        "* Reuso de soluciones existentes \n",
        "* Una buena solución hoy es de más utilidad que una mejor solución mañana \n",
        "* Una solución legible, reproducible y mantenible es mejor que una solución rápida, eficiente y complicada"
      ]
    },
    {
      "cell_type": "markdown",
      "metadata": {
        "id": "xqstZMAEGvxv",
        "colab_type": "text"
      },
      "source": [
        "## Requiere cómputo de alto desempeño o no\n",
        "\n",
        "### Mi problema es GRANDE\n",
        "![paquidermo](http://www.wolframcdn.com/waimage/hset050/e1d/\\\n",
        "e1d32486864183b1554fe999b6e85710_v001s.jpg)\n",
        "\n",
        "---\n",
        "### Mi problema requiere solución *rápida*\n",
        "![alt text](http://www.wolframcdn.com/waimage/hset050/aa9/\\\n",
        "aa9c513a300dd7ae89ed46a0d6dc83fe_v001s.jpg)\n",
        "\n",
        "---\n",
        "### Puntos que deben considerarse al paralelizar\n",
        "\n",
        "* Es mi programa paralelizable? \n",
        "* Puede separarse en partes independientes?\n",
        "  * Excluir partes que no pueden paralelizarse \n",
        "  * Identificar partes que pueden paralelizarse: \n",
        "  * tiempo de cómputo y tiempo de comunicación\n",
        "* Optimización\n",
        "* ..."
      ]
    },
    {
      "cell_type": "markdown",
      "metadata": {
        "id": "gqEqXgLPH00O",
        "colab_type": "text"
      },
      "source": [
        "## Soluciones\n",
        "\n",
        "### Mejor hardware\n",
        "\n",
        "\n",
        "![alt text](https://3s81si1s5ygj3mzby34dq6qf-wpengine.netdna-ssl.com/wp-content/uploads/2015/11/tianhe2-604x381.jpg)\n",
        "vs\n",
        "![alt text](https://www.raspberrypi.org/app/uploads/2017/05/Raspberry-Pi-3-462x322.jpg)\n",
        "\n"
      ]
    },
    {
      "cell_type": "markdown",
      "metadata": {
        "id": "6NuamowNJHTw",
        "colab_type": "text"
      },
      "source": [
        "## Soluciones\n",
        "\n",
        "### Mejor software\n",
        "\n",
        "![alt text](https://d15shllkswkct0.cloudfront.net/wp-content/blogs.dir/1/files/2016/07/Big-Data-Landscape-2016-v18-FINAL.png)"
      ]
    },
    {
      "cell_type": "markdown",
      "metadata": {
        "id": "f3pKDiqDJLsd",
        "colab_type": "text"
      },
      "source": [
        "## Soluciones\n",
        "\n",
        "### Mejores algoritmos\n",
        "\n",
        "![alt text](http://imgs.xkcd.com/comics/watson_medical_algorithm.png)"
      ]
    },
    {
      "cell_type": "markdown",
      "metadata": {
        "id": "CSOtWzOyKGzf",
        "colab_type": "text"
      },
      "source": [
        "# Configuración\n",
        "\n",
        "Para este curso vamos a utilizar principalmente Python a través del ecosistema de [Jupyter Notebooks](https://jupyter.org) instalado y listo para usarse en [Google Colaboratory](https://colab.research.google.com/). Aqui delineamos los pasos para configurar un ambiente.\n",
        "\n",
        "1. Primero necesitan una cuenta de google, si no la tienen saquenla, no pasa nada. Despues vamos a crear un espacio en nuestro Google Drive para el material del curso. Copien y ejecuten el siguiente codigo en una celda"
      ]
    },
    {
      "cell_type": "code",
      "metadata": {
        "id": "C_l7OBPoGXA7",
        "colab_type": "code",
        "outputId": "ce75bee5-5a47-4da8-a4fa-09f4ae82d52b",
        "colab": {
          "base_uri": "https://localhost:8080/",
          "height": 126
        }
      },
      "source": [
        "#@title Crear espacio en gdrive\n",
        "#@markdown Acceso al espacio de gdrive\n",
        "\n",
        "from os.path import join\n",
        "from google.colab import drive\n",
        "\n",
        "ROOT = \"/content/drive\"\n",
        "drive.mount(ROOT)"
      ],
      "execution_count": 0,
      "outputs": [
        {
          "output_type": "stream",
          "text": [
            "Go to this URL in a browser: https://accounts.google.com/o/oauth2/auth?client_id=947318989803-6bn6qk8qdgf4n4g3pfee6491hc0brc4i.apps.googleusercontent.com&redirect_uri=urn%3Aietf%3Awg%3Aoauth%3A2.0%3Aoob&scope=email%20https%3A%2F%2Fwww.googleapis.com%2Fauth%2Fdocs.test%20https%3A%2F%2Fwww.googleapis.com%2Fauth%2Fdrive%20https%3A%2F%2Fwww.googleapis.com%2Fauth%2Fdrive.photos.readonly%20https%3A%2F%2Fwww.googleapis.com%2Fauth%2Fpeopleapi.readonly&response_type=code\n",
            "\n",
            "Enter your authorization code:\n",
            "··········\n",
            "Mounted at /content/drive\n"
          ],
          "name": "stdout"
        }
      ]
    },
    {
      "cell_type": "code",
      "metadata": {
        "id": "MiQgDZN-MwZv",
        "colab_type": "code",
        "outputId": "201250fc-5887-4252-d665-6b4890c9e601",
        "colab": {
          "base_uri": "https://localhost:8080/",
          "height": 53
        }
      },
      "source": [
        "#@markdown Inicializar repositorio\n",
        "PROJ = \"My Drive/Colab Notebooks/MCA/SDU\"\n",
        "PROJECT_PATH = join(ROOT,PROJ)\n",
        "!mkdir \"{PROJECT_PATH}\"\n",
        "!git init \"{PROJECT_PATH}\""
      ],
      "execution_count": 0,
      "outputs": [
        {
          "output_type": "stream",
          "text": [
            "mkdir: cannot create directory ‘/content/drive/My Drive/Colab Notebooks/MCA/SDU’: No such file or directory\n",
            "Initialized empty Git repository in /content/drive/My Drive/Colab Notebooks/MCA/SDU/.git/\n"
          ],
          "name": "stdout"
        }
      ]
    },
    {
      "cell_type": "code",
      "metadata": {
        "id": "RABvqaw9OORN",
        "colab_type": "code",
        "outputId": "1efd8b85-8b6c-448c-9242-e3daab75f3d4",
        "colab": {
          "base_uri": "https://localhost:8080/",
          "height": 53
        }
      },
      "source": [
        "ls -apl \"{PROJECT_PATH}\"\n"
      ],
      "execution_count": 0,
      "outputs": [
        {
          "output_type": "stream",
          "text": [
            "total 4\n",
            "drwx------ 7 root root 4096 May  6 17:40 \u001b[0m\u001b[01;34m.git\u001b[0m/\n"
          ],
          "name": "stdout"
        }
      ]
    },
    {
      "cell_type": "code",
      "metadata": {
        "id": "3QzoqUf7OP-L",
        "colab_type": "code",
        "colab": {}
      },
      "source": [
        ""
      ],
      "execution_count": 0,
      "outputs": []
    }
  ]
}