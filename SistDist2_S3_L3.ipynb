{
  "nbformat": 4,
  "nbformat_minor": 0,
  "metadata": {
    "colab": {
      "name": "SistDist2_S3_L3.ipynb",
      "version": "0.3.2",
      "provenance": [],
      "include_colab_link": true
    },
    "kernelspec": {
      "name": "python3",
      "display_name": "Python 3"
    }
  },
  "cells": [
    {
      "cell_type": "markdown",
      "metadata": {
        "id": "view-in-github",
        "colab_type": "text"
      },
      "source": [
        "<a href=\"https://colab.research.google.com/github/htapiagroup/sistdist/blob/master/SistDist2_S3_L3.ipynb\" target=\"_parent\"><img src=\"https://colab.research.google.com/assets/colab-badge.svg\" alt=\"Open In Colab\"/></a>"
      ]
    },
    {
      "cell_type": "code",
      "metadata": {
        "id": "_PDJnqd5JXzX",
        "colab_type": "code",
        "colab": {}
      },
      "source": [
        "from math import sqrt"
      ],
      "execution_count": 0,
      "outputs": []
    },
    {
      "cell_type": "code",
      "metadata": {
        "id": "eijK2uKzJ6cs",
        "colab_type": "code",
        "colab": {}
      },
      "source": [
        "def f(z):\n",
        "  return sqrt(z + 4)\n",
        "\n",
        "def g(y):\n",
        "  return y - 3\n",
        "\n",
        "def h(x):\n",
        "  return x ** 2"
      ],
      "execution_count": 0,
      "outputs": []
    },
    {
      "cell_type": "code",
      "metadata": {
        "id": "p9Igmf5sKHvm",
        "colab_type": "code",
        "colab": {}
      },
      "source": [
        "x = 4\n",
        "y = h(x)\n",
        "z = g(y)\n",
        "w = f(z)"
      ],
      "execution_count": 0,
      "outputs": []
    },
    {
      "cell_type": "code",
      "metadata": {
        "id": "5M2vaPDhLB90",
        "colab_type": "code",
        "colab": {
          "base_uri": "https://localhost:8080/",
          "height": 34
        },
        "outputId": "e19631e9-ac4b-484f-eb81-671a8b2a8221"
      },
      "source": [
        "print(w)"
      ],
      "execution_count": 4,
      "outputs": [
        {
          "output_type": "stream",
          "text": [
            "4.123105625617661\n"
          ],
          "name": "stdout"
        }
      ]
    },
    {
      "cell_type": "code",
      "metadata": {
        "id": "DAjJTv_jLEWc",
        "colab_type": "code",
        "colab": {
          "base_uri": "https://localhost:8080/",
          "height": 34
        },
        "outputId": "9ae9437c-4497-4740-f6fc-5fde0e854fd1"
      },
      "source": [
        "print(f(g(h(x))))"
      ],
      "execution_count": 5,
      "outputs": [
        {
          "output_type": "stream",
          "text": [
            "4.123105625617661\n"
          ],
          "name": "stdout"
        }
      ]
    },
    {
      "cell_type": "code",
      "metadata": {
        "id": "bPLbLDeVLfv0",
        "colab_type": "code",
        "colab": {}
      },
      "source": [
        "data = [ 1, 2, 3, 4, 5 ]"
      ],
      "execution_count": 0,
      "outputs": []
    },
    {
      "cell_type": "code",
      "metadata": {
        "id": "Nrk2HRSfL4bk",
        "colab_type": "code",
        "colab": {
          "base_uri": "https://localhost:8080/",
          "height": 101
        },
        "outputId": "d10d8d0f-7e32-4181-85bc-70f598a773f3"
      },
      "source": [
        "for x in data:\n",
        "  print(f(g(h(x))))"
      ],
      "execution_count": 7,
      "outputs": [
        {
          "output_type": "stream",
          "text": [
            "1.4142135623730951\n",
            "2.23606797749979\n",
            "3.1622776601683795\n",
            "4.123105625617661\n",
            "5.0990195135927845\n"
          ],
          "name": "stdout"
        }
      ]
    },
    {
      "cell_type": "code",
      "metadata": {
        "id": "XeZlUicMMGMs",
        "colab_type": "code",
        "colab": {
          "base_uri": "https://localhost:8080/",
          "height": 134
        },
        "outputId": "003ed212-4571-4c27-a276-b00c5d023734"
      },
      "source": [
        "%%time\n",
        "[f(g(h(x))) for x in data] # comprension de listas"
      ],
      "execution_count": 9,
      "outputs": [
        {
          "output_type": "stream",
          "text": [
            "CPU times: user 28 µs, sys: 6 µs, total: 34 µs\n",
            "Wall time: 39.1 µs\n"
          ],
          "name": "stdout"
        },
        {
          "output_type": "execute_result",
          "data": {
            "text/plain": [
              "[1.4142135623730951,\n",
              " 2.23606797749979,\n",
              " 3.1622776601683795,\n",
              " 4.123105625617661,\n",
              " 5.0990195135927845]"
            ]
          },
          "metadata": {
            "tags": []
          },
          "execution_count": 9
        }
      ]
    },
    {
      "cell_type": "markdown",
      "metadata": {
        "id": "tQdG1QocNeAT",
        "colab_type": "text"
      },
      "source": [
        "La lista anterior se genera secuencialmente, como la podemos generar en forma paralela?\n"
      ]
    },
    {
      "cell_type": "code",
      "metadata": {
        "id": "GA1EsQU9MQEz",
        "colab_type": "code",
        "colab": {}
      },
      "source": [
        "from dask import delayed"
      ],
      "execution_count": 0,
      "outputs": []
    },
    {
      "cell_type": "code",
      "metadata": {
        "id": "nMtDe4ysNluh",
        "colab_type": "code",
        "colab": {}
      },
      "source": [
        "x = 4 \n",
        "y = delayed(h)(x)\n",
        "z = delayed(g)(y)\n",
        "w = delayed(f)(z)"
      ],
      "execution_count": 0,
      "outputs": []
    },
    {
      "cell_type": "code",
      "metadata": {
        "id": "FB_MVwVEOP8h",
        "colab_type": "code",
        "colab": {
          "base_uri": "https://localhost:8080/",
          "height": 34
        },
        "outputId": "3186bc9d-4723-40f3-dbed-7a107275b91c"
      },
      "source": [
        "print(w)"
      ],
      "execution_count": 13,
      "outputs": [
        {
          "output_type": "stream",
          "text": [
            "Delayed('f-920960d1-ac8f-4fa7-b8e7-4d77da0d7566')\n"
          ],
          "name": "stdout"
        }
      ]
    },
    {
      "cell_type": "code",
      "metadata": {
        "id": "TitVIjTIOUPp",
        "colab_type": "code",
        "colab": {
          "base_uri": "https://localhost:8080/",
          "height": 34
        },
        "outputId": "38b321d7-c765-4c96-da69-1e51f9c7b144"
      },
      "source": [
        "type(w)"
      ],
      "execution_count": 14,
      "outputs": [
        {
          "output_type": "execute_result",
          "data": {
            "text/plain": [
              "dask.delayed.Delayed"
            ]
          },
          "metadata": {
            "tags": []
          },
          "execution_count": 14
        }
      ]
    },
    {
      "cell_type": "code",
      "metadata": {
        "id": "FXIA_1EqOYzR",
        "colab_type": "code",
        "colab": {
          "base_uri": "https://localhost:8080/",
          "height": 34
        },
        "outputId": "3d63f2e3-e2cf-4c08-ecf0-1171835daaa1"
      },
      "source": [
        "w.compute()"
      ],
      "execution_count": 17,
      "outputs": [
        {
          "output_type": "execute_result",
          "data": {
            "text/plain": [
              "4.123105625617661"
            ]
          },
          "metadata": {
            "tags": []
          },
          "execution_count": 17
        }
      ]
    },
    {
      "cell_type": "code",
      "metadata": {
        "id": "Hq9RF-ZVOj3g",
        "colab_type": "code",
        "colab": {
          "base_uri": "https://localhost:8080/",
          "height": 76
        },
        "outputId": "336a9c2f-9f0b-4b58-aba9-bbd4aa4cef95"
      },
      "source": [
        "w.visualize(rankdir='LR')"
      ],
      "execution_count": 19,
      "outputs": [
        {
          "output_type": "execute_result",
          "data": {
            "image/png": "[encoded data removed]",
            "text/plain": [
              "<IPython.core.display.Image object>"
            ]
          },
          "metadata": {
            "tags": []
          },
          "execution_count": 19
        }
      ]
    },
    {
      "cell_type": "code",
      "metadata": {
        "id": "Al8GeFG_PE8I",
        "colab_type": "code",
        "colab": {}
      },
      "source": [
        "def f(x):\n",
        "  return sqrt(x + 4)\n",
        "\n",
        "f = delayed(f)"
      ],
      "execution_count": 0,
      "outputs": []
    },
    {
      "cell_type": "code",
      "metadata": {
        "id": "EIFeHGTUQUkf",
        "colab_type": "code",
        "colab": {
          "base_uri": "https://localhost:8080/",
          "height": 34
        },
        "outputId": "62ac489a-9e20-442f-e6f5-1eaec664d5a0"
      },
      "source": [
        "@delayed\n",
        "def f(x):\n",
        "  return sqrt(x + 4)\n",
        "\n",
        "print(type(f))"
      ],
      "execution_count": 22,
      "outputs": [
        {
          "output_type": "stream",
          "text": [
            "<class 'dask.delayed.DelayedLeaf'>\n"
          ],
          "name": "stdout"
        }
      ]
    },
    {
      "cell_type": "markdown",
      "metadata": {
        "id": "7T6DBP3FREIL",
        "colab_type": "text"
      },
      "source": [
        "Ejemplo usando decoradores"
      ]
    },
    {
      "cell_type": "code",
      "metadata": {
        "id": "sQAMqUwmRdq5",
        "colab_type": "code",
        "colab": {
          "base_uri": "https://localhost:8080/",
          "height": 34
        },
        "outputId": "0e180138-cad0-4c88-9031-be4caae19fc8"
      },
      "source": [
        "data"
      ],
      "execution_count": 24,
      "outputs": [
        {
          "output_type": "execute_result",
          "data": {
            "text/plain": [
              "[1, 2, 3, 4, 5]"
            ]
          },
          "metadata": {
            "tags": []
          },
          "execution_count": 24
        }
      ]
    },
    {
      "cell_type": "code",
      "metadata": {
        "id": "Etm80Mq5Rglg",
        "colab_type": "code",
        "colab": {}
      },
      "source": [
        "output = []\n",
        "for x in data:\n",
        "  a = incrementa(x)\n",
        "  b = dobla(x)\n",
        "  c = suma(a, b)\n",
        "  output.append(c)"
      ],
      "execution_count": 0,
      "outputs": []
    },
    {
      "cell_type": "code",
      "metadata": {
        "id": "Gd9v5aU5SBht",
        "colab_type": "code",
        "colab": {
          "base_uri": "https://localhost:8080/",
          "height": 34
        },
        "outputId": "f575c20e-7166-4ec3-c7b8-cd33b4775789"
      },
      "source": [
        "type(output)"
      ],
      "execution_count": 26,
      "outputs": [
        {
          "output_type": "execute_result",
          "data": {
            "text/plain": [
              "list"
            ]
          },
          "metadata": {
            "tags": []
          },
          "execution_count": 26
        }
      ]
    },
    {
      "cell_type": "code",
      "metadata": {
        "id": "AZRdw5xzSFNU",
        "colab_type": "code",
        "colab": {
          "base_uri": "https://localhost:8080/",
          "height": 34
        },
        "outputId": "c98c9c41-0fb1-4e88-aad1-14fb0e460cc8"
      },
      "source": [
        "[out.compute() for out in output]"
      ],
      "execution_count": 35,
      "outputs": [
        {
          "output_type": "execute_result",
          "data": {
            "text/plain": [
              "[4, 7, 10, 13, 16]"
            ]
          },
          "metadata": {
            "tags": []
          },
          "execution_count": 35
        }
      ]
    },
    {
      "cell_type": "code",
      "metadata": {
        "id": "NJXnyhIiSIlN",
        "colab_type": "code",
        "colab": {
          "base_uri": "https://localhost:8080/",
          "height": 34
        },
        "outputId": "6540177f-c4e8-425c-fb90-683b8d89fa2f"
      },
      "source": [
        "total = sum(output)\n",
        "type(total)"
      ],
      "execution_count": 28,
      "outputs": [
        {
          "output_type": "execute_result",
          "data": {
            "text/plain": [
              "dask.delayed.Delayed"
            ]
          },
          "metadata": {
            "tags": []
          },
          "execution_count": 28
        }
      ]
    },
    {
      "cell_type": "code",
      "metadata": {
        "id": "odO2HamMSdZU",
        "colab_type": "code",
        "colab": {}
      },
      "source": [
        "total.visualize(rankdir='LR')"
      ],
      "execution_count": 0,
      "outputs": []
    },
    {
      "cell_type": "code",
      "metadata": {
        "id": "L88GIaU9SmOc",
        "colab_type": "code",
        "colab": {
          "base_uri": "https://localhost:8080/",
          "height": 34
        },
        "outputId": "b443586b-9f70-4812-dba3-18c9266ffa27"
      },
      "source": [
        "total.compute()"
      ],
      "execution_count": 30,
      "outputs": [
        {
          "output_type": "execute_result",
          "data": {
            "text/plain": [
              "50"
            ]
          },
          "metadata": {
            "tags": []
          },
          "execution_count": 30
        }
      ]
    },
    {
      "cell_type": "code",
      "metadata": {
        "id": "6Sk9Nu9CQ43G",
        "colab_type": "code",
        "colab": {}
      },
      "source": [
        "#@delayed\n",
        "def incrementa(x):\n",
        "  return x + 1\n",
        "\n",
        "#@delayed\n",
        "def dobla(x):\n",
        "  return 2 * x\n",
        "\n",
        "#@delayed\n",
        "def suma(x, y):\n",
        "  return x + y"
      ],
      "execution_count": 0,
      "outputs": []
    },
    {
      "cell_type": "code",
      "metadata": {
        "id": "V88cFuylVjTR",
        "colab_type": "code",
        "colab": {
          "base_uri": "https://localhost:8080/",
          "height": 34
        },
        "outputId": "b9041fa5-fd13-4995-926a-0ecf8e4904bf"
      },
      "source": [
        "type(suma)"
      ],
      "execution_count": 37,
      "outputs": [
        {
          "output_type": "execute_result",
          "data": {
            "text/plain": [
              "function"
            ]
          },
          "metadata": {
            "tags": []
          },
          "execution_count": 37
        }
      ]
    },
    {
      "cell_type": "code",
      "metadata": {
        "id": "mcNyBiXaTnz7",
        "colab_type": "code",
        "colab": {
          "base_uri": "https://localhost:8080/",
          "height": 50
        },
        "outputId": "21bcbdda-1882-4999-b7d4-5025420f0cbc"
      },
      "source": [
        "%%time\n",
        "a = delayed(incrementa)(1)\n",
        "b = delayed(dobla)(2)\n",
        "c = delayed(suma)(a, b)"
      ],
      "execution_count": 40,
      "outputs": [
        {
          "output_type": "stream",
          "text": [
            "CPU times: user 696 µs, sys: 0 ns, total: 696 µs\n",
            "Wall time: 583 µs\n"
          ],
          "name": "stdout"
        }
      ]
    },
    {
      "cell_type": "code",
      "metadata": {
        "id": "yL0s-XWrVqwh",
        "colab_type": "code",
        "colab": {
          "base_uri": "https://localhost:8080/",
          "height": 67
        },
        "outputId": "09eab2a5-338a-47e7-c097-64359b578f52"
      },
      "source": [
        "%%time\n",
        "\n",
        "c.compute()"
      ],
      "execution_count": 41,
      "outputs": [
        {
          "output_type": "stream",
          "text": [
            "CPU times: user 2.37 ms, sys: 894 µs, total: 3.26 ms\n",
            "Wall time: 2.57 ms\n"
          ],
          "name": "stdout"
        },
        {
          "output_type": "execute_result",
          "data": {
            "text/plain": [
              "6"
            ]
          },
          "metadata": {
            "tags": []
          },
          "execution_count": 41
        }
      ]
    },
    {
      "cell_type": "markdown",
      "metadata": {
        "id": "1HdCwtuOasvb",
        "colab_type": "text"
      },
      "source": [
        "Vamos a ejecutar un for en paralelo, "
      ]
    },
    {
      "cell_type": "code",
      "metadata": {
        "id": "DF_k_LaEawDb",
        "colab_type": "code",
        "colab": {}
      },
      "source": [
        "from time import sleep\n",
        "\n",
        "def inc(x):\n",
        "    sleep(1)\n",
        "    return x + 1"
      ],
      "execution_count": 0,
      "outputs": []
    },
    {
      "cell_type": "code",
      "metadata": {
        "id": "vB93Q7eObI2z",
        "colab_type": "code",
        "colab": {
          "base_uri": "https://localhost:8080/",
          "height": 50
        },
        "outputId": "a094b64b-f57b-478b-8d61-d6d0371223a2"
      },
      "source": [
        "%%time\n",
        "res = []\n",
        "for x in data:\n",
        "  y = inc(x)\n",
        "  res.append(y)\n",
        "\n",
        "total = sum(res)"
      ],
      "execution_count": 45,
      "outputs": [
        {
          "output_type": "stream",
          "text": [
            "CPU times: user 7.97 ms, sys: 2.99 ms, total: 11 ms\n",
            "Wall time: 5.01 s\n"
          ],
          "name": "stdout"
        }
      ]
    },
    {
      "cell_type": "code",
      "metadata": {
        "id": "V66o1IwFb3Pc",
        "colab_type": "code",
        "colab": {
          "base_uri": "https://localhost:8080/",
          "height": 50
        },
        "outputId": "6ad7aeaf-8900-4bca-8cca-efeb13473900"
      },
      "source": [
        "%%time \n",
        "res = []\n",
        "for x in data:\n",
        "  y = delayed(inc)(x)\n",
        "  res.append(y)\n",
        "\n",
        "total = delayed(sum)(res)\n",
        "total.compute()"
      ],
      "execution_count": 47,
      "outputs": [
        {
          "output_type": "stream",
          "text": [
            "CPU times: user 7.73 ms, sys: 5.98 ms, total: 13.7 ms\n",
            "Wall time: 3.01 s\n"
          ],
          "name": "stdout"
        }
      ]
    },
    {
      "cell_type": "markdown",
      "metadata": {
        "id": "IAQmiKJ3Xod3",
        "colab_type": "text"
      },
      "source": [
        "# Ejercicio\n",
        "Descargar los archivos de taxi\n",
        "comparar el calculo siguiente entre el realizado con generadores y como sigue usando `delayed`"
      ]
    },
    {
      "cell_type": "code",
      "metadata": {
        "id": "Az1v9VSmWMxI",
        "colab_type": "code",
        "colab": {}
      },
      "source": [
        "import os\n",
        "plantilla = 'yellow_tripdata_2018-{:02d}.csv'\n",
        "plantillaURL = 'wget https://s3.amazonaws.com/nyc-tlc/trip+data/'+plantilla\n",
        "urls = (plantillaURL.format(k) for k in range(1,7)) # generator\n",
        "for url in urls:\n",
        "  os.system(url)"
      ],
      "execution_count": 0,
      "outputs": []
    },
    {
      "cell_type": "code",
      "metadata": {
        "id": "RR26ql11dJtW",
        "colab_type": "code",
        "colab": {}
      },
      "source": [
        "import pandas as pd"
      ],
      "execution_count": 0,
      "outputs": []
    },
    {
      "cell_type": "code",
      "metadata": {
        "id": "jmLWv5xvXw_W",
        "colab_type": "code",
        "colab": {}
      },
      "source": [
        "@delayed\n",
        "def cuenta_viajes_largos(df):\n",
        "  df['duracion'] = (df.tpep_dropoff_datetime - df.tpep_pickup_datetime).dt.seconds\n",
        "  es_viaje_largo = df.duracion > 1200 # viajes que duran mas de 20 minutos\n",
        "  result_dict = {'n_long':[sum(es_viaje_largo)],\n",
        "                'n_total':[len(df)]}\n",
        "  return pd.DataFrame(result_dict)\n",
        "\n",
        "@delayed\n",
        "def abre_archivo(nombre):\n",
        "  return pd.read_csv(nombre, parse_dates=[1,2])"
      ],
      "execution_count": 0,
      "outputs": []
    },
    {
      "cell_type": "code",
      "metadata": {
        "id": "5p76RT6Xd287",
        "colab_type": "code",
        "colab": {}
      },
      "source": [
        "archivos = [plantilla.format(k) for k in range(1,7)] "
      ],
      "execution_count": 0,
      "outputs": []
    },
    {
      "cell_type": "code",
      "metadata": {
        "id": "x0b59nTHdQIw",
        "colab_type": "code",
        "colab": {}
      },
      "source": [
        "totales = [cuenta_viajes_largos(abre_archivo(archivo)) for archivo in archivos ]"
      ],
      "execution_count": 0,
      "outputs": []
    },
    {
      "cell_type": "code",
      "metadata": {
        "id": "ZsCCCPJseCmH",
        "colab_type": "code",
        "colab": {}
      },
      "source": [
        "semi_anuales = sum(totales)"
      ],
      "execution_count": 0,
      "outputs": []
    },
    {
      "cell_type": "code",
      "metadata": {
        "id": "Az_nxCeuePMv",
        "colab_type": "code",
        "colab": {}
      },
      "source": [
        "semi_anuales.compute()"
      ],
      "execution_count": 0,
      "outputs": []
    },
    {
      "cell_type": "markdown",
      "metadata": {
        "id": "5I0XYI7LgBPO",
        "colab_type": "text"
      },
      "source": [
        "# Arreglos o matrices usando dask"
      ]
    },
    {
      "cell_type": "code",
      "metadata": {
        "id": "lZpuYOFsgA6Q",
        "colab_type": "code",
        "colab": {}
      },
      "source": [
        "import numpy as np"
      ],
      "execution_count": 0,
      "outputs": []
    },
    {
      "cell_type": "code",
      "metadata": {
        "id": "osErLClJerr8",
        "colab_type": "code",
        "colab": {}
      },
      "source": [
        "a = np.random.rand(10000)"
      ],
      "execution_count": 0,
      "outputs": []
    },
    {
      "cell_type": "code",
      "metadata": {
        "id": "gFRID5gVhMHM",
        "colab_type": "code",
        "colab": {
          "base_uri": "https://localhost:8080/",
          "height": 34
        },
        "outputId": "a83f7bdd-888f-47b4-e109-35fce3592ae1"
      },
      "source": [
        "print(a.shape, a.dtype, a.nbytes)"
      ],
      "execution_count": 57,
      "outputs": [
        {
          "output_type": "stream",
          "text": [
            "(10000,) float64 80000\n"
          ],
          "name": "stdout"
        }
      ]
    },
    {
      "cell_type": "code",
      "metadata": {
        "id": "wSEhvlWShRP0",
        "colab_type": "code",
        "colab": {
          "base_uri": "https://localhost:8080/",
          "height": 34
        },
        "outputId": "d696bbb6-43eb-4b59-85ed-cbb3ccdf0297"
      },
      "source": [
        "a.sum()"
      ],
      "execution_count": 58,
      "outputs": [
        {
          "output_type": "execute_result",
          "data": {
            "text/plain": [
              "4978.722357609479"
            ]
          },
          "metadata": {
            "tags": []
          },
          "execution_count": 58
        }
      ]
    },
    {
      "cell_type": "code",
      "metadata": {
        "id": "I-io0aWuhhcs",
        "colab_type": "code",
        "colab": {
          "base_uri": "https://localhost:8080/",
          "height": 34
        },
        "outputId": "64ae4a46-1043-436f-f0cc-f85f096ced98"
      },
      "source": [
        "a.mean()"
      ],
      "execution_count": 59,
      "outputs": [
        {
          "output_type": "execute_result",
          "data": {
            "text/plain": [
              "0.4978722357609479"
            ]
          },
          "metadata": {
            "tags": []
          },
          "execution_count": 59
        }
      ]
    },
    {
      "cell_type": "code",
      "metadata": {
        "id": "08rAzHjLhrdL",
        "colab_type": "code",
        "colab": {}
      },
      "source": [
        "import dask.array as da"
      ],
      "execution_count": 0,
      "outputs": []
    },
    {
      "cell_type": "code",
      "metadata": {
        "id": "UYzp3pNjh0BT",
        "colab_type": "code",
        "colab": {}
      },
      "source": [
        "a_dask = da.from_array(a, chunks=len(a)//3)"
      ],
      "execution_count": 0,
      "outputs": []
    },
    {
      "cell_type": "code",
      "metadata": {
        "id": "MUhY4eF6iXCj",
        "colab_type": "code",
        "colab": {
          "base_uri": "https://localhost:8080/",
          "height": 34
        },
        "outputId": "7ef50a8b-fb37-43e9-e36b-b78013a6397a"
      },
      "source": [
        "type(a_dask)"
      ],
      "execution_count": 62,
      "outputs": [
        {
          "output_type": "execute_result",
          "data": {
            "text/plain": [
              "dask.array.core.Array"
            ]
          },
          "metadata": {
            "tags": []
          },
          "execution_count": 62
        }
      ]
    },
    {
      "cell_type": "code",
      "metadata": {
        "id": "GrubJozFiaUL",
        "colab_type": "code",
        "colab": {
          "base_uri": "https://localhost:8080/",
          "height": 34
        },
        "outputId": "b8b899a4-2538-41b9-9926-3ba99c48a44e"
      },
      "source": [
        "a_dask.chunks"
      ],
      "execution_count": 80,
      "outputs": [
        {
          "output_type": "execute_result",
          "data": {
            "text/plain": [
              "((3333, 3333, 3333, 1),)"
            ]
          },
          "metadata": {
            "tags": []
          },
          "execution_count": 80
        }
      ]
    },
    {
      "cell_type": "code",
      "metadata": {
        "id": "H9GRuUt3if_K",
        "colab_type": "code",
        "colab": {}
      },
      "source": [
        "n_chunks = 8\n",
        "chunk_size = len(a) // n_chunks\n",
        "\n",
        "result = 0"
      ],
      "execution_count": 0,
      "outputs": []
    },
    {
      "cell_type": "code",
      "metadata": {
        "id": "qBlJxQ62ii_T",
        "colab_type": "code",
        "colab": {}
      },
      "source": [
        "for k in range(n_chunks):\n",
        "  offset = k*chunk_size\n",
        "  a_chunk = a[offset:offset + chunk_size]\n",
        "  result += a_chunk.sum()"
      ],
      "execution_count": 0,
      "outputs": []
    },
    {
      "cell_type": "code",
      "metadata": {
        "id": "wcbIi3SMkt9A",
        "colab_type": "code",
        "colab": {
          "base_uri": "https://localhost:8080/",
          "height": 34
        },
        "outputId": "fff4ae07-c788-4e51-9f8f-2ec45f851922"
      },
      "source": [
        "print(result)"
      ],
      "execution_count": 71,
      "outputs": [
        {
          "output_type": "stream",
          "text": [
            "4978.722357609479\n"
          ],
          "name": "stdout"
        }
      ]
    },
    {
      "cell_type": "code",
      "metadata": {
        "id": "b-U2F9XSkukI",
        "colab_type": "code",
        "colab": {
          "base_uri": "https://localhost:8080/",
          "height": 34
        },
        "outputId": "bc0296ac-5a31-4ed9-b462-6ac27ed43819"
      },
      "source": [
        "a.sum()"
      ],
      "execution_count": 72,
      "outputs": [
        {
          "output_type": "execute_result",
          "data": {
            "text/plain": [
              "4978.722357609479"
            ]
          },
          "metadata": {
            "tags": []
          },
          "execution_count": 72
        }
      ]
    },
    {
      "cell_type": "code",
      "metadata": {
        "id": "jM-E4kfSkyMY",
        "colab_type": "code",
        "colab": {}
      },
      "source": [
        "result_dask = a_dask.mean()"
      ],
      "execution_count": 0,
      "outputs": []
    },
    {
      "cell_type": "code",
      "metadata": {
        "id": "nrvdqQKJk6KQ",
        "colab_type": "code",
        "colab": {
          "base_uri": "https://localhost:8080/",
          "height": 34
        },
        "outputId": "7b212d60-7391-49a1-e0c2-51a6325c4bf4"
      },
      "source": [
        "result_dask.compute()"
      ],
      "execution_count": 82,
      "outputs": [
        {
          "output_type": "execute_result",
          "data": {
            "text/plain": [
              "0.49787223576094786"
            ]
          },
          "metadata": {
            "tags": []
          },
          "execution_count": 82
        }
      ]
    },
    {
      "cell_type": "code",
      "metadata": {
        "id": "SPMZDB-0k9M4",
        "colab_type": "code",
        "colab": {}
      },
      "source": [
        "result_dask.visualize(rankdir='LR')"
      ],
      "execution_count": 0,
      "outputs": []
    },
    {
      "cell_type": "markdown",
      "metadata": {
        "id": "zjVRZ0-InBX-",
        "colab_type": "text"
      },
      "source": [
        "Medir el tiempo de computo sobre arreglos"
      ]
    },
    {
      "cell_type": "code",
      "metadata": {
        "id": "VyzECJM7lYfX",
        "colab_type": "code",
        "colab": {
          "base_uri": "https://localhost:8080/",
          "height": 353
        },
        "outputId": "37a17bf8-adec-437e-eea3-31fd589a819c"
      },
      "source": [
        "!wget https://www.gw-osc.org/archive/data/S5/814743552/H-H1_LOSC_4_V1-815411200-4096.hdf5"
      ],
      "execution_count": 84,
      "outputs": [
        {
          "output_type": "stream",
          "text": [
            "--2019-05-21 18:19:40--  https://www.gw-osc.org/archive/data/S5/814743552/H-H1_LOSC_4_V1-815411200-4096.hdf5\n",
            "Resolving www.gw-osc.org (www.gw-osc.org)... 131.215.125.179\n",
            "Connecting to www.gw-osc.org (www.gw-osc.org)|131.215.125.179|:443... connected.\n",
            "HTTP request sent, awaiting response... 302 Found\n",
            "Location: https://www.gw-openscience.org/archive/data/S5/814743552/H-H1_LOSC_4_V1-815411200-4096.hdf5 [following]\n",
            "--2019-05-21 18:19:40--  https://www.gw-openscience.org/archive/data/S5/814743552/H-H1_LOSC_4_V1-815411200-4096.hdf5\n",
            "Resolving www.gw-openscience.org (www.gw-openscience.org)... 131.215.125.179\n",
            "Connecting to www.gw-openscience.org (www.gw-openscience.org)|131.215.125.179|:443... connected.\n",
            "HTTP request sent, awaiting response... 301 Moved Permanently\n",
            "Location: /archive/data/S5/814743552/H-H1_LOSC_4_V1-815411200-4096.hdf5/ [following]\n",
            "--2019-05-21 18:19:41--  https://www.gw-openscience.org/archive/data/S5/814743552/H-H1_LOSC_4_V1-815411200-4096.hdf5/\n",
            "Reusing existing connection to www.gw-openscience.org:443.\n",
            "HTTP request sent, awaiting response... 200 OK\n",
            "Length: 95071329 (91M) [application/octet-stream]\n",
            "Saving to: ‘H-H1_LOSC_4_V1-815411200-4096.hdf5’\n",
            "\n",
            "H-H1_LOSC_4_V1-8154 100%[===================>]  90.67M  70.7MB/s    in 1.3s    \n",
            "\n",
            "2019-05-21 18:19:42 (70.7 MB/s) - ‘H-H1_LOSC_4_V1-815411200-4096.hdf5’ saved [95071329/95071329]\n",
            "\n"
          ],
          "name": "stdout"
        }
      ]
    },
    {
      "cell_type": "code",
      "metadata": {
        "id": "3amaSW5Qntst",
        "colab_type": "code",
        "colab": {}
      },
      "source": [
        "!cp H-H1_LOSC_4_V1-815411200-4096.hdf5 LIGO_data.hdf5"
      ],
      "execution_count": 0,
      "outputs": []
    },
    {
      "cell_type": "code",
      "metadata": {
        "id": "rCVyQzDBnxPc",
        "colab_type": "code",
        "colab": {}
      },
      "source": [
        "import h5py, time"
      ],
      "execution_count": 0,
      "outputs": []
    },
    {
      "cell_type": "code",
      "metadata": {
        "id": "1zsIZw9cn9M4",
        "colab_type": "code",
        "colab": {
          "base_uri": "https://localhost:8080/",
          "height": 34
        },
        "outputId": "5fcb655b-72a7-4f07-a89e-8f7f23538904"
      },
      "source": [
        "datos = h5py.File('./LIGO_data.hdf5')\n",
        "type(datos)"
      ],
      "execution_count": 87,
      "outputs": [
        {
          "output_type": "execute_result",
          "data": {
            "text/plain": [
              "h5py._hl.files.File"
            ]
          },
          "metadata": {
            "tags": []
          },
          "execution_count": 87
        }
      ]
    },
    {
      "cell_type": "code",
      "metadata": {
        "id": "JHoNDxproLQs",
        "colab_type": "code",
        "colab": {
          "base_uri": "https://localhost:8080/",
          "height": 67
        },
        "outputId": "8993a418-c342-4c8d-d81e-957dcdd3cbf8"
      },
      "source": [
        "for key in datos.keys():\n",
        "  print(key)"
      ],
      "execution_count": 88,
      "outputs": [
        {
          "output_type": "stream",
          "text": [
            "meta\n",
            "quality\n",
            "strain\n"
          ],
          "name": "stdout"
        }
      ]
    },
    {
      "cell_type": "code",
      "metadata": {
        "id": "lULplaHMoSes",
        "colab_type": "code",
        "colab": {}
      },
      "source": [
        "with h5py.File('./LIGO_data.hdf5') as dset:\n",
        "  strain = dset['strain']['Strain'][:]"
      ],
      "execution_count": 0,
      "outputs": []
    },
    {
      "cell_type": "code",
      "metadata": {
        "id": "lMl5Tv-JoyMk",
        "colab_type": "code",
        "colab": {
          "base_uri": "https://localhost:8080/",
          "height": 34
        },
        "outputId": "bc88272d-9385-492d-a810-2da1a5ceabba"
      },
      "source": [
        "strain.shape"
      ],
      "execution_count": 90,
      "outputs": [
        {
          "output_type": "execute_result",
          "data": {
            "text/plain": [
              "(16777216,)"
            ]
          },
          "metadata": {
            "tags": []
          },
          "execution_count": 90
        }
      ]
    },
    {
      "cell_type": "code",
      "metadata": {
        "id": "D_qogRK1ozi8",
        "colab_type": "code",
        "colab": {}
      },
      "source": [
        "strain_dask8 = da.from_array(strain, chunks=strain.shape[0]//8)"
      ],
      "execution_count": 0,
      "outputs": []
    },
    {
      "cell_type": "code",
      "metadata": {
        "id": "D6ItM294pJJj",
        "colab_type": "code",
        "colab": {
          "base_uri": "https://localhost:8080/",
          "height": 34
        },
        "outputId": "76f67bce-c403-4dd1-df88-7a6e097fa530"
      },
      "source": [
        "ti = time.time()\n",
        "promedio8 = strain_dask8.mean().compute()\n",
        "tf = time.time()\n",
        "print('Tiempo transcurrido: {} ms'.format((tf-ti)*1000))"
      ],
      "execution_count": 104,
      "outputs": [
        {
          "output_type": "stream",
          "text": [
            "Tiempo transcurrido: 71.13909721374512 ms\n"
          ],
          "name": "stdout"
        }
      ]
    },
    {
      "cell_type": "markdown",
      "metadata": {
        "id": "-KJW_uKDp6qn",
        "colab_type": "text"
      },
      "source": [
        "# Tarea\n",
        "\n",
        "1. Medir el tiempo de ejecucion anterior usando como chunks del arreglo de dask 2, 4, 8, 16, 32 y comparar con los mismo pero usando numpy."
      ]
    },
    {
      "cell_type": "code",
      "metadata": {
        "id": "Sm4Oa1Tppq5j",
        "colab_type": "code",
        "colab": {
          "base_uri": "https://localhost:8080/",
          "height": 34
        },
        "outputId": "a85d9dab-72a4-4c94-8478-259453bc6de5"
      },
      "source": [
        "strain_dask8.chunks"
      ],
      "execution_count": 94,
      "outputs": [
        {
          "output_type": "execute_result",
          "data": {
            "text/plain": [
              "((2097152, 2097152, 2097152, 2097152, 2097152, 2097152, 2097152, 2097152),)"
            ]
          },
          "metadata": {
            "tags": []
          },
          "execution_count": 94
        }
      ]
    },
    {
      "cell_type": "code",
      "metadata": {
        "id": "GAfYyVCxqK4K",
        "colab_type": "code",
        "colab": {
          "base_uri": "https://localhost:8080/",
          "height": 34
        },
        "outputId": "c14cbac0-aa03-4e4b-bf50-5d946ef5c289"
      },
      "source": [
        "strain[0:2097152].mean()\n",
        "strain[2097152:2*2097152].mean()"
      ],
      "execution_count": 98,
      "outputs": [
        {
          "output_type": "execute_result",
          "data": {
            "text/plain": [
              "-1.2622019494042042e-20"
            ]
          },
          "metadata": {
            "tags": []
          },
          "execution_count": 98
        }
      ]
    },
    {
      "cell_type": "code",
      "metadata": {
        "id": "-tg6kKu0qZdR",
        "colab_type": "code",
        "colab": {}
      },
      "source": [
        ""
      ],
      "execution_count": 0,
      "outputs": []
    }
  ]
}