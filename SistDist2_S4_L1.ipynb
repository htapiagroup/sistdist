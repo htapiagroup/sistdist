{
  "nbformat": 4,
  "nbformat_minor": 0,
  "metadata": {
    "colab": {
      "name": "SistDist2_S4_L1.ipynb",
      "version": "0.3.2",
      "provenance": [],
      "include_colab_link": true
    },
    "kernelspec": {
      "name": "python3",
      "display_name": "Python 3"
    }
  },
  "cells": [
    {
      "cell_type": "markdown",
      "metadata": {
        "id": "view-in-github",
        "colab_type": "text"
      },
      "source": [
        "<a href=\"https://colab.research.google.com/github/htapiagroup/sistdist/blob/master/SistDist2_S4_L1.ipynb\" target=\"_parent\"><img src=\"https://colab.research.google.com/assets/colab-badge.svg\" alt=\"Open In Colab\"/></a>"
      ]
    },
    {
      "cell_type": "code",
      "metadata": {
        "id": "sPS4uhnXCqng",
        "colab_type": "code",
        "colab": {}
      },
      "source": [
        "import  numpy as np\n",
        "a = np.random.rand(10000)"
      ],
      "execution_count": 0,
      "outputs": []
    },
    {
      "cell_type": "code",
      "metadata": {
        "id": "n_NFYNmEDSEM",
        "colab_type": "code",
        "colab": {
          "base_uri": "https://localhost:8080/",
          "height": 34
        },
        "outputId": "7034f374-7f1b-419a-a937-5953b90f9d0c"
      },
      "source": [
        "a.shape"
      ],
      "execution_count": 2,
      "outputs": [
        {
          "output_type": "execute_result",
          "data": {
            "text/plain": [
              "(10000,)"
            ]
          },
          "metadata": {
            "tags": []
          },
          "execution_count": 2
        }
      ]
    },
    {
      "cell_type": "code",
      "metadata": {
        "id": "KLCv1JH6DYZS",
        "colab_type": "code",
        "colab": {
          "base_uri": "https://localhost:8080/",
          "height": 34
        },
        "outputId": "6e1dbcbb-52db-46fd-e95a-f48a2905a170"
      },
      "source": [
        "a.dtype"
      ],
      "execution_count": 3,
      "outputs": [
        {
          "output_type": "execute_result",
          "data": {
            "text/plain": [
              "dtype('float64')"
            ]
          },
          "metadata": {
            "tags": []
          },
          "execution_count": 3
        }
      ]
    },
    {
      "cell_type": "code",
      "metadata": {
        "id": "dfRk_e0zDfKg",
        "colab_type": "code",
        "colab": {
          "base_uri": "https://localhost:8080/",
          "height": 34
        },
        "outputId": "ce4ae23f-8131-40d0-8f00-5913434b4201"
      },
      "source": [
        "a.nbytes"
      ],
      "execution_count": 4,
      "outputs": [
        {
          "output_type": "execute_result",
          "data": {
            "text/plain": [
              "80000"
            ]
          },
          "metadata": {
            "tags": []
          },
          "execution_count": 4
        }
      ]
    },
    {
      "cell_type": "code",
      "metadata": {
        "id": "BlmtP3I2Di6f",
        "colab_type": "code",
        "colab": {
          "base_uri": "https://localhost:8080/",
          "height": 67
        },
        "outputId": "0d7cb737-9192-49b7-8e6e-b6dc393580b5"
      },
      "source": [
        "%time a.sum()"
      ],
      "execution_count": 7,
      "outputs": [
        {
          "output_type": "stream",
          "text": [
            "CPU times: user 733 µs, sys: 0 ns, total: 733 µs\n",
            "Wall time: 659 µs\n"
          ],
          "name": "stdout"
        },
        {
          "output_type": "execute_result",
          "data": {
            "text/plain": [
              "4971.025249365767"
            ]
          },
          "metadata": {
            "tags": []
          },
          "execution_count": 7
        }
      ]
    },
    {
      "cell_type": "code",
      "metadata": {
        "id": "-PjwyZmKDrwo",
        "colab_type": "code",
        "colab": {}
      },
      "source": [
        "import dask.array as da"
      ],
      "execution_count": 0,
      "outputs": []
    },
    {
      "cell_type": "code",
      "metadata": {
        "id": "-pHoEYhBEKHX",
        "colab_type": "code",
        "colab": {}
      },
      "source": [
        "a_dask = da.from_array(a, chunks=len(a)//3)"
      ],
      "execution_count": 0,
      "outputs": []
    },
    {
      "cell_type": "code",
      "metadata": {
        "id": "L_Bcl42XESyu",
        "colab_type": "code",
        "colab": {
          "base_uri": "https://localhost:8080/",
          "height": 34
        },
        "outputId": "b11285ec-85f9-4c04-ceec-973f5361b835"
      },
      "source": [
        "type(a_dask)"
      ],
      "execution_count": 10,
      "outputs": [
        {
          "output_type": "execute_result",
          "data": {
            "text/plain": [
              "dask.array.core.Array"
            ]
          },
          "metadata": {
            "tags": []
          },
          "execution_count": 10
        }
      ]
    },
    {
      "cell_type": "code",
      "metadata": {
        "id": "pZU5JD-cEWh2",
        "colab_type": "code",
        "colab": {
          "base_uri": "https://localhost:8080/",
          "height": 34
        },
        "outputId": "a9506af7-aea8-44eb-f8f2-ec7dc3f0705b"
      },
      "source": [
        "a_dask.chunks"
      ],
      "execution_count": 11,
      "outputs": [
        {
          "output_type": "execute_result",
          "data": {
            "text/plain": [
              "((3333, 3333, 3333, 1),)"
            ]
          },
          "metadata": {
            "tags": []
          },
          "execution_count": 11
        }
      ]
    },
    {
      "cell_type": "code",
      "metadata": {
        "id": "OCbXyfq9EbSW",
        "colab_type": "code",
        "colab": {}
      },
      "source": [
        "n_chunks = 8\n",
        "chunk_size = len(a) // n_chunks\n",
        "\n",
        "res = 0"
      ],
      "execution_count": 0,
      "outputs": []
    },
    {
      "cell_type": "code",
      "metadata": {
        "id": "kQtqo1AzGIzk",
        "colab_type": "code",
        "colab": {
          "base_uri": "https://localhost:8080/",
          "height": 50
        },
        "outputId": "f1308913-45b0-442d-811b-44c385c0fc23"
      },
      "source": [
        "%%time\n",
        "\n",
        "for k in range(n_chunks):\n",
        "  offset = k*chunk_size\n",
        "  a_chunk = a[offset:offset + chunk_size]\n",
        "  res += a_chunk.sum()"
      ],
      "execution_count": 14,
      "outputs": [
        {
          "output_type": "stream",
          "text": [
            "CPU times: user 513 µs, sys: 0 ns, total: 513 µs\n",
            "Wall time: 425 µs\n"
          ],
          "name": "stdout"
        }
      ]
    },
    {
      "cell_type": "code",
      "metadata": {
        "id": "po4aSvHmHHmC",
        "colab_type": "code",
        "colab": {
          "base_uri": "https://localhost:8080/",
          "height": 50
        },
        "outputId": "412ad7b8-ee4c-48eb-e9c4-55f3fb50f298"
      },
      "source": [
        "%time res_dask = a_dask.sum()"
      ],
      "execution_count": 15,
      "outputs": [
        {
          "output_type": "stream",
          "text": [
            "CPU times: user 2.24 ms, sys: 0 ns, total: 2.24 ms\n",
            "Wall time: 2.22 ms\n"
          ],
          "name": "stdout"
        }
      ]
    },
    {
      "cell_type": "code",
      "metadata": {
        "id": "wbsmbt72HhDx",
        "colab_type": "code",
        "colab": {
          "base_uri": "https://localhost:8080/",
          "height": 67
        },
        "outputId": "5996e0d1-c314-483f-9ae6-00cac1c160a6"
      },
      "source": [
        "%time res_dask.compute()"
      ],
      "execution_count": 18,
      "outputs": [
        {
          "output_type": "stream",
          "text": [
            "CPU times: user 4.48 ms, sys: 892 µs, total: 5.37 ms\n",
            "Wall time: 4.83 ms\n"
          ],
          "name": "stdout"
        },
        {
          "output_type": "execute_result",
          "data": {
            "text/plain": [
              "4971.025249365767"
            ]
          },
          "metadata": {
            "tags": []
          },
          "execution_count": 18
        }
      ]
    },
    {
      "cell_type": "code",
      "metadata": {
        "id": "U-pTUF0VIV6r",
        "colab_type": "code",
        "colab": {}
      },
      "source": [
        "res_dask.visualize(rankdir='LR')"
      ],
      "execution_count": 0,
      "outputs": []
    },
    {
      "cell_type": "markdown",
      "metadata": {
        "id": "J4jjiUyRJtLg",
        "colab_type": "text"
      },
      "source": [
        "## Ejercicio\n",
        "redefinir el arreglo  `a_dask` usando trozos equivalentes a los usados en el `for` y comparar tiempos de ejecucion. Discutir lo obtenido\n",
        "\n"
      ]
    },
    {
      "cell_type": "markdown",
      "metadata": {
        "id": "l-CyHk9KKDmp",
        "colab_type": "text"
      },
      "source": [
        "# Medir tiempos  de operacion sobre arreglos con dask"
      ]
    },
    {
      "cell_type": "code",
      "metadata": {
        "id": "k-bgIFTXJa0v",
        "colab_type": "code",
        "colab": {}
      },
      "source": [
        "!wget https://www.gw-osc.org/archive/data/S5/814743552/H-H1_LOSC_4_V1-815411200-4096.hdf5"
      ],
      "execution_count": 0,
      "outputs": []
    },
    {
      "cell_type": "code",
      "metadata": {
        "id": "eoe-0d7ZKMaV",
        "colab_type": "code",
        "colab": {}
      },
      "source": [
        "!cp H-H1_LOSC_4_V1-815411200-4096.hdf5 LIGO_data.hdf5"
      ],
      "execution_count": 0,
      "outputs": []
    },
    {
      "cell_type": "code",
      "metadata": {
        "id": "FwLLOuctKNW9",
        "colab_type": "code",
        "colab": {}
      },
      "source": [
        "import h5py, time"
      ],
      "execution_count": 0,
      "outputs": []
    },
    {
      "cell_type": "code",
      "metadata": {
        "id": "qCURenBtKTa1",
        "colab_type": "code",
        "colab": {
          "base_uri": "https://localhost:8080/",
          "height": 34
        },
        "outputId": "dd57f787-9f84-4801-e33a-80491504b15a"
      },
      "source": [
        "datos = h5py.File('./LIGO_data.hdf5')\n",
        "type(datos)"
      ],
      "execution_count": 24,
      "outputs": [
        {
          "output_type": "execute_result",
          "data": {
            "text/plain": [
              "h5py._hl.files.File"
            ]
          },
          "metadata": {
            "tags": []
          },
          "execution_count": 24
        }
      ]
    },
    {
      "cell_type": "code",
      "metadata": {
        "id": "GKTgyVohKjuV",
        "colab_type": "code",
        "colab": {
          "base_uri": "https://localhost:8080/",
          "height": 67
        },
        "outputId": "73553066-bcb1-40b8-fba6-2a6d47d7fb98"
      },
      "source": [
        "for key in datos.keys():\n",
        "  print(key)"
      ],
      "execution_count": 25,
      "outputs": [
        {
          "output_type": "stream",
          "text": [
            "meta\n",
            "quality\n",
            "strain\n"
          ],
          "name": "stdout"
        }
      ]
    },
    {
      "cell_type": "code",
      "metadata": {
        "id": "AUxBhSCmKsa1",
        "colab_type": "code",
        "colab": {}
      },
      "source": [
        "with datos as dset:\n",
        "  strain = dset['strain']['Strain'][:]"
      ],
      "execution_count": 0,
      "outputs": []
    },
    {
      "cell_type": "code",
      "metadata": {
        "id": "5PAmxJBsLVQs",
        "colab_type": "code",
        "colab": {
          "base_uri": "https://localhost:8080/",
          "height": 50
        },
        "outputId": "f9d56cea-ce4e-46af-fd23-432c1fcb0e73"
      },
      "source": [
        "strain"
      ],
      "execution_count": 27,
      "outputs": [
        {
          "output_type": "execute_result",
          "data": {
            "text/plain": [
              "array([-2.37884722e-16, -2.55453801e-16, -2.72831053e-16, ...,\n",
              "                   nan,             nan,             nan])"
            ]
          },
          "metadata": {
            "tags": []
          },
          "execution_count": 27
        }
      ]
    },
    {
      "cell_type": "code",
      "metadata": {
        "id": "ZhoTbuSCLV9D",
        "colab_type": "code",
        "colab": {
          "base_uri": "https://localhost:8080/",
          "height": 34
        },
        "outputId": "514bfecc-4289-4607-b43f-4838eda6c146"
      },
      "source": [
        "type(strain)"
      ],
      "execution_count": 32,
      "outputs": [
        {
          "output_type": "execute_result",
          "data": {
            "text/plain": [
              "numpy.ndarray"
            ]
          },
          "metadata": {
            "tags": []
          },
          "execution_count": 32
        }
      ]
    },
    {
      "cell_type": "code",
      "metadata": {
        "id": "AD-S2nuqMg26",
        "colab_type": "code",
        "colab": {
          "base_uri": "https://localhost:8080/",
          "height": 34
        },
        "outputId": "02cb8258-dc95-4360-f0a7-4d8544f55887"
      },
      "source": [
        "strain.shape"
      ],
      "execution_count": 33,
      "outputs": [
        {
          "output_type": "execute_result",
          "data": {
            "text/plain": [
              "(16777216,)"
            ]
          },
          "metadata": {
            "tags": []
          },
          "execution_count": 33
        }
      ]
    },
    {
      "cell_type": "code",
      "metadata": {
        "id": "D4ZmKmjhM_0E",
        "colab_type": "code",
        "colab": {
          "base_uri": "https://localhost:8080/",
          "height": 34
        },
        "outputId": "0591b053-1153-4eff-ab9e-395bcca05954"
      },
      "source": [
        "strain.sum()"
      ],
      "execution_count": 35,
      "outputs": [
        {
          "output_type": "execute_result",
          "data": {
            "text/plain": [
              "nan"
            ]
          },
          "metadata": {
            "tags": []
          },
          "execution_count": 35
        }
      ]
    },
    {
      "cell_type": "code",
      "metadata": {
        "id": "gQEtamiSNEkE",
        "colab_type": "code",
        "colab": {}
      },
      "source": [
        "strain_dask8 = da.from_array(strain, chunks=strain.shape[0]//16"
      ],
      "execution_count": 0,
      "outputs": []
    },
    {
      "cell_type": "code",
      "metadata": {
        "id": "nlOk-OotN8qy",
        "colab_type": "code",
        "colab": {
          "base_uri": "https://localhost:8080/",
          "height": 34
        },
        "outputId": "9c991f8b-94f9-4453-baae-0c5d6678fb56"
      },
      "source": [
        "ti = time.time()\n",
        "promedio8 = strain_dask8.mean().compute()\n",
        "tf = time.time()\n",
        "print('Tiempo transcurrido: {} ms'.format((tf-ti)*1000))"
      ],
      "execution_count": 40,
      "outputs": [
        {
          "output_type": "stream",
          "text": [
            "Tiempo transcurrido: 68.93491744995117 ms\n"
          ],
          "name": "stdout"
        }
      ]
    },
    {
      "cell_type": "code",
      "metadata": {
        "id": "f-Z1lw7YOXYh",
        "colab_type": "code",
        "colab": {
          "base_uri": "https://localhost:8080/",
          "height": 34
        },
        "outputId": "455819e5-9a22-491f-d3d0-9133af196c3b"
      },
      "source": [
        "print(promedio8)"
      ],
      "execution_count": 41,
      "outputs": [
        {
          "output_type": "stream",
          "text": [
            "nan\n"
          ],
          "name": "stdout"
        }
      ]
    },
    {
      "cell_type": "code",
      "metadata": {
        "id": "LGfqfV4hOcev",
        "colab_type": "code",
        "colab": {}
      },
      "source": [
        "strain_dask8.visualize()"
      ],
      "execution_count": 0,
      "outputs": []
    },
    {
      "cell_type": "markdown",
      "metadata": {
        "id": "l74xlZ2_Qcrg",
        "colab_type": "text"
      },
      "source": [
        "# Arreglos multidimensionales"
      ]
    },
    {
      "cell_type": "code",
      "metadata": {
        "id": "NqiPYoikPEvR",
        "colab_type": "code",
        "colab": {}
      },
      "source": [
        "ts=np.array([49,51,60,54,47,50,64,58,47,43,50,63,67,68,64,48,55,46,66,51,52])\n",
        "np.savetxt('temp_max.csv', ts.astype(int), fmt='%i')"
      ],
      "execution_count": 0,
      "outputs": []
    },
    {
      "cell_type": "code",
      "metadata": {
        "id": "mJdrGgcwRFCt",
        "colab_type": "code",
        "colab": {
          "base_uri": "https://localhost:8080/",
          "height": 50
        },
        "outputId": "98412334-c9a7-4e6c-c8f7-d21d11996610"
      },
      "source": [
        "ls"
      ],
      "execution_count": 45,
      "outputs": [
        {
          "output_type": "stream",
          "text": [
            "H-H1_LOSC_4_V1-815411200-4096.hdf5  mydask.png    temp_max.csv\n",
            "LIGO_data.hdf5                      \u001b[0m\u001b[01;34msample_data\u001b[0m/\n"
          ],
          "name": "stdout"
        }
      ]
    },
    {
      "cell_type": "code",
      "metadata": {
        "id": "UGrAV9bFRFl1",
        "colab_type": "code",
        "colab": {}
      },
      "source": [
        "!cat temp_max.csv"
      ],
      "execution_count": 0,
      "outputs": []
    },
    {
      "cell_type": "code",
      "metadata": {
        "id": "9JgpYRhTRNV9",
        "colab_type": "code",
        "colab": {
          "base_uri": "https://localhost:8080/",
          "height": 34
        },
        "outputId": "41b308c6-0800-4ebc-b706-11c9a52ecf9b"
      },
      "source": [
        "ts = np.loadtxt('temp_max.csv', dtype=np.int64)\n",
        "type(ts)"
      ],
      "execution_count": 47,
      "outputs": [
        {
          "output_type": "execute_result",
          "data": {
            "text/plain": [
              "numpy.ndarray"
            ]
          },
          "metadata": {
            "tags": []
          },
          "execution_count": 47
        }
      ]
    },
    {
      "cell_type": "code",
      "metadata": {
        "id": "4Q0eGXkVR2D9",
        "colab_type": "code",
        "colab": {
          "base_uri": "https://localhost:8080/",
          "height": 34
        },
        "outputId": "e380dffe-faf5-4705-cab3-4e26f1caf47b"
      },
      "source": [
        "ts.shape"
      ],
      "execution_count": 48,
      "outputs": [
        {
          "output_type": "execute_result",
          "data": {
            "text/plain": [
              "(21,)"
            ]
          },
          "metadata": {
            "tags": []
          },
          "execution_count": 48
        }
      ]
    },
    {
      "cell_type": "code",
      "metadata": {
        "id": "PvjFhxusR6WE",
        "colab_type": "code",
        "colab": {
          "base_uri": "https://localhost:8080/",
          "height": 34
        },
        "outputId": "17d38e1e-9c29-49e2-bb44-3e5c6258c685"
      },
      "source": [
        "ts.ndim"
      ],
      "execution_count": 49,
      "outputs": [
        {
          "output_type": "execute_result",
          "data": {
            "text/plain": [
              "1"
            ]
          },
          "metadata": {
            "tags": []
          },
          "execution_count": 49
        }
      ]
    },
    {
      "cell_type": "code",
      "metadata": {
        "id": "j_PzvNYbR-g8",
        "colab_type": "code",
        "colab": {
          "base_uri": "https://localhost:8080/",
          "height": 34
        },
        "outputId": "dc62bc6e-8910-418c-f7dd-a7d7d64657f0"
      },
      "source": [
        "print(ts)"
      ],
      "execution_count": 50,
      "outputs": [
        {
          "output_type": "stream",
          "text": [
            "[49 51 60 54 47 50 64 58 47 43 50 63 67 68 64 48 55 46 66 51 52]\n"
          ],
          "name": "stdout"
        }
      ]
    },
    {
      "cell_type": "code",
      "metadata": {
        "id": "bxoxLpJBSCJc",
        "colab_type": "code",
        "colab": {
          "base_uri": "https://localhost:8080/",
          "height": 34
        },
        "outputId": "253fb122-6991-4e08-c888-2830b46ff9bf"
      },
      "source": [
        "ts.std()"
      ],
      "execution_count": 52,
      "outputs": [
        {
          "output_type": "execute_result",
          "data": {
            "text/plain": [
              "7.63391406756257"
            ]
          },
          "metadata": {
            "tags": []
          },
          "execution_count": 52
        }
      ]
    },
    {
      "cell_type": "markdown",
      "metadata": {
        "id": "dUXWjShtT3c6",
        "colab_type": "text"
      },
      "source": [
        "Tomense un break"
      ]
    },
    {
      "cell_type": "code",
      "metadata": {
        "id": "KxP6EVbtSKFs",
        "colab_type": "code",
        "colab": {}
      },
      "source": [
        "break0 = time.time()"
      ],
      "execution_count": 0,
      "outputs": []
    },
    {
      "cell_type": "code",
      "metadata": {
        "id": "aPEtI9uNT7Sg",
        "colab_type": "code",
        "colab": {
          "base_uri": "https://localhost:8080/",
          "height": 34
        },
        "outputId": "5aa1d833-9b5f-4d69-f151-239a3e4040e7"
      },
      "source": [
        "\n",
        "break1 = time.time()\n",
        "print((break1-break0))"
      ],
      "execution_count": 55,
      "outputs": [
        {
          "output_type": "stream",
          "text": [
            "858.6267566680908\n"
          ],
          "name": "stdout"
        }
      ]
    },
    {
      "cell_type": "code",
      "metadata": {
        "id": "T08upfDgXKeX",
        "colab_type": "code",
        "colab": {
          "base_uri": "https://localhost:8080/",
          "height": 34
        },
        "outputId": "34271288-06f9-4c74-8453-dc8cfc06715f"
      },
      "source": [
        "858.6/60"
      ],
      "execution_count": 56,
      "outputs": [
        {
          "output_type": "execute_result",
          "data": {
            "text/plain": [
              "14.31"
            ]
          },
          "metadata": {
            "tags": []
          },
          "execution_count": 56
        }
      ]
    },
    {
      "cell_type": "code",
      "metadata": {
        "id": "91ZmnS63XRgr",
        "colab_type": "code",
        "colab": {
          "base_uri": "https://localhost:8080/",
          "height": 50
        },
        "outputId": "d691fcb6-24ae-4117-a74c-f17cae0efd32"
      },
      "source": [
        "mier = []\n",
        "for i,v in enumerate(ts):\n",
        "  if i%7==3:\n",
        "    mier.append(v)\n",
        "print(mier)\n",
        "np.mean(mier)"
      ],
      "execution_count": 65,
      "outputs": [
        {
          "output_type": "stream",
          "text": [
            "[54, 50, 46]\n"
          ],
          "name": "stdout"
        },
        {
          "output_type": "execute_result",
          "data": {
            "text/plain": [
              "50.0"
            ]
          },
          "metadata": {
            "tags": []
          },
          "execution_count": 65
        }
      ]
    },
    {
      "cell_type": "code",
      "metadata": {
        "id": "wuX9haF0X8k7",
        "colab_type": "code",
        "colab": {}
      },
      "source": [
        "semanas = ts.reshape([3,7])"
      ],
      "execution_count": 0,
      "outputs": []
    },
    {
      "cell_type": "code",
      "metadata": {
        "id": "jCYl-kPfaZa_",
        "colab_type": "code",
        "colab": {
          "base_uri": "https://localhost:8080/",
          "height": 34
        },
        "outputId": "f8e31ad9-06ad-432a-ea0d-b8ae19ef315c"
      },
      "source": [
        "type(semanas)"
      ],
      "execution_count": 72,
      "outputs": [
        {
          "output_type": "execute_result",
          "data": {
            "text/plain": [
              "numpy.ndarray"
            ]
          },
          "metadata": {
            "tags": []
          },
          "execution_count": 72
        }
      ]
    },
    {
      "cell_type": "code",
      "metadata": {
        "id": "dcbFp1kLa_i-",
        "colab_type": "code",
        "colab": {
          "base_uri": "https://localhost:8080/",
          "height": 34
        },
        "outputId": "5279f2fe-9721-40fd-946f-2c4d00ebd869"
      },
      "source": [
        "semanas.ndim"
      ],
      "execution_count": 76,
      "outputs": [
        {
          "output_type": "execute_result",
          "data": {
            "text/plain": [
              "2"
            ]
          },
          "metadata": {
            "tags": []
          },
          "execution_count": 76
        }
      ]
    },
    {
      "cell_type": "code",
      "metadata": {
        "id": "C8kNivZabCv2",
        "colab_type": "code",
        "colab": {
          "base_uri": "https://localhost:8080/",
          "height": 34
        },
        "outputId": "452314fc-e20e-4bf0-adfa-49f506b4c9cf"
      },
      "source": [
        "semanas.size"
      ],
      "execution_count": 79,
      "outputs": [
        {
          "output_type": "execute_result",
          "data": {
            "text/plain": [
              "21"
            ]
          },
          "metadata": {
            "tags": []
          },
          "execution_count": 79
        }
      ]
    },
    {
      "cell_type": "code",
      "metadata": {
        "id": "iVnsrywbbGk-",
        "colab_type": "code",
        "colab": {
          "base_uri": "https://localhost:8080/",
          "height": 67
        },
        "outputId": "f98808a6-e6cd-4a3c-e488-dd24c29100ac"
      },
      "source": [
        "semanas"
      ],
      "execution_count": 80,
      "outputs": [
        {
          "output_type": "execute_result",
          "data": {
            "text/plain": [
              "array([[49, 51, 60, 54, 47, 50, 64],\n",
              "       [58, 47, 43, 50, 63, 67, 68],\n",
              "       [64, 48, 55, 46, 66, 51, 52]])"
            ]
          },
          "metadata": {
            "tags": []
          },
          "execution_count": 80
        }
      ]
    },
    {
      "cell_type": "code",
      "metadata": {
        "id": "yWXTAyG8ctS0",
        "colab_type": "code",
        "colab": {
          "base_uri": "https://localhost:8080/",
          "height": 50
        },
        "outputId": "54b938b3-0469-4215-ca85-617cf906ebf5"
      },
      "source": [
        "ts"
      ],
      "execution_count": 86,
      "outputs": [
        {
          "output_type": "execute_result",
          "data": {
            "text/plain": [
              "array([49, 51, 60, 54, 47, 50, 64, 58, 47, 43, 50, 63, 67, 68, 64, 48, 55,\n",
              "       46, 66, 51, 52])"
            ]
          },
          "metadata": {
            "tags": []
          },
          "execution_count": 86
        }
      ]
    },
    {
      "cell_type": "code",
      "metadata": {
        "id": "CCeoYs_CeUI5",
        "colab_type": "code",
        "colab": {
          "base_uri": "https://localhost:8080/",
          "height": 134
        },
        "outputId": "d5429a13-11a3-450b-f810-5abefbaff205"
      },
      "source": [
        "ts.reshape([7,3], order='F')"
      ],
      "execution_count": 89,
      "outputs": [
        {
          "output_type": "execute_result",
          "data": {
            "text/plain": [
              "array([[49, 58, 64],\n",
              "       [51, 47, 48],\n",
              "       [60, 43, 55],\n",
              "       [54, 50, 46],\n",
              "       [47, 63, 66],\n",
              "       [50, 67, 51],\n",
              "       [64, 68, 52]])"
            ]
          },
          "metadata": {
            "tags": []
          },
          "execution_count": 89
        }
      ]
    },
    {
      "cell_type": "code",
      "metadata": {
        "id": "nZ2VTIxseW3x",
        "colab_type": "code",
        "colab": {}
      },
      "source": [
        "dias=semanas.transpose()"
      ],
      "execution_count": 0,
      "outputs": []
    },
    {
      "cell_type": "code",
      "metadata": {
        "id": "zHmQlv5ue-8Y",
        "colab_type": "code",
        "colab": {
          "base_uri": "https://localhost:8080/",
          "height": 34
        },
        "outputId": "90cfe866-8cc9-45bc-953a-cf1b7ede25f3"
      },
      "source": [
        "dias[4,:]"
      ],
      "execution_count": 94,
      "outputs": [
        {
          "output_type": "execute_result",
          "data": {
            "text/plain": [
              "array([47, 63, 66])"
            ]
          },
          "metadata": {
            "tags": []
          },
          "execution_count": 94
        }
      ]
    },
    {
      "cell_type": "code",
      "metadata": {
        "id": "94gewbMWfO4v",
        "colab_type": "code",
        "colab": {
          "base_uri": "https://localhost:8080/",
          "height": 134
        },
        "outputId": "a156c985-1e1b-415a-f575-e51e10790e27"
      },
      "source": [
        "dias"
      ],
      "execution_count": 95,
      "outputs": [
        {
          "output_type": "execute_result",
          "data": {
            "text/plain": [
              "array([[49, 58, 64],\n",
              "       [51, 47, 48],\n",
              "       [60, 43, 55],\n",
              "       [54, 50, 46],\n",
              "       [47, 63, 66],\n",
              "       [50, 67, 51],\n",
              "       [64, 68, 52]])"
            ]
          },
          "metadata": {
            "tags": []
          },
          "execution_count": 95
        }
      ]
    },
    {
      "cell_type": "code",
      "metadata": {
        "id": "eQQm-MCOfmPv",
        "colab_type": "code",
        "colab": {
          "base_uri": "https://localhost:8080/",
          "height": 50
        },
        "outputId": "f9048bb9-9808-410d-8b03-48e113474b11"
      },
      "source": [
        "dias.mean(axis=1)"
      ],
      "execution_count": 107,
      "outputs": [
        {
          "output_type": "execute_result",
          "data": {
            "text/plain": [
              "array([57.        , 48.66666667, 52.66666667, 50.        , 58.66666667,\n",
              "       56.        , 61.33333333])"
            ]
          },
          "metadata": {
            "tags": []
          },
          "execution_count": 107
        }
      ]
    },
    {
      "cell_type": "code",
      "metadata": {
        "id": "fRezcI7Rfwr3",
        "colab_type": "code",
        "colab": {}
      },
      "source": [
        "semanas - dias.mean(axis=1)"
      ],
      "execution_count": 0,
      "outputs": []
    },
    {
      "cell_type": "code",
      "metadata": {
        "id": "Ay2tOQVpf2Z_",
        "colab_type": "code",
        "colab": {}
      },
      "source": [
        "tabla = dias - dias.mean(axis=0)"
      ],
      "execution_count": 0,
      "outputs": []
    },
    {
      "cell_type": "code",
      "metadata": {
        "id": "1auukujgiIHD",
        "colab_type": "code",
        "colab": {
          "base_uri": "https://localhost:8080/",
          "height": 134
        },
        "outputId": "f87d56b2-534d-4712-afd1-c887f5b49431"
      },
      "source": [
        "tabla"
      ],
      "execution_count": 113,
      "outputs": [
        {
          "output_type": "execute_result",
          "data": {
            "text/plain": [
              "array([[ -4.57142857,   1.42857143,   9.42857143],\n",
              "       [ -2.57142857,  -9.57142857,  -6.57142857],\n",
              "       [  6.42857143, -13.57142857,   0.42857143],\n",
              "       [  0.42857143,  -6.57142857,  -8.57142857],\n",
              "       [ -6.57142857,   6.42857143,  11.42857143],\n",
              "       [ -3.57142857,  10.42857143,  -3.57142857],\n",
              "       [ 10.42857143,  11.42857143,  -2.57142857]])"
            ]
          },
          "metadata": {
            "tags": []
          },
          "execution_count": 113
        }
      ]
    },
    {
      "cell_type": "code",
      "metadata": {
        "id": "YZ-FgM0akVig",
        "colab_type": "code",
        "colab": {
          "base_uri": "https://localhost:8080/",
          "height": 118
        },
        "outputId": "4bd89a63-9660-4c28-fdd3-95e09ea64854"
      },
      "source": [
        "tabla.reshape([3,7])"
      ],
      "execution_count": 115,
      "outputs": [
        {
          "output_type": "execute_result",
          "data": {
            "text/plain": [
              "array([[ -4.57142857,   1.42857143,   9.42857143,  -2.57142857,\n",
              "         -9.57142857,  -6.57142857,   6.42857143],\n",
              "       [-13.57142857,   0.42857143,   0.42857143,  -6.57142857,\n",
              "         -8.57142857,  -6.57142857,   6.42857143],\n",
              "       [ 11.42857143,  -3.57142857,  10.42857143,  -3.57142857,\n",
              "         10.42857143,  11.42857143,  -2.57142857]])"
            ]
          },
          "metadata": {
            "tags": []
          },
          "execution_count": 115
        }
      ]
    },
    {
      "cell_type": "markdown",
      "metadata": {
        "id": "W5rFYouZk7Sz",
        "colab_type": "text"
      },
      "source": [
        "# Como se usa esto con dask"
      ]
    },
    {
      "cell_type": "code",
      "metadata": {
        "id": "pyT7eo4bknMK",
        "colab_type": "code",
        "colab": {}
      },
      "source": [
        "data = np.genfromtxt('https://www1.ncdc.noaa.gov/pub/data/ccd-data/hghtmp15.dat', usecols=(2,3,4,5), skip_header=5, dtype=np.int64)"
      ],
      "execution_count": 0,
      "outputs": []
    },
    {
      "cell_type": "code",
      "metadata": {
        "id": "FyWn5gyCldNm",
        "colab_type": "code",
        "colab": {
          "base_uri": "https://localhost:8080/",
          "height": 34
        },
        "outputId": "405d169d-24f1-43b0-f55a-578eb0b649de"
      },
      "source": [
        "data.shape"
      ],
      "execution_count": 118,
      "outputs": [
        {
          "output_type": "execute_result",
          "data": {
            "text/plain": [
              "(259, 4)"
            ]
          },
          "metadata": {
            "tags": []
          },
          "execution_count": 118
        }
      ]
    },
    {
      "cell_type": "code",
      "metadata": {
        "id": "BRcHmdy3lxnE",
        "colab_type": "code",
        "colab": {
          "base_uri": "https://localhost:8080/",
          "height": 34
        },
        "outputId": "84d32741-f84d-46f1-e50a-585128d92e43"
      },
      "source": [
        "type(data)"
      ],
      "execution_count": 119,
      "outputs": [
        {
          "output_type": "execute_result",
          "data": {
            "text/plain": [
              "numpy.ndarray"
            ]
          },
          "metadata": {
            "tags": []
          },
          "execution_count": 119
        }
      ]
    },
    {
      "cell_type": "code",
      "metadata": {
        "id": "cCXT4oFKmAx-",
        "colab_type": "code",
        "colab": {}
      },
      "source": [
        "data_dask = da.from_array(data, chunks=(259,2))"
      ],
      "execution_count": 0,
      "outputs": []
    },
    {
      "cell_type": "code",
      "metadata": {
        "id": "cxYgkhtPmlNs",
        "colab_type": "code",
        "colab": {}
      },
      "source": [
        "res = data_dask.mean(axis=0)"
      ],
      "execution_count": 0,
      "outputs": []
    },
    {
      "cell_type": "code",
      "metadata": {
        "id": "4kZMGrCXndOM",
        "colab_type": "code",
        "colab": {
          "base_uri": "https://localhost:8080/",
          "height": 519
        },
        "outputId": "d2f1bcf0-a33a-4602-c646-bcbb6ae078df"
      },
      "source": [
        "res.visualize(rankdir='LR')"
      ],
      "execution_count": 124,
      "outputs": [
        {
          "output_type": "execute_result",
          "data": {
            "image/png": "[encoded data removed]",
            "text/plain": [
              "<IPython.core.display.Image object>"
            ]
          },
          "metadata": {
            "tags": []
          },
          "execution_count": 124
        }
      ]
    },
    {
      "cell_type": "code",
      "metadata": {
        "id": "23EUcSmLnwhS",
        "colab_type": "code",
        "colab": {
          "base_uri": "https://localhost:8080/",
          "height": 34
        },
        "outputId": "7ba324ff-886a-414c-fb19-881cc9ed7093"
      },
      "source": [
        "res.compute()"
      ],
      "execution_count": 125,
      "outputs": [
        {
          "output_type": "execute_result",
          "data": {
            "text/plain": [
              "array([51.83011583, 71.91891892, 80.93050193, 89.22007722])"
            ]
          },
          "metadata": {
            "tags": []
          },
          "execution_count": 125
        }
      ]
    },
    {
      "cell_type": "markdown",
      "metadata": {
        "id": "iJe4tES6nCMM",
        "colab_type": "text"
      },
      "source": [
        "El anterior es lo mismo que "
      ]
    },
    {
      "cell_type": "code",
      "metadata": {
        "id": "u-dW3dg6nD-k",
        "colab_type": "code",
        "colab": {
          "base_uri": "https://localhost:8080/",
          "height": 34
        },
        "outputId": "a063ea92-7ee2-46a4-bf93-6891e8c5433b"
      },
      "source": [
        "data.mean(axis=0)"
      ],
      "execution_count": 121,
      "outputs": [
        {
          "output_type": "execute_result",
          "data": {
            "text/plain": [
              "array([51.83011583, 71.91891892, 80.93050193, 89.22007722])"
            ]
          },
          "metadata": {
            "tags": []
          },
          "execution_count": 121
        }
      ]
    },
    {
      "cell_type": "code",
      "metadata": {
        "id": "33CvHnqWnGgr",
        "colab_type": "code",
        "colab": {}
      },
      "source": [
        ""
      ],
      "execution_count": 0,
      "outputs": []
    }
  ]
}