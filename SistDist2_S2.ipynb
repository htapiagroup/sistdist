{
  "nbformat": 4,
  "nbformat_minor": 0,
  "metadata": {
    "colab": {
      "name": "SistDist2_S2.ipynb",
      "version": "0.3.2",
      "provenance": [],
      "include_colab_link": true
    },
    "kernelspec": {
      "name": "python3",
      "display_name": "Python 3"
    }
  },
  "cells": [
    {
      "cell_type": "markdown",
      "metadata": {
        "id": "view-in-github",
        "colab_type": "text"
      },
      "source": [
        "<a href=\"https://colab.research.google.com/github/htapiagroup/sistdist/blob/mca2019/SistDist2_S2.ipynb\" target=\"_parent\"><img src=\"https://colab.research.google.com/assets/colab-badge.svg\" alt=\"Open In Colab\"/></a>"
      ]
    },
    {
      "cell_type": "markdown",
      "metadata": {
        "id": "Vv8mqOtf61-n",
        "colab_type": "text"
      },
      "source": [
        "# Resumen Semana 1\n",
        "\n",
        "* Como se \"guarda\" informacion en la computadora, uso de memoria\n"
      ]
    },
    {
      "cell_type": "code",
      "metadata": {
        "id": "4Z30_tpO6riZ",
        "colab_type": "code",
        "colab": {}
      },
      "source": [
        "import numpy as np\n",
        "import pandas as pd\n",
        "import psutil, os\n",
        "\n",
        "def huella_memoria():\n",
        "  '''Regresa la huella de memoria en MB usada por un proceso de Python'''\n",
        "  mem = psutil.Process(os.getpid()).memory_info().rss\n",
        "  return (mem / 1024**2)"
      ],
      "execution_count": 0,
      "outputs": []
    },
    {
      "cell_type": "code",
      "metadata": {
        "id": "P1ashXRd78--",
        "colab_type": "code",
        "outputId": "ee7fd3c4-1ac5-46bd-de45-ac130bb7c98a",
        "colab": {
          "base_uri": "https://localhost:8080/",
          "height": 50
        }
      },
      "source": [
        "antes = huella_memoria()\n",
        "x**2\n",
        "despues = huella_memoria()\n",
        "print('Memoria asignada a la operacion: {} MB'.format(despues-antes))\n",
        "print('Memoria utilizada por el arreglo: {} MB'.format(x.nbytes / (1024**2)))"
      ],
      "execution_count": 0,
      "outputs": [
        {
          "output_type": "stream",
          "text": [
            "Memoria asignada a la operacion: 0.0 MB\n",
            "Memoria utilizada por el arreglo: 50.0 MB\n"
          ],
          "name": "stdout"
        }
      ]
    },
    {
      "cell_type": "code",
      "metadata": {
        "id": "SgMc0BOL8PlE",
        "colab_type": "code",
        "outputId": "dd78739c-1369-4984-e3e4-78bbdc05cc1d",
        "colab": {
          "base_uri": "https://localhost:8080/",
          "height": 50
        }
      },
      "source": [
        "df = pd.DataFrame(x)\n",
        "print('Memoria utilizada por el df: {} MB'.format(df.memory_usage(index=False) / (1024**2)))"
      ],
      "execution_count": 0,
      "outputs": [
        {
          "output_type": "stream",
          "text": [
            "Memoria utilizada por el df: 0    50.0\n",
            "dtype: float64 MB\n"
          ],
          "name": "stdout"
        }
      ]
    },
    {
      "cell_type": "markdown",
      "metadata": {
        "id": "rSDwC_VW9TtU",
        "colab_type": "text"
      },
      "source": [
        "# Semana 2\n",
        "\n",
        "Comenzaremos descargando los datos que usaremos\n",
        "\n",
        "https://www1.nyc.gov/site/tlc/about/tlc-trip-record-data.page"
      ]
    },
    {
      "cell_type": "code",
      "metadata": {
        "id": "Lg-cCrBp9AQt",
        "colab_type": "code",
        "outputId": "14b59255-b590-4dbf-9871-12984b769dca",
        "colab": {
          "base_uri": "https://localhost:8080/",
          "height": 202
        }
      },
      "source": [
        "!wget https://s3.amazonaws.com/nyc-tlc/trip+data/yellow_tripdata_2018-01.csv"
      ],
      "execution_count": 0,
      "outputs": [
        {
          "output_type": "stream",
          "text": [
            "--2019-05-14 15:53:05--  https://s3.amazonaws.com/nyc-tlc/trip+data/yellow_tripdata_2018-01.csv\n",
            "Resolving s3.amazonaws.com (s3.amazonaws.com)... 52.216.96.109\n",
            "Connecting to s3.amazonaws.com (s3.amazonaws.com)|52.216.96.109|:443... connected.\n",
            "HTTP request sent, awaiting response... 200 OK\n",
            "Length: 772098307 (736M) [text/csv]\n",
            "Saving to: ‘yellow_tripdata_2018-01.csv’\n",
            "\n",
            "yellow_tripdata_201 100%[===================>] 736.33M  33.9MB/s    in 50s     \n",
            "\n",
            "2019-05-14 15:53:55 (14.8 MB/s) - ‘yellow_tripdata_2018-01.csv’ saved [772098307/772098307]\n",
            "\n"
          ],
          "name": "stdout"
        }
      ]
    },
    {
      "cell_type": "code",
      "metadata": {
        "id": "s7jxfValDCjp",
        "colab_type": "code",
        "outputId": "f4984029-553a-4333-d1bb-42a8c6238937",
        "colab": {
          "base_uri": "https://localhost:8080/",
          "height": 34
        }
      },
      "source": [
        "!wc -l yellow_tripdata_2018-01.csv"
      ],
      "execution_count": 0,
      "outputs": [
        {
          "output_type": "stream",
          "text": [
            "8759876 yellow_tripdata_2018-01.csv\n"
          ],
          "name": "stdout"
        }
      ]
    },
    {
      "cell_type": "markdown",
      "metadata": {
        "id": "ks55itszEU5c",
        "colab_type": "text"
      },
      "source": [
        "Vamos a escribir un programa para automatizar la descargar todo 2018 y "
      ]
    },
    {
      "cell_type": "code",
      "metadata": {
        "id": "DjRuSDYSDptT",
        "colab_type": "code",
        "colab": {}
      },
      "source": [
        "plantilla = 'yellow_tripdata_2018-{:02d}.csv'\n",
        "plantillaURL = 'wget https://s3.amazonaws.com/nyc-tlc/trip+data/'+plantilla"
      ],
      "execution_count": 0,
      "outputs": []
    },
    {
      "cell_type": "code",
      "metadata": {
        "id": "sjFlTIZWE_AR",
        "colab_type": "code",
        "colab": {}
      },
      "source": [
        "for y in range(1,13):\n",
        "  print(plantillaURL.format(y))"
      ],
      "execution_count": 0,
      "outputs": []
    },
    {
      "cell_type": "code",
      "metadata": {
        "id": "vQB5qMWDFOCZ",
        "colab_type": "code",
        "colab": {}
      },
      "source": [
        "comandos = [plantillaURL.format(y) for y in range(1,13)]"
      ],
      "execution_count": 0,
      "outputs": []
    },
    {
      "cell_type": "code",
      "metadata": {
        "id": "CMjL_20yGGGY",
        "colab_type": "code",
        "outputId": "dd727dfa-3161-4499-eaa3-807ff6c443d0",
        "colab": {
          "base_uri": "https://localhost:8080/",
          "height": 34
        }
      },
      "source": [
        "(plantillaURL.format(y) for y in range(1,13))"
      ],
      "execution_count": 0,
      "outputs": [
        {
          "output_type": "execute_result",
          "data": {
            "text/plain": [
              "<generator object <genexpr> at 0x7efd470dffc0>"
            ]
          },
          "metadata": {
            "tags": []
          },
          "execution_count": 19
        }
      ]
    },
    {
      "cell_type": "code",
      "metadata": {
        "id": "gHsSr0YIGIFo",
        "colab_type": "code",
        "colab": {}
      },
      "source": [
        "# vamos a descargar los datos usando la instruccion en la lista comandos\n",
        "comandos = [plantillaURL.format(y) for y in range(1,4)]\n",
        "for cmd in comandos:\n",
        "  os.system(cmd)"
      ],
      "execution_count": 0,
      "outputs": []
    },
    {
      "cell_type": "markdown",
      "metadata": {
        "id": "SDRsg4M3IDLX",
        "colab_type": "text"
      },
      "source": [
        "## Accediendo a los datos con pandas"
      ]
    },
    {
      "cell_type": "code",
      "metadata": {
        "id": "xilRT-g5H2S2",
        "colab_type": "code",
        "colab": {}
      },
      "source": [
        "archivo = 'yellow_tripdata_2018-01.csv'"
      ],
      "execution_count": 0,
      "outputs": []
    },
    {
      "cell_type": "code",
      "metadata": {
        "id": "ocpARDBhITrm",
        "colab_type": "code",
        "colab": {}
      },
      "source": [
        "df = pd.read_csv(archivo)"
      ],
      "execution_count": 0,
      "outputs": []
    },
    {
      "cell_type": "code",
      "metadata": {
        "id": "gNi-XvUfIaCt",
        "colab_type": "code",
        "outputId": "46ebea56-d983-4249-af52-ae8edaf0978f",
        "colab": {
          "base_uri": "https://localhost:8080/",
          "height": 34
        }
      },
      "source": [
        "sum(df.memory_usage(index=False)/(1024**2))"
      ],
      "execution_count": 0,
      "outputs": [
        {
          "output_type": "execute_result",
          "data": {
            "text/plain": [
              "1136.153091430664"
            ]
          },
          "metadata": {
            "tags": []
          },
          "execution_count": 25
        }
      ]
    },
    {
      "cell_type": "code",
      "metadata": {
        "id": "C1qrfitZIkYd",
        "colab_type": "code",
        "colab": {}
      },
      "source": [
        "for trozo in pd.read_csv(archivo, chunksize=50000):\n",
        "  print('type: %s shape %s' % (type(trozo), trozo.shape))"
      ],
      "execution_count": 0,
      "outputs": []
    },
    {
      "cell_type": "code",
      "metadata": {
        "id": "_3wGtaOwKeEK",
        "colab_type": "code",
        "outputId": "0e382cda-587c-4175-def0-cda41f504f70",
        "colab": {
          "base_uri": "https://localhost:8080/",
          "height": 34
        }
      },
      "source": [
        "trozo.shape"
      ],
      "execution_count": 0,
      "outputs": [
        {
          "output_type": "execute_result",
          "data": {
            "text/plain": [
              "(9874, 17)"
            ]
          },
          "metadata": {
            "tags": []
          },
          "execution_count": 34
        }
      ]
    },
    {
      "cell_type": "code",
      "metadata": {
        "id": "w0BbtBv4LuHB",
        "colab_type": "code",
        "outputId": "1ef89bfe-81cf-4e57-db8c-0a454fcd955b",
        "colab": {
          "base_uri": "https://localhost:8080/",
          "height": 386
        }
      },
      "source": [
        "trozo.info()"
      ],
      "execution_count": 0,
      "outputs": [
        {
          "output_type": "stream",
          "text": [
            "<class 'pandas.core.frame.DataFrame'>\n",
            "RangeIndex: 9874 entries, 8750000 to 8759873\n",
            "Data columns (total 17 columns):\n",
            "VendorID                 9874 non-null int64\n",
            "tpep_pickup_datetime     9874 non-null object\n",
            "tpep_dropoff_datetime    9874 non-null object\n",
            "passenger_count          9874 non-null int64\n",
            "trip_distance            9874 non-null float64\n",
            "RatecodeID               9874 non-null int64\n",
            "store_and_fwd_flag       9874 non-null object\n",
            "PULocationID             9874 non-null int64\n",
            "DOLocationID             9874 non-null int64\n",
            "payment_type             9874 non-null int64\n",
            "fare_amount              9874 non-null float64\n",
            "extra                    9874 non-null float64\n",
            "mta_tax                  9874 non-null float64\n",
            "tip_amount               9874 non-null float64\n",
            "tolls_amount             9874 non-null float64\n",
            "improvement_surcharge    9874 non-null float64\n",
            "total_amount             9874 non-null float64\n",
            "dtypes: float64(8), int64(6), object(3)\n",
            "memory usage: 1.3+ MB\n"
          ],
          "name": "stdout"
        }
      ]
    },
    {
      "cell_type": "code",
      "metadata": {
        "id": "YEOjBEPVL7nH",
        "colab_type": "code",
        "outputId": "71138785-29fa-44bf-937b-20fe11e62fa0",
        "colab": {
          "base_uri": "https://localhost:8080/",
          "height": 215
        }
      },
      "source": [
        "trozo.head()"
      ],
      "execution_count": 0,
      "outputs": [
        {
          "output_type": "execute_result",
          "data": {
            "text/html": [
              "<div>\n",
              "<style scoped>\n",
              "    .dataframe tbody tr th:only-of-type {\n",
              "        vertical-align: middle;\n",
              "    }\n",
              "\n",
              "    .dataframe tbody tr th {\n",
              "        vertical-align: top;\n",
              "    }\n",
              "\n",
              "    .dataframe thead th {\n",
              "        text-align: right;\n",
              "    }\n",
              "</style>\n",
              "<table border=\"1\" class=\"dataframe\">\n",
              "  <thead>\n",
              "    <tr style=\"text-align: right;\">\n",
              "      <th></th>\n",
              "      <th>VendorID</th>\n",
              "      <th>tpep_pickup_datetime</th>\n",
              "      <th>tpep_dropoff_datetime</th>\n",
              "      <th>passenger_count</th>\n",
              "      <th>trip_distance</th>\n",
              "      <th>RatecodeID</th>\n",
              "      <th>store_and_fwd_flag</th>\n",
              "      <th>PULocationID</th>\n",
              "      <th>DOLocationID</th>\n",
              "      <th>payment_type</th>\n",
              "      <th>fare_amount</th>\n",
              "      <th>extra</th>\n",
              "      <th>mta_tax</th>\n",
              "      <th>tip_amount</th>\n",
              "      <th>tolls_amount</th>\n",
              "      <th>improvement_surcharge</th>\n",
              "      <th>total_amount</th>\n",
              "    </tr>\n",
              "  </thead>\n",
              "  <tbody>\n",
              "    <tr>\n",
              "      <th>8750000</th>\n",
              "      <td>2</td>\n",
              "      <td>2018-01-31 23:36:22</td>\n",
              "      <td>2018-01-31 23:46:11</td>\n",
              "      <td>1</td>\n",
              "      <td>1.8</td>\n",
              "      <td>1</td>\n",
              "      <td>N</td>\n",
              "      <td>162</td>\n",
              "      <td>186</td>\n",
              "      <td>1</td>\n",
              "      <td>8.5</td>\n",
              "      <td>0.5</td>\n",
              "      <td>0.5</td>\n",
              "      <td>1.96</td>\n",
              "      <td>0.0</td>\n",
              "      <td>0.3</td>\n",
              "      <td>11.76</td>\n",
              "    </tr>\n",
              "    <tr>\n",
              "      <th>8750001</th>\n",
              "      <td>1</td>\n",
              "      <td>2018-01-31 23:41:34</td>\n",
              "      <td>2018-01-31 23:45:40</td>\n",
              "      <td>2</td>\n",
              "      <td>1.0</td>\n",
              "      <td>1</td>\n",
              "      <td>N</td>\n",
              "      <td>234</td>\n",
              "      <td>79</td>\n",
              "      <td>1</td>\n",
              "      <td>5.5</td>\n",
              "      <td>0.5</td>\n",
              "      <td>0.5</td>\n",
              "      <td>2.00</td>\n",
              "      <td>0.0</td>\n",
              "      <td>0.3</td>\n",
              "      <td>8.80</td>\n",
              "    </tr>\n",
              "    <tr>\n",
              "      <th>8750002</th>\n",
              "      <td>1</td>\n",
              "      <td>2018-01-31 23:26:35</td>\n",
              "      <td>2018-01-31 23:29:48</td>\n",
              "      <td>2</td>\n",
              "      <td>0.6</td>\n",
              "      <td>1</td>\n",
              "      <td>N</td>\n",
              "      <td>234</td>\n",
              "      <td>170</td>\n",
              "      <td>1</td>\n",
              "      <td>4.5</td>\n",
              "      <td>0.5</td>\n",
              "      <td>0.5</td>\n",
              "      <td>1.15</td>\n",
              "      <td>0.0</td>\n",
              "      <td>0.3</td>\n",
              "      <td>6.95</td>\n",
              "    </tr>\n",
              "    <tr>\n",
              "      <th>8750003</th>\n",
              "      <td>1</td>\n",
              "      <td>2018-01-31 23:15:56</td>\n",
              "      <td>2018-01-31 23:16:09</td>\n",
              "      <td>1</td>\n",
              "      <td>9.6</td>\n",
              "      <td>1</td>\n",
              "      <td>N</td>\n",
              "      <td>77</td>\n",
              "      <td>77</td>\n",
              "      <td>3</td>\n",
              "      <td>2.5</td>\n",
              "      <td>0.5</td>\n",
              "      <td>0.5</td>\n",
              "      <td>0.00</td>\n",
              "      <td>0.0</td>\n",
              "      <td>0.3</td>\n",
              "      <td>3.80</td>\n",
              "    </tr>\n",
              "    <tr>\n",
              "      <th>8750004</th>\n",
              "      <td>1</td>\n",
              "      <td>2018-01-31 23:17:26</td>\n",
              "      <td>2018-01-31 23:17:42</td>\n",
              "      <td>1</td>\n",
              "      <td>9.6</td>\n",
              "      <td>1</td>\n",
              "      <td>N</td>\n",
              "      <td>77</td>\n",
              "      <td>77</td>\n",
              "      <td>3</td>\n",
              "      <td>2.5</td>\n",
              "      <td>0.5</td>\n",
              "      <td>0.5</td>\n",
              "      <td>0.00</td>\n",
              "      <td>0.0</td>\n",
              "      <td>0.3</td>\n",
              "      <td>3.80</td>\n",
              "    </tr>\n",
              "  </tbody>\n",
              "</table>\n",
              "</div>"
            ],
            "text/plain": [
              "         VendorID tpep_pickup_datetime tpep_dropoff_datetime  passenger_count  \\\n",
              "8750000         2  2018-01-31 23:36:22   2018-01-31 23:46:11                1   \n",
              "8750001         1  2018-01-31 23:41:34   2018-01-31 23:45:40                2   \n",
              "8750002         1  2018-01-31 23:26:35   2018-01-31 23:29:48                2   \n",
              "8750003         1  2018-01-31 23:15:56   2018-01-31 23:16:09                1   \n",
              "8750004         1  2018-01-31 23:17:26   2018-01-31 23:17:42                1   \n",
              "\n",
              "         trip_distance  RatecodeID store_and_fwd_flag  PULocationID  \\\n",
              "8750000            1.8           1                  N           162   \n",
              "8750001            1.0           1                  N           234   \n",
              "8750002            0.6           1                  N           234   \n",
              "8750003            9.6           1                  N            77   \n",
              "8750004            9.6           1                  N            77   \n",
              "\n",
              "         DOLocationID  payment_type  fare_amount  extra  mta_tax  tip_amount  \\\n",
              "8750000           186             1          8.5    0.5      0.5        1.96   \n",
              "8750001            79             1          5.5    0.5      0.5        2.00   \n",
              "8750002           170             1          4.5    0.5      0.5        1.15   \n",
              "8750003            77             3          2.5    0.5      0.5        0.00   \n",
              "8750004            77             3          2.5    0.5      0.5        0.00   \n",
              "\n",
              "         tolls_amount  improvement_surcharge  total_amount  \n",
              "8750000           0.0                    0.3         11.76  \n",
              "8750001           0.0                    0.3          8.80  \n",
              "8750002           0.0                    0.3          6.95  \n",
              "8750003           0.0                    0.3          3.80  \n",
              "8750004           0.0                    0.3          3.80  "
            ]
          },
          "metadata": {
            "tags": []
          },
          "execution_count": 39
        }
      ]
    },
    {
      "cell_type": "code",
      "metadata": {
        "id": "roSol2pzWeh4",
        "colab_type": "code",
        "colab": {}
      },
      "source": [
        ""
      ],
      "execution_count": 0,
      "outputs": []
    },
    {
      "cell_type": "markdown",
      "metadata": {
        "id": "eYtfKCS9OXze",
        "colab_type": "text"
      },
      "source": [
        "Vamos a definir una condicion de `es_un_viaje_largo` si  el valor en la columna de `trip_distance` es mayor a 10 (millas, approx. 16km)"
      ]
    },
    {
      "cell_type": "code",
      "metadata": {
        "id": "T8MVYS46MhSY",
        "colab_type": "code",
        "outputId": "4ad37fbd-fdbc-4df8-c203-8f7ed27c9158",
        "colab": {
          "base_uri": "https://localhost:8080/",
          "height": 118
        }
      },
      "source": [
        "es_un_viaje_largo = (trozo.trip_distance > 10)\n",
        "es_un_viaje_largo.head()"
      ],
      "execution_count": 0,
      "outputs": [
        {
          "output_type": "execute_result",
          "data": {
            "text/plain": [
              "8750000    False\n",
              "8750001    False\n",
              "8750002    False\n",
              "8750003    False\n",
              "8750004    False\n",
              "Name: trip_distance, dtype: bool"
            ]
          },
          "metadata": {
            "tags": []
          },
          "execution_count": 40
        }
      ]
    },
    {
      "cell_type": "code",
      "metadata": {
        "id": "YM2zln6tPEdt",
        "colab_type": "code",
        "outputId": "9b8f5165-47c9-4f2a-f0c9-d29f2089870d",
        "colab": {
          "base_uri": "https://localhost:8080/",
          "height": 34
        }
      },
      "source": [
        "trozo.loc[es_un_viaje_largo].shape"
      ],
      "execution_count": 0,
      "outputs": [
        {
          "output_type": "execute_result",
          "data": {
            "text/plain": [
              "(431, 17)"
            ]
          },
          "metadata": {
            "tags": []
          },
          "execution_count": 42
        }
      ]
    },
    {
      "cell_type": "markdown",
      "metadata": {
        "id": "sX9Jv8YEPr2X",
        "colab_type": "text"
      },
      "source": [
        "Encapsulemos esta operacion de filtrado en una funcion"
      ]
    },
    {
      "cell_type": "code",
      "metadata": {
        "id": "0PHGaqfBPWOd",
        "colab_type": "code",
        "colab": {}
      },
      "source": [
        "def filtra_es_un_viaje_largo(data):\n",
        "  es_un_viaje_largo = (data.trip_distance > 10)\n",
        "  return data.loc[es_un_viaje_largo]"
      ],
      "execution_count": 0,
      "outputs": []
    },
    {
      "cell_type": "code",
      "metadata": {
        "id": "m3lAHpuDQCjs",
        "colab_type": "code",
        "colab": {}
      },
      "source": [
        "trozos = []\n",
        "for trozo in pd.read_csv(archivo, chunksize=500000):\n",
        "  trozos.append(filtra_es_un_viaje_largo(trozo))"
      ],
      "execution_count": 0,
      "outputs": []
    },
    {
      "cell_type": "code",
      "metadata": {
        "id": "y6lp4YAJQqCr",
        "colab_type": "code",
        "outputId": "91350020-37ac-4966-aa1c-7fa0963bf8d9",
        "colab": {
          "base_uri": "https://localhost:8080/",
          "height": 34
        }
      },
      "source": [
        "len(trozos)"
      ],
      "execution_count": 0,
      "outputs": [
        {
          "output_type": "execute_result",
          "data": {
            "text/plain": [
              "18"
            ]
          },
          "metadata": {
            "tags": []
          },
          "execution_count": 45
        }
      ]
    },
    {
      "cell_type": "markdown",
      "metadata": {
        "id": "Et0PJsM0RZGc",
        "colab_type": "text"
      },
      "source": [
        "Es conveniente usar una *comprension de lista* para generar la lista anterior"
      ]
    },
    {
      "cell_type": "code",
      "metadata": {
        "id": "daR6tbmfQ0-j",
        "colab_type": "code",
        "outputId": "3f66305c-c603-4655-d88e-8f5be2028182",
        "colab": {
          "base_uri": "https://localhost:8080/",
          "height": 34
        }
      },
      "source": [
        "trozos = [ filtra_es_un_viaje_largo(trozo) for trozo in pd.read_csv(archivo, chunksize=500000)]\n",
        "len(trozos)"
      ],
      "execution_count": 0,
      "outputs": [
        {
          "output_type": "execute_result",
          "data": {
            "text/plain": [
              "18"
            ]
          },
          "metadata": {
            "tags": []
          },
          "execution_count": 46
        }
      ]
    },
    {
      "cell_type": "code",
      "metadata": {
        "id": "5woh0az_R2KK",
        "colab_type": "code",
        "colab": {}
      },
      "source": [
        "tamanos = [len(trozo) for trozo in trozos]\n",
        "tamanos"
      ],
      "execution_count": 0,
      "outputs": []
    },
    {
      "cell_type": "code",
      "metadata": {
        "id": "bTg2sEiZSKwp",
        "colab_type": "code",
        "outputId": "8cae62a3-2aad-44b9-bd89-c5080d8af78e",
        "colab": {
          "base_uri": "https://localhost:8080/",
          "height": 34
        }
      },
      "source": [
        "np.mean(tamanos)"
      ],
      "execution_count": 0,
      "outputs": [
        {
          "output_type": "execute_result",
          "data": {
            "text/plain": [
              "25934.11111111111"
            ]
          },
          "metadata": {
            "tags": []
          },
          "execution_count": 48
        }
      ]
    },
    {
      "cell_type": "markdown",
      "metadata": {
        "id": "VJxfSQxzShFq",
        "colab_type": "text"
      },
      "source": [
        "Vamos a concatenar todos estos trozos en una nueva estructura de datos `DataFrame`, \n",
        "\n",
        "Dicha estructura debera tener cuantos registros?"
      ]
    },
    {
      "cell_type": "code",
      "metadata": {
        "id": "1OJ2U2QESOex",
        "colab_type": "code",
        "outputId": "c6472525-3bdd-45da-df6d-a73ca51c9dec",
        "colab": {
          "base_uri": "https://localhost:8080/",
          "height": 34
        }
      },
      "source": [
        "sum(tamanos)"
      ],
      "execution_count": 0,
      "outputs": [
        {
          "output_type": "execute_result",
          "data": {
            "text/plain": [
              "466814"
            ]
          },
          "metadata": {
            "tags": []
          },
          "execution_count": 50
        }
      ]
    },
    {
      "cell_type": "code",
      "metadata": {
        "id": "g6c_hj5gSWGZ",
        "colab_type": "code",
        "outputId": "e8ec6cab-c0ce-41b7-cbaf-1cb70709a9c0",
        "colab": {
          "base_uri": "https://localhost:8080/",
          "height": 34
        }
      },
      "source": [
        "viajes_largos_df = pd.concat(trozos)\n",
        "viajes_largos_df.shape"
      ],
      "execution_count": 0,
      "outputs": [
        {
          "output_type": "execute_result",
          "data": {
            "text/plain": [
              "(466814, 17)"
            ]
          },
          "metadata": {
            "tags": []
          },
          "execution_count": 51
        }
      ]
    },
    {
      "cell_type": "markdown",
      "metadata": {
        "id": "Et-DtzV7TkyS",
        "colab_type": "text"
      },
      "source": [
        "Ahora vamos a visualizar los datos filtrados"
      ]
    },
    {
      "cell_type": "code",
      "metadata": {
        "id": "sJwAJziDS77Y",
        "colab_type": "code",
        "colab": {}
      },
      "source": [
        "import matplotlib.pyplot as plt"
      ],
      "execution_count": 0,
      "outputs": []
    },
    {
      "cell_type": "code",
      "metadata": {
        "id": "QY0ZFY-hTtJw",
        "colab_type": "code",
        "outputId": "f53dbf02-76fa-4c8d-956e-7dbb98a7e64a",
        "colab": {
          "base_uri": "https://localhost:8080/",
          "height": 296
        }
      },
      "source": [
        "viajes_largos_df.plot.scatter(x='trip_distance', y='fare_amount', title='Viajes Largos > 10 mi',xlim=(0,200),ylim=(0,1000));"
      ],
      "execution_count": 0,
      "outputs": [
        {
          "output_type": "display_data",
          "data": {
            "image/png": "[encoded data removed]",
            "text/plain": [
              "<Figure size 432x288 with 1 Axes>"
            ]
          },
          "metadata": {
            "tags": []
          }
        }
      ]
    },
    {
      "cell_type": "markdown",
      "metadata": {
        "id": "gBpnZseTXujk",
        "colab_type": "text"
      },
      "source": [
        "# Generadores"
      ]
    },
    {
      "cell_type": "code",
      "metadata": {
        "id": "mfXLCRlXUUeH",
        "colab_type": "code",
        "colab": {}
      },
      "source": [
        "trozos = (filtra_es_un_viaje_largo(trozo) for trozo in pd.read_csv(archivo, chunksize=500000))"
      ],
      "execution_count": 0,
      "outputs": []
    },
    {
      "cell_type": "markdown",
      "metadata": {
        "id": "pKC_6CMMYSyC",
        "colab_type": "text"
      },
      "source": [
        "### Tarea: cual es la huella de memoria del generador anterior?"
      ]
    },
    {
      "cell_type": "code",
      "metadata": {
        "id": "DFDwehdmZLEp",
        "colab_type": "code",
        "colab": {}
      },
      "source": [
        "[trozo['trip_distance'].sum() for trozo in trozos]"
      ],
      "execution_count": 0,
      "outputs": []
    },
    {
      "cell_type": "code",
      "metadata": {
        "id": "ghYM5yNRYFF6",
        "colab_type": "code",
        "colab": {}
      },
      "source": [
        "distancias = (trozo['trip_distance'].sum() for trozo in trozos)"
      ],
      "execution_count": 0,
      "outputs": []
    },
    {
      "cell_type": "code",
      "metadata": {
        "id": "43ku7Uv8ZB9h",
        "colab_type": "code",
        "outputId": "9b6dad38-4397-4ae8-9009-b89dd9b3add8",
        "colab": {
          "base_uri": "https://localhost:8080/",
          "height": 34
        }
      },
      "source": [
        "sum(distancias)"
      ],
      "execution_count": 0,
      "outputs": [
        {
          "output_type": "execute_result",
          "data": {
            "text/plain": [
              "7339629.629999999"
            ]
          },
          "metadata": {
            "tags": []
          },
          "execution_count": 66
        }
      ]
    },
    {
      "cell_type": "code",
      "metadata": {
        "id": "FFYlVLICZlZ5",
        "colab_type": "code",
        "outputId": "57ba14cc-ab2f-429d-d335-e6fd245c55f8",
        "colab": {
          "base_uri": "https://localhost:8080/",
          "height": 34
        }
      },
      "source": [
        "distancias"
      ],
      "execution_count": 0,
      "outputs": [
        {
          "output_type": "execute_result",
          "data": {
            "text/plain": [
              "<generator object <genexpr> at 0x7efd3ee99728>"
            ]
          },
          "metadata": {
            "tags": []
          },
          "execution_count": 67
        }
      ]
    },
    {
      "cell_type": "code",
      "metadata": {
        "id": "7418QyUeaJmm",
        "colab_type": "code",
        "outputId": "e194af2b-9944-4998-fb1a-4b2ca26b795d",
        "colab": {
          "base_uri": "https://localhost:8080/",
          "height": 34
        }
      },
      "source": [
        "sum(distancias)"
      ],
      "execution_count": 0,
      "outputs": [
        {
          "output_type": "execute_result",
          "data": {
            "text/plain": [
              "0"
            ]
          },
          "metadata": {
            "tags": []
          },
          "execution_count": 69
        }
      ]
    },
    {
      "cell_type": "markdown",
      "metadata": {
        "id": "oxaBtAuLbCcD",
        "colab_type": "text"
      },
      "source": [
        "Vamos a leer muchos archivos "
      ]
    },
    {
      "cell_type": "code",
      "metadata": {
        "id": "CqaY-7ygaNSk",
        "colab_type": "code",
        "colab": {}
      },
      "source": [
        "df = pd.read_csv('yellow_tripdata_2018-01.csv', parse_dates=[1,2])"
      ],
      "execution_count": 0,
      "outputs": []
    },
    {
      "cell_type": "code",
      "metadata": {
        "id": "BbzMw6GmbbO2",
        "colab_type": "code",
        "outputId": "ecaa5a63-768d-4b2e-cd91-e23d2dd638bf",
        "colab": {
          "base_uri": "https://localhost:8080/",
          "height": 386
        }
      },
      "source": [
        "df.info()"
      ],
      "execution_count": 0,
      "outputs": [
        {
          "output_type": "stream",
          "text": [
            "<class 'pandas.core.frame.DataFrame'>\n",
            "RangeIndex: 8759874 entries, 0 to 8759873\n",
            "Data columns (total 17 columns):\n",
            "VendorID                 int64\n",
            "tpep_pickup_datetime     datetime64[ns]\n",
            "tpep_dropoff_datetime    datetime64[ns]\n",
            "passenger_count          int64\n",
            "trip_distance            float64\n",
            "RatecodeID               int64\n",
            "store_and_fwd_flag       object\n",
            "PULocationID             int64\n",
            "DOLocationID             int64\n",
            "payment_type             int64\n",
            "fare_amount              float64\n",
            "extra                    float64\n",
            "mta_tax                  float64\n",
            "tip_amount               float64\n",
            "tolls_amount             float64\n",
            "improvement_surcharge    float64\n",
            "total_amount             float64\n",
            "dtypes: datetime64[ns](2), float64(8), int64(6), object(1)\n",
            "memory usage: 1.1+ GB\n"
          ],
          "name": "stdout"
        }
      ]
    },
    {
      "cell_type": "code",
      "metadata": {
        "id": "NBbnLjArbcxQ",
        "colab_type": "code",
        "outputId": "30ddd79b-4061-4471-f1fd-42fac5869370",
        "colab": {
          "base_uri": "https://localhost:8080/",
          "height": 215
        }
      },
      "source": [
        "df.head()"
      ],
      "execution_count": 0,
      "outputs": [
        {
          "output_type": "execute_result",
          "data": {
            "text/html": [
              "<div>\n",
              "<style scoped>\n",
              "    .dataframe tbody tr th:only-of-type {\n",
              "        vertical-align: middle;\n",
              "    }\n",
              "\n",
              "    .dataframe tbody tr th {\n",
              "        vertical-align: top;\n",
              "    }\n",
              "\n",
              "    .dataframe thead th {\n",
              "        text-align: right;\n",
              "    }\n",
              "</style>\n",
              "<table border=\"1\" class=\"dataframe\">\n",
              "  <thead>\n",
              "    <tr style=\"text-align: right;\">\n",
              "      <th></th>\n",
              "      <th>VendorID</th>\n",
              "      <th>tpep_pickup_datetime</th>\n",
              "      <th>tpep_dropoff_datetime</th>\n",
              "      <th>passenger_count</th>\n",
              "      <th>trip_distance</th>\n",
              "      <th>RatecodeID</th>\n",
              "      <th>store_and_fwd_flag</th>\n",
              "      <th>PULocationID</th>\n",
              "      <th>DOLocationID</th>\n",
              "      <th>payment_type</th>\n",
              "      <th>fare_amount</th>\n",
              "      <th>extra</th>\n",
              "      <th>mta_tax</th>\n",
              "      <th>tip_amount</th>\n",
              "      <th>tolls_amount</th>\n",
              "      <th>improvement_surcharge</th>\n",
              "      <th>total_amount</th>\n",
              "    </tr>\n",
              "  </thead>\n",
              "  <tbody>\n",
              "    <tr>\n",
              "      <th>0</th>\n",
              "      <td>1</td>\n",
              "      <td>2018-01-01 00:21:05</td>\n",
              "      <td>2018-01-01 00:24:23</td>\n",
              "      <td>1</td>\n",
              "      <td>0.5</td>\n",
              "      <td>1</td>\n",
              "      <td>N</td>\n",
              "      <td>41</td>\n",
              "      <td>24</td>\n",
              "      <td>2</td>\n",
              "      <td>4.5</td>\n",
              "      <td>0.5</td>\n",
              "      <td>0.5</td>\n",
              "      <td>0.00</td>\n",
              "      <td>0.0</td>\n",
              "      <td>0.3</td>\n",
              "      <td>5.80</td>\n",
              "    </tr>\n",
              "    <tr>\n",
              "      <th>1</th>\n",
              "      <td>1</td>\n",
              "      <td>2018-01-01 00:44:55</td>\n",
              "      <td>2018-01-01 01:03:05</td>\n",
              "      <td>1</td>\n",
              "      <td>2.7</td>\n",
              "      <td>1</td>\n",
              "      <td>N</td>\n",
              "      <td>239</td>\n",
              "      <td>140</td>\n",
              "      <td>2</td>\n",
              "      <td>14.0</td>\n",
              "      <td>0.5</td>\n",
              "      <td>0.5</td>\n",
              "      <td>0.00</td>\n",
              "      <td>0.0</td>\n",
              "      <td>0.3</td>\n",
              "      <td>15.30</td>\n",
              "    </tr>\n",
              "    <tr>\n",
              "      <th>2</th>\n",
              "      <td>1</td>\n",
              "      <td>2018-01-01 00:08:26</td>\n",
              "      <td>2018-01-01 00:14:21</td>\n",
              "      <td>2</td>\n",
              "      <td>0.8</td>\n",
              "      <td>1</td>\n",
              "      <td>N</td>\n",
              "      <td>262</td>\n",
              "      <td>141</td>\n",
              "      <td>1</td>\n",
              "      <td>6.0</td>\n",
              "      <td>0.5</td>\n",
              "      <td>0.5</td>\n",
              "      <td>1.00</td>\n",
              "      <td>0.0</td>\n",
              "      <td>0.3</td>\n",
              "      <td>8.30</td>\n",
              "    </tr>\n",
              "    <tr>\n",
              "      <th>3</th>\n",
              "      <td>1</td>\n",
              "      <td>2018-01-01 00:20:22</td>\n",
              "      <td>2018-01-01 00:52:51</td>\n",
              "      <td>1</td>\n",
              "      <td>10.2</td>\n",
              "      <td>1</td>\n",
              "      <td>N</td>\n",
              "      <td>140</td>\n",
              "      <td>257</td>\n",
              "      <td>2</td>\n",
              "      <td>33.5</td>\n",
              "      <td>0.5</td>\n",
              "      <td>0.5</td>\n",
              "      <td>0.00</td>\n",
              "      <td>0.0</td>\n",
              "      <td>0.3</td>\n",
              "      <td>34.80</td>\n",
              "    </tr>\n",
              "    <tr>\n",
              "      <th>4</th>\n",
              "      <td>1</td>\n",
              "      <td>2018-01-01 00:09:18</td>\n",
              "      <td>2018-01-01 00:27:06</td>\n",
              "      <td>2</td>\n",
              "      <td>2.5</td>\n",
              "      <td>1</td>\n",
              "      <td>N</td>\n",
              "      <td>246</td>\n",
              "      <td>239</td>\n",
              "      <td>1</td>\n",
              "      <td>12.5</td>\n",
              "      <td>0.5</td>\n",
              "      <td>0.5</td>\n",
              "      <td>2.75</td>\n",
              "      <td>0.0</td>\n",
              "      <td>0.3</td>\n",
              "      <td>16.55</td>\n",
              "    </tr>\n",
              "  </tbody>\n",
              "</table>\n",
              "</div>"
            ],
            "text/plain": [
              "   VendorID tpep_pickup_datetime tpep_dropoff_datetime  passenger_count  \\\n",
              "0         1  2018-01-01 00:21:05   2018-01-01 00:24:23                1   \n",
              "1         1  2018-01-01 00:44:55   2018-01-01 01:03:05                1   \n",
              "2         1  2018-01-01 00:08:26   2018-01-01 00:14:21                2   \n",
              "3         1  2018-01-01 00:20:22   2018-01-01 00:52:51                1   \n",
              "4         1  2018-01-01 00:09:18   2018-01-01 00:27:06                2   \n",
              "\n",
              "   trip_distance  RatecodeID store_and_fwd_flag  PULocationID  DOLocationID  \\\n",
              "0            0.5           1                  N            41            24   \n",
              "1            2.7           1                  N           239           140   \n",
              "2            0.8           1                  N           262           141   \n",
              "3           10.2           1                  N           140           257   \n",
              "4            2.5           1                  N           246           239   \n",
              "\n",
              "   payment_type  fare_amount  extra  mta_tax  tip_amount  tolls_amount  \\\n",
              "0             2          4.5    0.5      0.5        0.00           0.0   \n",
              "1             2         14.0    0.5      0.5        0.00           0.0   \n",
              "2             1          6.0    0.5      0.5        1.00           0.0   \n",
              "3             2         33.5    0.5      0.5        0.00           0.0   \n",
              "4             1         12.5    0.5      0.5        2.75           0.0   \n",
              "\n",
              "   improvement_surcharge  total_amount  \n",
              "0                    0.3          5.80  \n",
              "1                    0.3         15.30  \n",
              "2                    0.3          8.30  \n",
              "3                    0.3         34.80  \n",
              "4                    0.3         16.55  "
            ]
          },
          "metadata": {
            "tags": []
          },
          "execution_count": 72
        }
      ]
    },
    {
      "cell_type": "code",
      "metadata": {
        "id": "lqTfr7V_bdi-",
        "colab_type": "code",
        "colab": {}
      },
      "source": [
        "def cuenta_viajes_tardados(df):\n",
        "  df['duracion'] = (df.tpep_dropoff_datetime - df.tpep_pickup_datetime).dt.seconds\n",
        "  es_viaje_tardado = df.duracion > 1200 \n",
        "  result_dict = {'n_long': [sum(es_viaje_tardado)],\n",
        "                'n_total': [len(df)]}\n",
        "  return pd.DataFrame(result_dict)"
      ],
      "execution_count": 0,
      "outputs": []
    },
    {
      "cell_type": "code",
      "metadata": {
        "id": "T1O19CQKdJik",
        "colab_type": "code",
        "colab": {}
      },
      "source": [
        "archivos = [plantilla.format(y) for y in range(1,4)]"
      ],
      "execution_count": 0,
      "outputs": []
    },
    {
      "cell_type": "code",
      "metadata": {
        "id": "5AkUqszEdOh0",
        "colab_type": "code",
        "colab": {}
      },
      "source": [
        "dataframes = (pd.read_csv(archivo, parse_dates=[1,2]) for archivo in archivos)"
      ],
      "execution_count": 0,
      "outputs": []
    },
    {
      "cell_type": "code",
      "metadata": {
        "id": "WxWQXw1fdiAU",
        "colab_type": "code",
        "colab": {}
      },
      "source": [
        "totales = (cuenta_viajes_tardados(df) for df in dataframes)"
      ],
      "execution_count": 0,
      "outputs": []
    },
    {
      "cell_type": "code",
      "metadata": {
        "id": "cPhwiPVCeAlr",
        "colab_type": "code",
        "colab": {}
      },
      "source": [
        "totales_trimestrales = sum(totales)"
      ],
      "execution_count": 0,
      "outputs": []
    },
    {
      "cell_type": "code",
      "metadata": {
        "id": "bJi9s5MEeOMD",
        "colab_type": "code",
        "outputId": "09f0963f-a38d-46b6-914c-baacc4d18bbf",
        "colab": {
          "base_uri": "https://localhost:8080/",
          "height": 50
        }
      },
      "source": [
        "print(totales_trimestrales)"
      ],
      "execution_count": 0,
      "outputs": [
        {
          "output_type": "stream",
          "text": [
            "    n_long   n_total\n",
            "0  4942465  26682326\n"
          ],
          "name": "stdout"
        }
      ]
    },
    {
      "cell_type": "code",
      "metadata": {
        "id": "9bpqBX-ofDrK",
        "colab_type": "code",
        "outputId": "634cf24a-abde-4cfc-96a7-385f6413e667",
        "colab": {
          "base_uri": "https://localhost:8080/",
          "height": 50
        }
      },
      "source": [
        "totales_trimestrales['n_long']/totales_trimestrales['n_total']"
      ],
      "execution_count": 0,
      "outputs": [
        {
          "output_type": "execute_result",
          "data": {
            "text/plain": [
              "0    0.185234\n",
              "dtype: float64"
            ]
          },
          "metadata": {
            "tags": []
          },
          "execution_count": 81
        }
      ]
    },
    {
      "cell_type": "code",
      "metadata": {
        "id": "ANnEEmApfSlS",
        "colab_type": "code",
        "colab": {}
      },
      "source": [
        "import time\n"
      ],
      "execution_count": 0,
      "outputs": []
    },
    {
      "cell_type": "code",
      "metadata": {
        "id": "znhJuYjbfgS6",
        "colab_type": "code",
        "colab": {}
      },
      "source": [
        ""
      ],
      "execution_count": 0,
      "outputs": []
    }
  ]
}