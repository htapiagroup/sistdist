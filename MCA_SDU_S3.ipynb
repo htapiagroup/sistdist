{
  "nbformat": 4,
  "nbformat_minor": 0,
  "metadata": {
    "colab": {
      "name": "MCA_SDU_S3.ipynb",
      "version": "0.3.2",
      "provenance": [],
      "include_colab_link": true
    },
    "kernelspec": {
      "name": "python3",
      "display_name": "Python 3"
    }
  },
  "cells": [
    {
      "cell_type": "markdown",
      "metadata": {
        "id": "view-in-github",
        "colab_type": "text"
      },
      "source": [
        "<a href=\"https://colab.research.google.com/github/htapiagroup/sistdist/blob/master/MCA_SDU_S3.ipynb\" target=\"_parent\"><img src=\"https://colab.research.google.com/assets/colab-badge.svg\" alt=\"Open In Colab\"/></a>"
      ]
    },
    {
      "cell_type": "markdown",
      "metadata": {
        "id": "PCu13JxL-CRl",
        "colab_type": "text"
      },
      "source": [
        "# Sistemas Distribuidos y Ubicuos II \n",
        "\n",
        "## MCA Tercer cuatrimestre\n",
        "\n",
        "### Horacio Tapia-McClung\n"
      ]
    },
    {
      "cell_type": "markdown",
      "metadata": {
        "id": "ZePGzZdq-Fmc",
        "colab_type": "text"
      },
      "source": [
        "\n",
        "# Resumen Semana 2\n",
        "\n",
        "* Descargamos los datos de viajes en taxi de NYC"
      ]
    },
    {
      "cell_type": "code",
      "metadata": {
        "id": "w3Wm_eS3-GyP",
        "colab_type": "code",
        "colab": {}
      },
      "source": [
        "# !wget https://s3.amazonaws.com/nyc-tlc/trip+data/yellow_tripdata_2018-01.csv\n",
        "plantilla = 'yellow_tripdata_2018-{:02d}.csv'\n",
        "plantillaURL = 'wget https://s3.amazonaws.com/nyc-tlc/trip+data/'+plantilla\n",
        "\n",
        "urls = (plantillaURL.format(k) for k in range(1,7)) # generator\n",
        "for urls in urls:\n",
        "  print(url)"
      ],
      "execution_count": 0,
      "outputs": []
    },
    {
      "cell_type": "markdown",
      "metadata": {
        "id": "YHzUKE_n-m-d",
        "colab_type": "text"
      },
      "source": [
        "* La siguiente funcion regresa el numero de viajes con una duracion mayor a 20 minutos **usando generadores**"
      ]
    },
    {
      "cell_type": "code",
      "metadata": {
        "id": "dDai-Q1P9kvn",
        "colab_type": "code",
        "colab": {}
      },
      "source": [
        "def cuenta_viajes_largos(df):\n",
        "  df['duracion'] = (df.tpep_dropoff_datetime - df.tpep_pickup_datetime).dt.seconds\n",
        "  es_viaje_largo = df.duracion > 1200 # viajes que duran mas de 20 minutos\n",
        "  result_dict = {'n_long':[sum(es_viaje_largo)],\n",
        "                'n_total':[len(df)]}\n",
        "  return pd.DataFrame(result_dict)"
      ],
      "execution_count": 0,
      "outputs": []
    },
    {
      "cell_type": "markdown",
      "metadata": {
        "id": "OLIlo04O-37X",
        "colab_type": "text"
      },
      "source": [
        "* Creamos un generador que lee los archivos y un generador que evalua el calculo"
      ]
    },
    {
      "cell_type": "code",
      "metadata": {
        "id": "mNgw8XGb-3HV",
        "colab_type": "code",
        "colab": {}
      },
      "source": [
        "dataframes = (pd.read_csv(archivo, parse_dates=[1,2]) for archivo in archivos) # generador\n",
        "totales = (cuenta_viajes_largos(df) for df in dataframes) #generador"
      ],
      "execution_count": 0,
      "outputs": []
    },
    {
      "cell_type": "markdown",
      "metadata": {
        "id": "ybNeeonC_H0d",
        "colab_type": "text"
      },
      "source": [
        "* Consumimos el generador y las operaciones se llevan a cabo"
      ]
    },
    {
      "cell_type": "code",
      "metadata": {
        "id": "hl3lJizT_INp",
        "colab_type": "code",
        "colab": {}
      },
      "source": [
        "totales_semianuales = sum(totales) # consume generadores # TARDO ~ 4:10.70 USANDO SEIS ARCHIVOS"
      ],
      "execution_count": 0,
      "outputs": []
    },
    {
      "cell_type": "markdown",
      "metadata": {
        "id": "T8ftSK1I_TIs",
        "colab_type": "text"
      },
      "source": [
        "# Semana 3\n",
        "\n",
        "Esta semana vamos a introducir un concepto llamado `delay` o retraso."
      ]
    },
    {
      "cell_type": "code",
      "metadata": {
        "id": "wyMw9HPnA9j9",
        "colab_type": "code",
        "colab": {}
      },
      "source": [
        "from math import sqrt"
      ],
      "execution_count": 0,
      "outputs": []
    },
    {
      "cell_type": "code",
      "metadata": {
        "id": "zM67LSY2A_tY",
        "colab_type": "code",
        "colab": {}
      },
      "source": [
        "def f(z):\n",
        "  return sqrt(z + 4)\n",
        "\n",
        "def g(y):\n",
        "  return y - 3\n",
        "\n",
        "def h(x):\n",
        "  return x ** 2"
      ],
      "execution_count": 0,
      "outputs": []
    },
    {
      "cell_type": "code",
      "metadata": {
        "id": "2hP3yfIbBA3m",
        "colab_type": "code",
        "colab": {}
      },
      "source": [
        "x = 4\n",
        "y = h(x)\n",
        "z = g(y)\n",
        "w = f(z)"
      ],
      "execution_count": 0,
      "outputs": []
    },
    {
      "cell_type": "code",
      "metadata": {
        "id": "taZ9uRkOBLbo",
        "colab_type": "code",
        "outputId": "c0e8005b-f858-45e0-bf2d-fcf862083e61",
        "colab": {
          "base_uri": "https://localhost:8080/",
          "height": 35
        }
      },
      "source": [
        "print(f(g(h(x))))"
      ],
      "execution_count": 0,
      "outputs": [
        {
          "output_type": "stream",
          "text": [
            "4.123105625617661\n"
          ],
          "name": "stdout"
        }
      ]
    },
    {
      "cell_type": "markdown",
      "metadata": {
        "id": "EX2A7EvxBRYp",
        "colab_type": "text"
      },
      "source": [
        "Repetiremos este calculo usando `delayed` de la libreria `dask` que es una funcion de orden alto o decorador, que mapea una funcion de entrada a otra funcion de salida modificada"
      ]
    },
    {
      "cell_type": "code",
      "metadata": {
        "id": "ObniF-w4BOeZ",
        "colab_type": "code",
        "colab": {}
      },
      "source": [
        "from dask import delayed"
      ],
      "execution_count": 0,
      "outputs": []
    },
    {
      "cell_type": "code",
      "metadata": {
        "id": "9DtklUmsBUK8",
        "colab_type": "code",
        "colab": {}
      },
      "source": [
        "y = delayed(h)(x)"
      ],
      "execution_count": 0,
      "outputs": []
    },
    {
      "cell_type": "code",
      "metadata": {
        "id": "AxeTTpw-BX0I",
        "colab_type": "code",
        "colab": {}
      },
      "source": [
        "z = delayed(g)(y)"
      ],
      "execution_count": 0,
      "outputs": []
    },
    {
      "cell_type": "code",
      "metadata": {
        "id": "5EGhmBgEBZk5",
        "colab_type": "code",
        "colab": {}
      },
      "source": [
        "w = delayed(f)(z)"
      ],
      "execution_count": 0,
      "outputs": []
    },
    {
      "cell_type": "code",
      "metadata": {
        "id": "jHzOM8z0Ba8a",
        "colab_type": "code",
        "outputId": "664232c1-4ff2-47cc-f6af-c8eb93c08e9f",
        "colab": {
          "base_uri": "https://localhost:8080/",
          "height": 35
        }
      },
      "source": [
        "print(w)"
      ],
      "execution_count": 0,
      "outputs": [
        {
          "output_type": "stream",
          "text": [
            "Delayed('f-6e65f933-ad4d-43a5-a051-7085aad750da')\n"
          ],
          "name": "stdout"
        }
      ]
    },
    {
      "cell_type": "code",
      "metadata": {
        "id": "oeGzm00DBcFM",
        "colab_type": "code",
        "outputId": "caf5451d-9b6e-4934-884b-1f48d03a097f",
        "colab": {
          "base_uri": "https://localhost:8080/",
          "height": 35
        }
      },
      "source": [
        "type(w)"
      ],
      "execution_count": 0,
      "outputs": [
        {
          "output_type": "execute_result",
          "data": {
            "text/plain": [
              "dask.delayed.Delayed"
            ]
          },
          "metadata": {
            "tags": []
          },
          "execution_count": 10
        }
      ]
    },
    {
      "cell_type": "code",
      "metadata": {
        "id": "T6_I-DlWBewb",
        "colab_type": "code",
        "outputId": "daa07e14-b092-416d-8719-a6e36123bba9",
        "colab": {
          "base_uri": "https://localhost:8080/",
          "height": 35
        }
      },
      "source": [
        "w.compute()"
      ],
      "execution_count": 0,
      "outputs": [
        {
          "output_type": "execute_result",
          "data": {
            "text/plain": [
              "4.123105625617661"
            ]
          },
          "metadata": {
            "tags": []
          },
          "execution_count": 11
        }
      ]
    },
    {
      "cell_type": "code",
      "metadata": {
        "id": "reFTURm5CNlv",
        "colab_type": "code",
        "colab": {}
      },
      "source": [
        "w.visualize()"
      ],
      "execution_count": 0,
      "outputs": []
    },
    {
      "cell_type": "markdown",
      "metadata": {
        "id": "RaCISeXHBnvK",
        "colab_type": "text"
      },
      "source": [
        "La decoracion anterior puede \"simplificarse\" de la siguiente forma."
      ]
    },
    {
      "cell_type": "code",
      "metadata": {
        "id": "CQbx1u4zBmj8",
        "colab_type": "code",
        "colab": {}
      },
      "source": [
        "def f(x):\n",
        "  return sqrt(x + 4)\n",
        "\n",
        "f = delayed(f)"
      ],
      "execution_count": 0,
      "outputs": []
    },
    {
      "cell_type": "code",
      "metadata": {
        "id": "KkQHp8kqBqhc",
        "colab_type": "code",
        "outputId": "9a8b9d80-103f-46a4-c311-b7b6792942a8",
        "colab": {
          "base_uri": "https://localhost:8080/",
          "height": 35
        }
      },
      "source": [
        "type(f)"
      ],
      "execution_count": 0,
      "outputs": [
        {
          "output_type": "execute_result",
          "data": {
            "text/plain": [
              "dask.delayed.DelayedLeaf"
            ]
          },
          "metadata": {
            "tags": []
          },
          "execution_count": 13
        }
      ]
    },
    {
      "cell_type": "code",
      "metadata": {
        "id": "KfUY1EfgBrUN",
        "colab_type": "code",
        "colab": {}
      },
      "source": [
        "@delayed\n",
        "def f(x):\n",
        "  return sqrt(x + 4)"
      ],
      "execution_count": 0,
      "outputs": []
    },
    {
      "cell_type": "code",
      "metadata": {
        "id": "V22TjX_OBuRc",
        "colab_type": "code",
        "outputId": "a16798b3-4554-4945-cda6-266e9e438cf9",
        "colab": {
          "base_uri": "https://localhost:8080/",
          "height": 35
        }
      },
      "source": [
        "type(f)"
      ],
      "execution_count": 0,
      "outputs": [
        {
          "output_type": "execute_result",
          "data": {
            "text/plain": [
              "dask.delayed.DelayedLeaf"
            ]
          },
          "metadata": {
            "tags": []
          },
          "execution_count": 15
        }
      ]
    },
    {
      "cell_type": "markdown",
      "metadata": {
        "id": "AQsvIy6sBxCO",
        "colab_type": "text"
      },
      "source": [
        "## Ejemplos"
      ]
    },
    {
      "cell_type": "code",
      "metadata": {
        "id": "UvWfAySzBvk2",
        "colab_type": "code",
        "colab": {}
      },
      "source": [
        "@delayed\n",
        "def incrementa(x):\n",
        "  return x + 1\n",
        "\n",
        "@delayed\n",
        "def dobla(x):\n",
        "  return 2 * x\n",
        "\n",
        "@delayed\n",
        "def suma(x,y):\n",
        "  return x + y"
      ],
      "execution_count": 0,
      "outputs": []
    },
    {
      "cell_type": "code",
      "metadata": {
        "id": "5R2eozh7B3C6",
        "colab_type": "code",
        "colab": {}
      },
      "source": [
        "data = [ 1, 2, 3, 4, 5 ]"
      ],
      "execution_count": 0,
      "outputs": []
    },
    {
      "cell_type": "code",
      "metadata": {
        "id": "vje9FGhiB5oY",
        "colab_type": "code",
        "colab": {}
      },
      "source": [
        "output= [] "
      ],
      "execution_count": 0,
      "outputs": []
    },
    {
      "cell_type": "code",
      "metadata": {
        "id": "s16OPTT6B6sC",
        "colab_type": "code",
        "colab": {}
      },
      "source": [
        "for x in data:\n",
        "  a = incrementa(x)\n",
        "  b = dobla(x)\n",
        "  c = suma(a, b)\n",
        "  output.append(c)"
      ],
      "execution_count": 0,
      "outputs": []
    },
    {
      "cell_type": "code",
      "metadata": {
        "id": "FIo_wLv9B9I5",
        "colab_type": "code",
        "outputId": "ea38b2a2-e6a0-4c89-afff-078ccd8c889c",
        "colab": {
          "base_uri": "https://localhost:8080/",
          "height": 35
        }
      },
      "source": [
        "type(output)"
      ],
      "execution_count": 0,
      "outputs": [
        {
          "output_type": "execute_result",
          "data": {
            "text/plain": [
              "list"
            ]
          },
          "metadata": {
            "tags": []
          },
          "execution_count": 20
        }
      ]
    },
    {
      "cell_type": "code",
      "metadata": {
        "id": "ttiI0EufB-1Z",
        "colab_type": "code",
        "outputId": "1b0f2948-fe6c-4ff7-c81f-5e1259f87bc8",
        "colab": {
          "base_uri": "https://localhost:8080/",
          "height": 106
        }
      },
      "source": [
        "output"
      ],
      "execution_count": 0,
      "outputs": [
        {
          "output_type": "execute_result",
          "data": {
            "text/plain": [
              "[Delayed('suma-0e54fe29-9d10-4089-bc80-affa18ff13b3'),\n",
              " Delayed('suma-4b3ddfbd-70ad-4787-ab53-0e79f25cd23b'),\n",
              " Delayed('suma-19320618-12b2-4ca5-b808-228b44e940d9'),\n",
              " Delayed('suma-2a0067bf-76d1-4da7-8753-ae85279095a0'),\n",
              " Delayed('suma-d5640ec7-d63a-49aa-b4c1-3d1946b7d87b')]"
            ]
          },
          "metadata": {
            "tags": []
          },
          "execution_count": 21
        }
      ]
    },
    {
      "cell_type": "code",
      "metadata": {
        "id": "jSeFLHD7B_bp",
        "colab_type": "code",
        "outputId": "fd217ce8-f027-4b09-c3a0-2b80f6f751e3",
        "colab": {
          "base_uri": "https://localhost:8080/",
          "height": 35
        }
      },
      "source": [
        "total = suma(output)\n",
        "type(total)"
      ],
      "execution_count": 0,
      "outputs": [
        {
          "output_type": "execute_result",
          "data": {
            "text/plain": [
              "dask.delayed.Delayed"
            ]
          },
          "metadata": {
            "tags": []
          },
          "execution_count": 22
        }
      ]
    },
    {
      "cell_type": "code",
      "metadata": {
        "id": "a_C-98KgCDpt",
        "colab_type": "code",
        "outputId": "8d97750f-c822-4fe9-a4b0-b117bb1b99e6",
        "colab": {
          "base_uri": "https://localhost:8080/",
          "height": 35
        }
      },
      "source": [
        "total"
      ],
      "execution_count": 0,
      "outputs": [
        {
          "output_type": "execute_result",
          "data": {
            "text/plain": [
              "Delayed('suma-31d27b38-722c-4fd9-977b-34bc5ef8a014')"
            ]
          },
          "metadata": {
            "tags": []
          },
          "execution_count": 23
        }
      ]
    },
    {
      "cell_type": "code",
      "metadata": {
        "id": "lbOIR6DbCEqo",
        "colab_type": "code",
        "colab": {}
      },
      "source": [
        "total.visualize()"
      ],
      "execution_count": 0,
      "outputs": []
    },
    {
      "cell_type": "markdown",
      "metadata": {
        "id": "ove3NniMCRod",
        "colab_type": "text"
      },
      "source": [
        "## Ejercicio de los taxis (OJO se deben descargar los archivos)"
      ]
    },
    {
      "cell_type": "code",
      "metadata": {
        "id": "LiRu9thdCVXk",
        "colab_type": "code",
        "outputId": "d710fa2d-043c-4137-f8ba-0fbec33e5308",
        "colab": {
          "base_uri": "https://localhost:8080/",
          "height": 124
        }
      },
      "source": [
        "plantilla = 'yellow_tripdata_2018-{:02d}.csv'\n",
        "\n",
        "archivos = [plantilla.format(k) for k in range(1,7)] # comprension de lista\n",
        "archivos"
      ],
      "execution_count": 0,
      "outputs": [
        {
          "output_type": "execute_result",
          "data": {
            "text/plain": [
              "['yellow_tripdata_2018-01.csv',\n",
              " 'yellow_tripdata_2018-02.csv',\n",
              " 'yellow_tripdata_2018-03.csv',\n",
              " 'yellow_tripdata_2018-04.csv',\n",
              " 'yellow_tripdata_2018-05.csv',\n",
              " 'yellow_tripdata_2018-06.csv']"
            ]
          },
          "metadata": {
            "tags": []
          },
          "execution_count": 25
        }
      ]
    },
    {
      "cell_type": "code",
      "metadata": {
        "id": "eedfVzvTCYCN",
        "colab_type": "code",
        "colab": {}
      },
      "source": [
        "@delayed\n",
        "def cuenta_viajes_largos(df):\n",
        "  df['duracion'] = (df.tpep_dropoff_datetime - df.tpep_pickup_datetime).dt.seconds\n",
        "  es_viaje_largo = df.duracion > 1200 # viajes que duran mas de 20 minutos\n",
        "  result_dict = {'n_long':[sum(es_viaje_largo)],\n",
        "                'n_total':[len(df)]}\n",
        "  return pd.DataFrame(result_dict)"
      ],
      "execution_count": 0,
      "outputs": []
    },
    {
      "cell_type": "code",
      "metadata": {
        "id": "rrOKf0htCdL2",
        "colab_type": "code",
        "colab": {}
      },
      "source": [
        "@delayed\n",
        "def abre_archivo(nombre):\n",
        "  return pd.read_csv(nombre, parse_dates=[1,2])"
      ],
      "execution_count": 0,
      "outputs": []
    },
    {
      "cell_type": "code",
      "metadata": {
        "id": "Utbxt0xdClI3",
        "colab_type": "code",
        "colab": {}
      },
      "source": [
        "totales = [cuenta_viajes_largos(abre_archivo(archivo)) for archivo in archivos]"
      ],
      "execution_count": 0,
      "outputs": []
    },
    {
      "cell_type": "code",
      "metadata": {
        "id": "Y1_f1xFICnAl",
        "colab_type": "code",
        "colab": {}
      },
      "source": [
        "totales_semianuales = sum(totales)"
      ],
      "execution_count": 0,
      "outputs": []
    },
    {
      "cell_type": "code",
      "metadata": {
        "id": "l3cSSp1HCmtE",
        "colab_type": "code",
        "colab": {}
      },
      "source": [
        "totales_semianuales = totales_semianuales.compute() # ~ 3:44.35 minutos"
      ],
      "execution_count": 0,
      "outputs": []
    },
    {
      "cell_type": "markdown",
      "metadata": {
        "id": "8Ci3IIwxDvK2",
        "colab_type": "text"
      },
      "source": [
        "### Ejercicio usando decoradores....del curso....\n",
        "\n",
        "Excellent! Notice that no reading and no computation was done until the last line (result.compute()). In all the preceding lines, the functions called returned dask.delayed objects that deferred execution until the invocation of compute()."
      ]
    },
    {
      "cell_type": "code",
      "metadata": {
        "id": "vMMeutJ9Ducl",
        "colab_type": "code",
        "colab": {}
      },
      "source": [
        "# Define count_flights\n",
        "@delayed\n",
        "def count_flights(df):\n",
        "    return len(df)\n",
        "\n",
        "# Define count_delayed\n",
        "@delayed\n",
        "def count_delayed(df):\n",
        "    return (df['DEP_DELAY']>0).sum()\n",
        "\n",
        "# Define pct_delayed\n",
        "@delayed\n",
        "def pct_delayed(n_delayed, n_flights):\n",
        "    return 100 * sum(n_delayed) / sum(n_flights)\n",
        "  \n",
        "  \n",
        "# Loop over the provided filenames list and call read_one: df\n",
        "for file in filenames:\n",
        "    df = read_one(file)\n",
        "\n",
        "    # Append to n_delayed and n_flights\n",
        "    n_delayed.append(count_delayed(df))\n",
        "    n_flights.append(count_flights(df))\n",
        "\n",
        "# Call pct_delayed with n_delayed and n_flights: result\n",
        "result = pct_delayed(n_delayed, n_flights)\n",
        "\n",
        "# Print the output of result.compute()\n",
        "print(result.compute())"
      ],
      "execution_count": 0,
      "outputs": []
    },
    {
      "cell_type": "markdown",
      "metadata": {
        "id": "kW_rcCdQEaKi",
        "colab_type": "text"
      },
      "source": [
        "## Dask arrays\n",
        "\n",
        "Hasta ahora hemos visto\n",
        "\n",
        "* Como medir el uso de memoria\n",
        "* Como leer archivos grandes en trozos\n",
        "* Como realizar computos usando generadores\n",
        "* Como realizar computos con `dask.delayed` \n",
        "> ![alt text](https://pbs.twimg.com/profile_images/890690147997503488/YdMklxIE_400x400.jpg)"
      ]
    },
    {
      "cell_type": "code",
      "metadata": {
        "id": "5YW3kp16E7CL",
        "colab_type": "code",
        "colab": {}
      },
      "source": [
        "import numpy as np\n",
        "a = np.random.rand(10000)"
      ],
      "execution_count": 0,
      "outputs": []
    },
    {
      "cell_type": "code",
      "metadata": {
        "id": "vFQz0kLFFjEW",
        "colab_type": "code",
        "outputId": "90f0633a-6bc3-4e99-9865-7517eb144e81",
        "colab": {
          "base_uri": "https://localhost:8080/",
          "height": 35
        }
      },
      "source": [
        "print(a.shape,a.dtype)"
      ],
      "execution_count": 0,
      "outputs": [
        {
          "output_type": "stream",
          "text": [
            "(10000,) float64\n"
          ],
          "name": "stdout"
        }
      ]
    },
    {
      "cell_type": "code",
      "metadata": {
        "id": "b616L688Fl3X",
        "colab_type": "code",
        "outputId": "806f3ed5-a78d-4588-f057-05abccc752b1",
        "colab": {
          "base_uri": "https://localhost:8080/",
          "height": 35
        }
      },
      "source": [
        "print(a.sum())"
      ],
      "execution_count": 0,
      "outputs": [
        {
          "output_type": "stream",
          "text": [
            "4961.870138149228\n"
          ],
          "name": "stdout"
        }
      ]
    },
    {
      "cell_type": "code",
      "metadata": {
        "id": "YqU8EOCmFowH",
        "colab_type": "code",
        "outputId": "6047f7d6-f2c2-49a3-fe31-c1c62ff84c11",
        "colab": {
          "base_uri": "https://localhost:8080/",
          "height": 35
        }
      },
      "source": [
        "print(a.mean())"
      ],
      "execution_count": 0,
      "outputs": [
        {
          "output_type": "stream",
          "text": [
            "0.4961870138149228\n"
          ],
          "name": "stdout"
        }
      ]
    },
    {
      "cell_type": "code",
      "metadata": {
        "id": "snBlVG3YFq9p",
        "colab_type": "code",
        "colab": {}
      },
      "source": [
        "import dask.array as da"
      ],
      "execution_count": 0,
      "outputs": []
    },
    {
      "cell_type": "code",
      "metadata": {
        "id": "34Jh3SPQFxvq",
        "colab_type": "code",
        "colab": {}
      },
      "source": [
        "a_dask = da.from_array(a, chunks=len(a)//4)"
      ],
      "execution_count": 0,
      "outputs": []
    },
    {
      "cell_type": "code",
      "metadata": {
        "id": "h6NOCB0bF3UY",
        "colab_type": "code",
        "outputId": "f0687061-6335-4083-ad39-69cb02850149",
        "colab": {
          "base_uri": "https://localhost:8080/",
          "height": 35
        }
      },
      "source": [
        "a_dask.chunks"
      ],
      "execution_count": 0,
      "outputs": [
        {
          "output_type": "execute_result",
          "data": {
            "text/plain": [
              "((2500, 2500, 2500, 2500),)"
            ]
          },
          "metadata": {
            "tags": []
          },
          "execution_count": 36
        }
      ]
    },
    {
      "cell_type": "code",
      "metadata": {
        "id": "EcbJyrVVF7e4",
        "colab_type": "code",
        "colab": {}
      },
      "source": [
        "n_chunks = 4"
      ],
      "execution_count": 0,
      "outputs": []
    },
    {
      "cell_type": "code",
      "metadata": {
        "id": "Fu3FusbJGA3e",
        "colab_type": "code",
        "colab": {}
      },
      "source": [
        "chunk_size = len(a) // n_chunks"
      ],
      "execution_count": 0,
      "outputs": []
    },
    {
      "cell_type": "code",
      "metadata": {
        "id": "nM45XHdOF94s",
        "colab_type": "code",
        "colab": {}
      },
      "source": [
        "result = 0 # para acumular la suma"
      ],
      "execution_count": 0,
      "outputs": []
    },
    {
      "cell_type": "code",
      "metadata": {
        "id": "R64ZdronGHi6",
        "colab_type": "code",
        "colab": {}
      },
      "source": [
        "for k in range(n_chunks):\n",
        "  offset = k*chunk_size\n",
        "  a_chunk = a[offset:offset + chunk_size]\n",
        "  result += a_chunk.sum()"
      ],
      "execution_count": 0,
      "outputs": []
    },
    {
      "cell_type": "code",
      "metadata": {
        "id": "PrgQidVWGXwG",
        "colab_type": "code",
        "outputId": "e99ae382-ce27-4862-a6d1-d52fe24ee5bf",
        "colab": {
          "base_uri": "https://localhost:8080/",
          "height": 35
        }
      },
      "source": [
        "print(result)"
      ],
      "execution_count": 0,
      "outputs": [
        {
          "output_type": "stream",
          "text": [
            "4961.870138149228\n"
          ],
          "name": "stdout"
        }
      ]
    },
    {
      "cell_type": "code",
      "metadata": {
        "id": "eV2_RCgOGdYb",
        "colab_type": "code",
        "colab": {}
      },
      "source": [
        "result = a_dask.sum()"
      ],
      "execution_count": 0,
      "outputs": []
    },
    {
      "cell_type": "code",
      "metadata": {
        "id": "bY1g9-QqGnIp",
        "colab_type": "code",
        "outputId": "062032f1-6fb6-4aa7-a01d-497d9c7494bc",
        "colab": {
          "base_uri": "https://localhost:8080/",
          "height": 35
        }
      },
      "source": [
        "result"
      ],
      "execution_count": 0,
      "outputs": [
        {
          "output_type": "execute_result",
          "data": {
            "text/plain": [
              "dask.array<sum-aggregate, shape=(), dtype=float64, chunksize=()>"
            ]
          },
          "metadata": {
            "tags": []
          },
          "execution_count": 44
        }
      ]
    },
    {
      "cell_type": "code",
      "metadata": {
        "id": "5qM-K5CpGn5c",
        "colab_type": "code",
        "outputId": "16305128-69eb-42fa-9f2e-586fd0bc8970",
        "colab": {
          "base_uri": "https://localhost:8080/",
          "height": 35
        }
      },
      "source": [
        "print(result.compute())"
      ],
      "execution_count": 0,
      "outputs": [
        {
          "output_type": "stream",
          "text": [
            "4961.870138149228\n"
          ],
          "name": "stdout"
        }
      ]
    },
    {
      "cell_type": "code",
      "metadata": {
        "id": "_ebFWXD9Grhe",
        "colab_type": "code",
        "outputId": "235321ba-ce9d-4cb0-806b-af7cfde8816a",
        "colab": {
          "base_uri": "https://localhost:8080/",
          "height": 430
        }
      },
      "source": [
        "result.visualize(rankdir='LR')"
      ],
      "execution_count": 0,
      "outputs": [
        {
          "output_type": "execute_result",
          "data": {
            "image/png": "[encoded data removed]",
            "text/plain": [
              "<IPython.core.display.Image object>"
            ]
          },
          "metadata": {
            "tags": []
          },
          "execution_count": 46
        }
      ]
    },
    {
      "cell_type": "markdown",
      "metadata": {
        "id": "kSwPN2-EHBhW",
        "colab_type": "text"
      },
      "source": [
        "## Timing array computations"
      ]
    },
    {
      "cell_type": "code",
      "metadata": {
        "id": "yEWIYWCDK-1D",
        "colab_type": "code",
        "colab": {}
      },
      "source": [
        "!wget \"https://github.com/wblakecannon/DataCamp/blob/master/05-importing-data-in-python-(part-1)/_datasets/LIGO_data.hdf5\""
      ],
      "execution_count": 0,
      "outputs": []
    },
    {
      "cell_type": "code",
      "metadata": {
        "id": "_ItAAmjhLWV2",
        "colab_type": "code",
        "colab": {}
      },
      "source": [
        "!wget https://www.gw-osc.org/archive/data/S5/814743552/H-H1_LOSC_4_V1-815411200-4096.hdf5"
      ],
      "execution_count": 0,
      "outputs": []
    },
    {
      "cell_type": "code",
      "metadata": {
        "id": "G8wB48-DMpJ5",
        "colab_type": "code",
        "colab": {}
      },
      "source": [
        "\n",
        "!cp H-H1_LOSC_4_V1-815411200-4096.hdf5 LIGO_data.hdf5"
      ],
      "execution_count": 0,
      "outputs": []
    },
    {
      "cell_type": "code",
      "metadata": {
        "id": "R4re1n2KGynH",
        "colab_type": "code",
        "colab": {}
      },
      "source": [
        "import h5py, time"
      ],
      "execution_count": 0,
      "outputs": []
    },
    {
      "cell_type": "code",
      "metadata": {
        "id": "r_1VUr6RHK1b",
        "colab_type": "code",
        "outputId": "b0c94247-fe3c-449a-f098-73d7a88b122c",
        "colab": {
          "base_uri": "https://localhost:8080/",
          "height": 35
        }
      },
      "source": [
        "# lets look at the keys of the file\n",
        "data = h5py.File('./LIGO_data.hdf5', 'r')\n",
        "type(data)"
      ],
      "execution_count": 0,
      "outputs": [
        {
          "output_type": "execute_result",
          "data": {
            "text/plain": [
              "h5py._hl.files.File"
            ]
          },
          "metadata": {
            "tags": []
          },
          "execution_count": 70
        }
      ]
    },
    {
      "cell_type": "code",
      "metadata": {
        "id": "b5EnDHsfM1Ln",
        "colab_type": "code",
        "outputId": "84a42b29-a1a2-4fd1-b266-3d97d526113e",
        "colab": {
          "base_uri": "https://localhost:8080/",
          "height": 71
        }
      },
      "source": [
        "for key in data.keys():\n",
        "  print(key)"
      ],
      "execution_count": 0,
      "outputs": [
        {
          "output_type": "stream",
          "text": [
            "meta\n",
            "quality\n",
            "strain\n"
          ],
          "name": "stdout"
        }
      ]
    },
    {
      "cell_type": "code",
      "metadata": {
        "id": "yLDvkJxQKDsb",
        "colab_type": "code",
        "colab": {}
      },
      "source": [
        "with h5py.File('LIGO_data.hdf5', 'r') as dset:\n",
        "  strain = dset['strain']['Strain'][:]"
      ],
      "execution_count": 0,
      "outputs": []
    },
    {
      "cell_type": "code",
      "metadata": {
        "id": "96vXGaV9N_yO",
        "colab_type": "code",
        "outputId": "68ea7a3f-d6c0-4c12-c498-83b8ae9325b8",
        "colab": {
          "base_uri": "https://localhost:8080/",
          "height": 35
        }
      },
      "source": [
        "strain.shape"
      ],
      "execution_count": 0,
      "outputs": [
        {
          "output_type": "execute_result",
          "data": {
            "text/plain": [
              "(16777216,)"
            ]
          },
          "metadata": {
            "tags": []
          },
          "execution_count": 86
        }
      ]
    },
    {
      "cell_type": "code",
      "metadata": {
        "id": "cGih7p46KFdX",
        "colab_type": "code",
        "colab": {}
      },
      "source": [
        "strain_dask8 = da.from_array(strain, chunks=strain.shape[0]//8)"
      ],
      "execution_count": 0,
      "outputs": []
    },
    {
      "cell_type": "code",
      "metadata": {
        "id": "vXW9zh6eOClH",
        "colab_type": "code",
        "colab": {}
      },
      "source": [
        "t_start = time.time()\n",
        "mean8 = strain_dask8.mean().compute()\n",
        "t_fin = time.time()"
      ],
      "execution_count": 0,
      "outputs": []
    },
    {
      "cell_type": "markdown",
      "metadata": {
        "id": "d8wkMHEWOUtO",
        "colab_type": "text"
      },
      "source": [
        "La diferencia entre los tiempos reescalada por 1000 es el tiempo en milisegundos que tardo en completar la operacion"
      ]
    },
    {
      "cell_type": "code",
      "metadata": {
        "id": "mfhASF63ON_6",
        "colab_type": "code",
        "outputId": "91a51dfc-b959-4875-9fd5-c81cf144bf48",
        "colab": {
          "base_uri": "https://localhost:8080/",
          "height": 35
        }
      },
      "source": [
        "t_transc = (t_fin-t_start)*1000\n",
        "print('Tiempo transcurrido: {} ms'.format(t_transc))"
      ],
      "execution_count": 0,
      "outputs": [
        {
          "output_type": "stream",
          "text": [
            "Tiempo transcurrido: 73.51279258728027 ms\n"
          ],
          "name": "stdout"
        }
      ]
    },
    {
      "cell_type": "markdown",
      "metadata": {
        "id": "lux5XuBIOmya",
        "colab_type": "text"
      },
      "source": [
        "### Ejercicios\n",
        "\n",
        "Para practicar!"
      ]
    },
    {
      "cell_type": "code",
      "metadata": {
        "id": "O6-pYuvlOQR5",
        "colab_type": "code",
        "colab": {}
      },
      "source": [
        "# Call da.from_array():  energy_dask\n",
        "energy_dask = da.from_array(energy, chunks=energy.shape[0]//4)\n",
        "\n",
        "# Print energy_dask.chunks\n",
        "print(energy_dask.chunks)\n",
        "\n",
        "# Print Dask array average and then NumPy array average\n",
        "print(energy_dask.mean().compute())\n",
        "print(energy.mean())\n",
        "\n",
        "\n",
        "# Import time\n",
        "import time\n",
        "\n",
        "# Call da.from_array() with arr: energy_dask4\n",
        "energy_dask4 = da.from_array(energy, chunks=energy.shape[0]//4)\n",
        "\n",
        "# Print the time to compute standard deviation\n",
        "t_start = time.time()\n",
        "std_4 = energy_dask4.std().compute()\n",
        "t_end = time.time()\n",
        "print((t_end - t_start) * 1.0e3)"
      ],
      "execution_count": 0,
      "outputs": []
    },
    {
      "cell_type": "markdown",
      "metadata": {
        "id": "zWXAgm-FQ-u9",
        "colab_type": "text"
      },
      "source": [
        "## Arreglos multidimensionales\n",
        "\n"
      ]
    },
    {
      "cell_type": "code",
      "metadata": {
        "id": "h4sjJIk_RCJ2",
        "colab_type": "code",
        "colab": {}
      },
      "source": [
        "time_series = np.array([49,51,60,54,47,50,64,58,47,43,50,63,67,68,64,48,55,46,66,51,52])\n",
        "np.savetxt('max_temps.csv', time_series.astype(int), fmt='%i')"
      ],
      "execution_count": 0,
      "outputs": []
    },
    {
      "cell_type": "code",
      "metadata": {
        "id": "ORw86fgpRVMW",
        "colab_type": "code",
        "colab": {}
      },
      "source": [
        "time_series = np.loadtxt('max_temps.csv', dtype=np.int64) "
      ],
      "execution_count": 0,
      "outputs": []
    },
    {
      "cell_type": "code",
      "metadata": {
        "id": "qZayGoT7RWZu",
        "colab_type": "code",
        "outputId": "352052bc-941d-4962-ebb8-2202c4e6aa00",
        "colab": {
          "base_uri": "https://localhost:8080/",
          "height": 35
        }
      },
      "source": [
        "print(time_series.dtype)"
      ],
      "execution_count": 0,
      "outputs": [
        {
          "output_type": "stream",
          "text": [
            "int64\n"
          ],
          "name": "stdout"
        }
      ]
    },
    {
      "cell_type": "code",
      "metadata": {
        "id": "hc8Qbv47TeN_",
        "colab_type": "code",
        "outputId": "390dc365-6f1a-4ebc-b2e7-369543e0efb9",
        "colab": {
          "base_uri": "https://localhost:8080/",
          "height": 35
        }
      },
      "source": [
        "print(time_series.shape)"
      ],
      "execution_count": 0,
      "outputs": [
        {
          "output_type": "stream",
          "text": [
            "(21,)\n"
          ],
          "name": "stdout"
        }
      ]
    },
    {
      "cell_type": "code",
      "metadata": {
        "id": "CfmD7WqXThAR",
        "colab_type": "code",
        "outputId": "21b6203d-2a78-4d59-8b21-7f268b32b8e8",
        "colab": {
          "base_uri": "https://localhost:8080/",
          "height": 35
        }
      },
      "source": [
        "print(time_series.ndim)"
      ],
      "execution_count": 0,
      "outputs": [
        {
          "output_type": "stream",
          "text": [
            "1\n"
          ],
          "name": "stdout"
        }
      ]
    },
    {
      "cell_type": "markdown",
      "metadata": {
        "id": "AaSi2v3WaFKh",
        "colab_type": "text"
      },
      "source": [
        "Cada entrada es la temperatura en und ia de la semana, lunes a domingo, la lista representa 21 dias"
      ]
    },
    {
      "cell_type": "code",
      "metadata": {
        "id": "l1QLDyVsTid8",
        "colab_type": "code",
        "outputId": "c63217ed-85ca-4864-a9a1-c4f6042ceafb",
        "colab": {
          "base_uri": "https://localhost:8080/",
          "height": 35
        }
      },
      "source": [
        "print(time_series) "
      ],
      "execution_count": 0,
      "outputs": [
        {
          "output_type": "stream",
          "text": [
            "[49 51 60 54 47 50 64 58 47 43 50 63 67 68 64 48 55 46 66 51 52]\n"
          ],
          "name": "stdout"
        }
      ]
    },
    {
      "cell_type": "code",
      "metadata": {
        "id": "fCY-qbdOTk7a",
        "colab_type": "code",
        "colab": {}
      },
      "source": [
        "tabla = time_series.reshape((3,7)) # reorganiza la lista por renglones cada renglon es una semana"
      ],
      "execution_count": 0,
      "outputs": []
    },
    {
      "cell_type": "code",
      "metadata": {
        "id": "y_iGdd3QToi4",
        "colab_type": "code",
        "outputId": "12e0f58a-35d6-4932-8da3-904fac1661b6",
        "colab": {
          "base_uri": "https://localhost:8080/",
          "height": 71
        }
      },
      "source": [
        "print(tabla)"
      ],
      "execution_count": 0,
      "outputs": [
        {
          "output_type": "stream",
          "text": [
            "[[49 51 60 54 47 50 64]\n",
            " [58 47 43 50 63 67 68]\n",
            " [64 48 55 46 66 51 52]]\n"
          ],
          "name": "stdout"
        }
      ]
    },
    {
      "cell_type": "code",
      "metadata": {
        "id": "GB80wyj1TyKa",
        "colab_type": "code",
        "outputId": "046ff46d-2904-4661-86ee-b42548a37874",
        "colab": {
          "base_uri": "https://localhost:8080/",
          "height": 142
        }
      },
      "source": [
        "time_series.reshape((7,3)) "
      ],
      "execution_count": 0,
      "outputs": [
        {
          "output_type": "execute_result",
          "data": {
            "text/plain": [
              "array([[49, 51, 60],\n",
              "       [54, 47, 50],\n",
              "       [64, 58, 47],\n",
              "       [43, 50, 63],\n",
              "       [67, 68, 64],\n",
              "       [48, 55, 46],\n",
              "       [66, 51, 52]])"
            ]
          },
          "metadata": {
            "tags": []
          },
          "execution_count": 115
        }
      ]
    },
    {
      "cell_type": "code",
      "metadata": {
        "id": "rCuSzZxST4bI",
        "colab_type": "code",
        "outputId": "6b69937f-5551-496f-88aa-64bfe7684f6c",
        "colab": {
          "base_uri": "https://localhost:8080/",
          "height": 142
        }
      },
      "source": [
        "time_series.reshape((7,3), order='F')"
      ],
      "execution_count": 0,
      "outputs": [
        {
          "output_type": "execute_result",
          "data": {
            "text/plain": [
              "array([[49, 58, 64],\n",
              "       [51, 47, 48],\n",
              "       [60, 43, 55],\n",
              "       [54, 50, 46],\n",
              "       [47, 63, 66],\n",
              "       [50, 67, 51],\n",
              "       [64, 68, 52]])"
            ]
          },
          "metadata": {
            "tags": []
          },
          "execution_count": 116
        }
      ]
    },
    {
      "cell_type": "code",
      "metadata": {
        "id": "X6sioahBT98e",
        "colab_type": "code",
        "outputId": "d49955fc-7825-49e6-c0e8-eafbe2571045",
        "colab": {
          "base_uri": "https://localhost:8080/",
          "height": 35
        }
      },
      "source": [
        "tabla[0,4] # valor de semana 0 dia 4"
      ],
      "execution_count": 0,
      "outputs": [
        {
          "output_type": "execute_result",
          "data": {
            "text/plain": [
              "47"
            ]
          },
          "metadata": {
            "tags": []
          },
          "execution_count": 117
        }
      ]
    },
    {
      "cell_type": "code",
      "metadata": {
        "id": "kHjk27cgUK9L",
        "colab_type": "code",
        "outputId": "a6f9ea93-fd32-4341-9859-1b20588f5292",
        "colab": {
          "base_uri": "https://localhost:8080/",
          "height": 35
        }
      },
      "source": [
        "tabla[1,2:5] # valores de semana 1 dias 2, 3 & 4 (excluye el 5)"
      ],
      "execution_count": 0,
      "outputs": [
        {
          "output_type": "execute_result",
          "data": {
            "text/plain": [
              "array([43, 50, 63])"
            ]
          },
          "metadata": {
            "tags": []
          },
          "execution_count": 118
        }
      ]
    },
    {
      "cell_type": "code",
      "metadata": {
        "id": "ScDNy53HUNTy",
        "colab_type": "code",
        "outputId": "9d5a123a-e44c-46b9-d80c-b6fe73b2f715",
        "colab": {
          "base_uri": "https://localhost:8080/",
          "height": 53
        }
      },
      "source": [
        "tabla[0::2, ::3] # valores de las semanas 0 & 2, dias 0, 3 & 6"
      ],
      "execution_count": 0,
      "outputs": [
        {
          "output_type": "execute_result",
          "data": {
            "text/plain": [
              "array([[49, 54, 64],\n",
              "       [64, 46, 52]])"
            ]
          },
          "metadata": {
            "tags": []
          },
          "execution_count": 119
        }
      ]
    },
    {
      "cell_type": "code",
      "metadata": {
        "id": "I0vckuSLUd86",
        "colab_type": "code",
        "outputId": "291e2d2e-4dff-469b-fe45-ab65700ec629",
        "colab": {
          "base_uri": "https://localhost:8080/",
          "height": 35
        }
      },
      "source": [
        "tabla[0]"
      ],
      "execution_count": 0,
      "outputs": [
        {
          "output_type": "execute_result",
          "data": {
            "text/plain": [
              "array([49, 51, 60, 54, 47, 50, 64])"
            ]
          },
          "metadata": {
            "tags": []
          },
          "execution_count": 121
        }
      ]
    },
    {
      "cell_type": "code",
      "metadata": {
        "id": "laOgN34kUfzZ",
        "colab_type": "code",
        "outputId": "723b7483-0a05-4c52-b9d1-00c5373f3db4",
        "colab": {
          "base_uri": "https://localhost:8080/",
          "height": 35
        }
      },
      "source": [
        "tabla.mean() # promedio entre todos los elementos de la tabla"
      ],
      "execution_count": 0,
      "outputs": [
        {
          "output_type": "execute_result",
          "data": {
            "text/plain": [
              "54.904761904761905"
            ]
          },
          "metadata": {
            "tags": []
          },
          "execution_count": 122
        }
      ]
    },
    {
      "cell_type": "code",
      "metadata": {
        "id": "zpK1y37wUjfL",
        "colab_type": "code",
        "colab": {}
      },
      "source": [
        "prom_diario = tabla.mean(axis=0)"
      ],
      "execution_count": 0,
      "outputs": []
    },
    {
      "cell_type": "code",
      "metadata": {
        "id": "LGJOTnacUt34",
        "colab_type": "code",
        "outputId": "f5fdc22b-ef6c-4b2d-a30f-282ff18c6f9e",
        "colab": {
          "base_uri": "https://localhost:8080/",
          "height": 53
        }
      },
      "source": [
        "prom_diario"
      ],
      "execution_count": 0,
      "outputs": [
        {
          "output_type": "execute_result",
          "data": {
            "text/plain": [
              "array([57.        , 48.66666667, 52.66666667, 50.        , 58.66666667,\n",
              "       56.        , 61.33333333])"
            ]
          },
          "metadata": {
            "tags": []
          },
          "execution_count": 124
        }
      ]
    },
    {
      "cell_type": "code",
      "metadata": {
        "id": "zKxj1eB5UvWk",
        "colab_type": "code",
        "colab": {}
      },
      "source": [
        "prom_semanal = tabla.mean(axis=1)"
      ],
      "execution_count": 0,
      "outputs": []
    },
    {
      "cell_type": "code",
      "metadata": {
        "id": "GmIpLCqYU1z2",
        "colab_type": "code",
        "outputId": "ff515f31-547d-427c-8b8f-7c0e89b1f31d",
        "colab": {
          "base_uri": "https://localhost:8080/",
          "height": 35
        }
      },
      "source": [
        "prom_semanal"
      ],
      "execution_count": 0,
      "outputs": [
        {
          "output_type": "execute_result",
          "data": {
            "text/plain": [
              "array([53.57142857, 56.57142857, 54.57142857])"
            ]
          },
          "metadata": {
            "tags": []
          },
          "execution_count": 126
        }
      ]
    },
    {
      "cell_type": "code",
      "metadata": {
        "id": "fyGUW43oU3SP",
        "colab_type": "code",
        "outputId": "d126dd7d-1bdb-4654-926a-93f2f6555ce2",
        "colab": {
          "base_uri": "https://localhost:8080/",
          "height": 35
        }
      },
      "source": [
        "tabla.mean(axis=(0,1))"
      ],
      "execution_count": 0,
      "outputs": [
        {
          "output_type": "execute_result",
          "data": {
            "text/plain": [
              "54.904761904761905"
            ]
          },
          "metadata": {
            "tags": []
          },
          "execution_count": 127
        }
      ]
    },
    {
      "cell_type": "code",
      "metadata": {
        "id": "BlIrffrGU8YT",
        "colab_type": "code",
        "outputId": "c83e5f53-cd67-4b4f-932a-7cf9b3704b9c",
        "colab": {
          "base_uri": "https://localhost:8080/",
          "height": 124
        }
      },
      "source": [
        "tabla - prom_diario"
      ],
      "execution_count": 0,
      "outputs": [
        {
          "output_type": "execute_result",
          "data": {
            "text/plain": [
              "array([[ -8.        ,   2.33333333,   7.33333333,   4.        ,\n",
              "        -11.66666667,  -6.        ,   2.66666667],\n",
              "       [  1.        ,  -1.66666667,  -9.66666667,   0.        ,\n",
              "          4.33333333,  11.        ,   6.66666667],\n",
              "       [  7.        ,  -0.66666667,   2.33333333,  -4.        ,\n",
              "          7.33333333,  -5.        ,  -9.33333333]])"
            ]
          },
          "metadata": {
            "tags": []
          },
          "execution_count": 128
        }
      ]
    },
    {
      "cell_type": "code",
      "metadata": {
        "id": "RoSAS_vMVBIG",
        "colab_type": "code",
        "outputId": "87253128-bb30-4525-931b-70d42f4c8b05",
        "colab": {
          "base_uri": "https://localhost:8080/",
          "height": 171
        }
      },
      "source": [
        "tabla - prom_semanal"
      ],
      "execution_count": 0,
      "outputs": [
        {
          "output_type": "error",
          "ename": "ValueError",
          "evalue": "ignored",
          "traceback": [
            "\u001b[0;31m---------------------------------------------------------------------------\u001b[0m",
            "\u001b[0;31mValueError\u001b[0m                                Traceback (most recent call last)",
            "\u001b[0;32m<ipython-input-129-f899ab220c40>\u001b[0m in \u001b[0;36m<module>\u001b[0;34m()\u001b[0m\n\u001b[0;32m----> 1\u001b[0;31m \u001b[0mtabla\u001b[0m \u001b[0;34m-\u001b[0m \u001b[0mprom_semanal\u001b[0m\u001b[0;34m\u001b[0m\u001b[0;34m\u001b[0m\u001b[0m\n\u001b[0m",
            "\u001b[0;31mValueError\u001b[0m: operands could not be broadcast together with shapes (3,7) (3,) "
          ]
        }
      ]
    },
    {
      "cell_type": "code",
      "metadata": {
        "id": "yVLxYz8vVFBU",
        "colab_type": "code",
        "outputId": "3191debd-93e8-49e5-e8e2-8ec9ab517008",
        "colab": {
          "base_uri": "https://localhost:8080/",
          "height": 71
        }
      },
      "source": [
        "print(tabla.shape)\n",
        "print(prom_diario.shape)\n",
        "print(prom_semanal.shape)"
      ],
      "execution_count": 0,
      "outputs": [
        {
          "output_type": "stream",
          "text": [
            "(3, 7)\n",
            "(7,)\n",
            "(3,)\n"
          ],
          "name": "stdout"
        }
      ]
    },
    {
      "cell_type": "code",
      "metadata": {
        "id": "6ulLsgRWV4in",
        "colab_type": "code",
        "colab": {}
      },
      "source": [
        "res = tabla - prom_semanal.reshape((3,1))"
      ],
      "execution_count": 0,
      "outputs": []
    },
    {
      "cell_type": "code",
      "metadata": {
        "id": "D9xSWENsV-SV",
        "colab_type": "code",
        "outputId": "c9dda3cf-7b8a-4a04-e567-6459867905d1",
        "colab": {
          "base_uri": "https://localhost:8080/",
          "height": 124
        }
      },
      "source": [
        "print(res)"
      ],
      "execution_count": 0,
      "outputs": [
        {
          "output_type": "stream",
          "text": [
            "[[ -4.57142857  -2.57142857   6.42857143   0.42857143  -6.57142857\n",
            "   -3.57142857  10.42857143]\n",
            " [  1.42857143  -9.57142857 -13.57142857  -6.57142857   6.42857143\n",
            "   10.42857143  11.42857143]\n",
            " [  9.42857143  -6.57142857   0.42857143  -8.57142857  11.42857143\n",
            "   -3.57142857  -2.57142857]]\n"
          ],
          "name": "stdout"
        }
      ]
    },
    {
      "cell_type": "markdown",
      "metadata": {
        "id": "awX6H7EuYN6n",
        "colab_type": "text"
      },
      "source": [
        "## Haciendo la conexion a Dask"
      ]
    },
    {
      "cell_type": "code",
      "metadata": {
        "id": "IvSDvzviV_mC",
        "colab_type": "code",
        "colab": {}
      },
      "source": [
        "data = np.genfromtxt('https://www1.ncdc.noaa.gov/pub/data/ccd-data/hghtmp15.dat', usecols=(2,3,4,5), skip_header=5, dtype=np.int64)"
      ],
      "execution_count": 0,
      "outputs": []
    },
    {
      "cell_type": "code",
      "metadata": {
        "id": "yJLBeoIhWlrt",
        "colab_type": "code",
        "outputId": "c4eb7129-b00d-4e1a-d0fe-ad9c6cba9fcc",
        "colab": {
          "base_uri": "https://localhost:8080/",
          "height": 35
        }
      },
      "source": [
        "data.shape"
      ],
      "execution_count": 0,
      "outputs": [
        {
          "output_type": "execute_result",
          "data": {
            "text/plain": [
              "(259, 4)"
            ]
          },
          "metadata": {
            "tags": []
          },
          "execution_count": 140
        }
      ]
    },
    {
      "cell_type": "code",
      "metadata": {
        "id": "oz8u5WWMYRJO",
        "colab_type": "code",
        "outputId": "07161d1b-a1a6-4b3e-8328-6bc69d28b885",
        "colab": {
          "base_uri": "https://localhost:8080/",
          "height": 35
        }
      },
      "source": [
        "type(data)"
      ],
      "execution_count": 0,
      "outputs": [
        {
          "output_type": "execute_result",
          "data": {
            "text/plain": [
              "numpy.ndarray"
            ]
          },
          "metadata": {
            "tags": []
          },
          "execution_count": 141
        }
      ]
    },
    {
      "cell_type": "code",
      "metadata": {
        "id": "kCUkENifYUHI",
        "colab_type": "code",
        "colab": {}
      },
      "source": [
        "data_dask = da.from_array(data, chunks=(259,2))"
      ],
      "execution_count": 0,
      "outputs": []
    },
    {
      "cell_type": "code",
      "metadata": {
        "id": "iuL-6Pw0YapT",
        "colab_type": "code",
        "colab": {}
      },
      "source": [
        "res = data_dask.std(axis=0) # desviacion estandard por columnas"
      ],
      "execution_count": 0,
      "outputs": []
    },
    {
      "cell_type": "code",
      "metadata": {
        "id": "IcF_6oBVYe43",
        "colab_type": "code",
        "outputId": "d4719498-54da-45a8-a4c4-d89da4670788",
        "colab": {
          "base_uri": "https://localhost:8080/",
          "height": 35
        }
      },
      "source": [
        "res.compute()"
      ],
      "execution_count": 0,
      "outputs": [
        {
          "output_type": "execute_result",
          "data": {
            "text/plain": [
              "array([33.76117147, 18.49776124, 15.00331354, 10.15791446])"
            ]
          },
          "metadata": {
            "tags": []
          },
          "execution_count": 144
        }
      ]
    },
    {
      "cell_type": "code",
      "metadata": {
        "id": "9jFJLUlRYgaB",
        "colab_type": "code",
        "colab": {}
      },
      "source": [
        ""
      ],
      "execution_count": 0,
      "outputs": []
    },
    {
      "cell_type": "code",
      "metadata": {
        "id": "yhjA5wr9YlY1",
        "colab_type": "code",
        "colab": {}
      },
      "source": [
        ""
      ],
      "execution_count": 0,
      "outputs": []
    }
  ]
}