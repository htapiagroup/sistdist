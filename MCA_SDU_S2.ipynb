{
  "nbformat": 4,
  "nbformat_minor": 0,
  "metadata": {
    "colab": {
      "name": "MCA_SDU_S2.ipynb",
      "version": "0.3.2",
      "provenance": [],
      "include_colab_link": true
    },
    "kernelspec": {
      "name": "python3",
      "display_name": "Python 3"
    }
  },
  "cells": [
    {
      "cell_type": "markdown",
      "metadata": {
        "id": "view-in-github",
        "colab_type": "text"
      },
      "source": [
        "<a href=\"https://colab.research.google.com/github/htapiagroup/sistdist/blob/master/MCA_SDU_S2.ipynb\" target=\"_parent\"><img src=\"https://colab.research.google.com/assets/colab-badge.svg\" alt=\"Open In Colab\"/></a>"
      ]
    },
    {
      "cell_type": "markdown",
      "metadata": {
        "id": "KH80J9z5KznL",
        "colab_type": "text"
      },
      "source": [
        "# Sistemas Distribuidos y Ubicuos II \n",
        "\n",
        "## MCA Tercer cuatrimestre\n",
        "\n",
        "### Horacio Tapia-McClung\n",
        "\n"
      ]
    },
    {
      "cell_type": "markdown",
      "metadata": {
        "id": "GY2CbTqKLIuZ",
        "colab_type": "text"
      },
      "source": [
        "## Resumen Semana 1\n",
        "\n",
        "* Como \"guarda\" informacion la computadora"
      ]
    },
    {
      "cell_type": "code",
      "metadata": {
        "id": "iSktU9wzKxaT",
        "colab_type": "code",
        "colab": {
          "base_uri": "https://localhost:8080/",
          "height": 106
        },
        "outputId": "a46b241d-c9e8-416b-ab24-1be2704ce5ef"
      },
      "source": [
        "import numpy as np\n",
        "import pandas as pd\n",
        "import psutil, os\n",
        "\n",
        "def huella_memoria():\n",
        "  '''Regresa la huella de memoria en MB usada por un proceso de Python'''\n",
        "  mem = psutil.Process(os.getpid()).memory_info().rss\n",
        "  return (mem / 1024**2)\n",
        "\n",
        "\n",
        "antes = huella_memoria()\n",
        "N = (1024**2)//8\n",
        "x = np.random.rand(50*N)\n",
        "despues = huella_memoria()\n",
        "print('Memoria asignada a un arreglo: {} MB'.format(despues-antes))\n",
        "print('Memoria utilizada por el arreglo: {} MB'.format(x.nbytes / (1024**2)))\n",
        "\n",
        "antes = huella_memoria()\n",
        "x**2\n",
        "despues = huella_memoria()\n",
        "print('Memoria asignada a una operacion: {} MB'.format(despues-antes))\n",
        "\n",
        "df = pd.DataFrame(x)\n",
        "print('Memoria utilizada por el DataFrame: {} MB'.format(df.memory_usage(index=False)/(1024**2)))\n",
        "\n"
      ],
      "execution_count": 2,
      "outputs": [
        {
          "output_type": "stream",
          "text": [
            "Memoria asignada a un arreglo: 0.0 MB\n",
            "Memoria utilizada por el arreglo: 50.0 MB\n",
            "Memoria asignada a una operacion: 49.96484375 MB\n",
            "Memoria utilizada por el DataFrame: 0    50.0\n",
            "dtype: float64 MB\n"
          ],
          "name": "stdout"
        }
      ]
    },
    {
      "cell_type": "markdown",
      "metadata": {
        "id": "RzXLMrRsMbWF",
        "colab_type": "text"
      },
      "source": [
        "# Semana 2\n",
        "\n",
        "Ahora veremos como acceder a un conjunto de datos separandolo en partes y como podemos conocer las propiedades del conjunto compleo conociendo las propiedades de cada parte y agregando al final.\n",
        "Esto es util y practico cuando tenemos un conjunto de datos grande como el siguiente:"
      ]
    },
    {
      "cell_type": "code",
      "metadata": {
        "id": "mLRp_UCFMZav",
        "colab_type": "code",
        "colab": {
          "base_uri": "https://localhost:8080/",
          "height": 214
        },
        "outputId": "e3e40164-f543-4cf4-c1af-74be26eddcfc"
      },
      "source": [
        "!wget https://s3.amazonaws.com/nyc-tlc/trip+data/yellow_tripdata_2018-01.csv"
      ],
      "execution_count": 5,
      "outputs": [
        {
          "output_type": "stream",
          "text": [
            "--2019-05-13 17:24:22--  https://s3.amazonaws.com/nyc-tlc/trip+data/yellow_tripdata_2018-01.csv\n",
            "Resolving s3.amazonaws.com (s3.amazonaws.com)... 52.216.178.93\n",
            "Connecting to s3.amazonaws.com (s3.amazonaws.com)|52.216.178.93|:443... connected.\n",
            "HTTP request sent, awaiting response... 200 OK\n",
            "Length: 772098307 (736M) [text/csv]\n",
            "Saving to: ‘yellow_tripdata_2018-01.csv’\n",
            "\n",
            "yellow_tripdata_201 100%[===================>] 736.33M  43.7MB/s    in 17s     \n",
            "\n",
            "2019-05-13 17:24:39 (42.7 MB/s) - ‘yellow_tripdata_2018-01.csv’ saved [772098307/772098307]\n",
            "\n"
          ],
          "name": "stdout"
        }
      ]
    },
    {
      "cell_type": "code",
      "metadata": {
        "id": "QLg93rHYNCKJ",
        "colab_type": "code",
        "colab": {}
      },
      "source": [
        "archivo = 'yellow_tripdata_2018-01.csv'"
      ],
      "execution_count": 0,
      "outputs": []
    },
    {
      "cell_type": "code",
      "metadata": {
        "id": "jGqesstaOgAq",
        "colab_type": "code",
        "colab": {
          "base_uri": "https://localhost:8080/",
          "height": 339
        },
        "outputId": "4bbf1163-3a7c-4d29-d4a0-114de68d43bb"
      },
      "source": [
        "for trozo in pd.read_csv(archivo, chunksize=500000):\n",
        "  print('type: %s shape %s' % (type(trozo), trozo.shape))"
      ],
      "execution_count": 10,
      "outputs": [
        {
          "output_type": "stream",
          "text": [
            "type: <class 'pandas.core.frame.DataFrame'> forma (500000, 17)\n",
            "type: <class 'pandas.core.frame.DataFrame'> forma (500000, 17)\n",
            "type: <class 'pandas.core.frame.DataFrame'> forma (500000, 17)\n",
            "type: <class 'pandas.core.frame.DataFrame'> forma (500000, 17)\n",
            "type: <class 'pandas.core.frame.DataFrame'> forma (500000, 17)\n",
            "type: <class 'pandas.core.frame.DataFrame'> forma (500000, 17)\n",
            "type: <class 'pandas.core.frame.DataFrame'> forma (500000, 17)\n",
            "type: <class 'pandas.core.frame.DataFrame'> forma (500000, 17)\n",
            "type: <class 'pandas.core.frame.DataFrame'> forma (500000, 17)\n",
            "type: <class 'pandas.core.frame.DataFrame'> forma (500000, 17)\n",
            "type: <class 'pandas.core.frame.DataFrame'> forma (500000, 17)\n",
            "type: <class 'pandas.core.frame.DataFrame'> forma (500000, 17)\n",
            "type: <class 'pandas.core.frame.DataFrame'> forma (500000, 17)\n",
            "type: <class 'pandas.core.frame.DataFrame'> forma (500000, 17)\n",
            "type: <class 'pandas.core.frame.DataFrame'> forma (500000, 17)\n",
            "type: <class 'pandas.core.frame.DataFrame'> forma (500000, 17)\n",
            "type: <class 'pandas.core.frame.DataFrame'> forma (500000, 17)\n",
            "type: <class 'pandas.core.frame.DataFrame'> forma (259874, 17)\n"
          ],
          "name": "stdout"
        }
      ]
    },
    {
      "cell_type": "code",
      "metadata": {
        "id": "5F8q3JkoO0Ha",
        "colab_type": "code",
        "colab": {
          "base_uri": "https://localhost:8080/",
          "height": 35
        },
        "outputId": "6d4fe807-872b-4542-a279-b65726848e59"
      },
      "source": [
        "trozo.shape"
      ],
      "execution_count": 11,
      "outputs": [
        {
          "output_type": "execute_result",
          "data": {
            "text/plain": [
              "(259874, 17)"
            ]
          },
          "metadata": {
            "tags": []
          },
          "execution_count": 11
        }
      ]
    },
    {
      "cell_type": "markdown",
      "metadata": {
        "id": "UJkjXlT7POJ7",
        "colab_type": "text"
      },
      "source": [
        "Cada trozo tiene los atributos estandares de un `DataFrame`"
      ]
    },
    {
      "cell_type": "code",
      "metadata": {
        "id": "nZGeZhKRPSfM",
        "colab_type": "code",
        "colab": {
          "base_uri": "https://localhost:8080/",
          "height": 410
        },
        "outputId": "2e258f4d-9c2f-494f-eb3a-23fffb2f2100"
      },
      "source": [
        "trozo.info()"
      ],
      "execution_count": 12,
      "outputs": [
        {
          "output_type": "stream",
          "text": [
            "<class 'pandas.core.frame.DataFrame'>\n",
            "RangeIndex: 259874 entries, 8500000 to 8759873\n",
            "Data columns (total 17 columns):\n",
            "VendorID                 259874 non-null int64\n",
            "tpep_pickup_datetime     259874 non-null object\n",
            "tpep_dropoff_datetime    259874 non-null object\n",
            "passenger_count          259874 non-null int64\n",
            "trip_distance            259874 non-null float64\n",
            "RatecodeID               259874 non-null int64\n",
            "store_and_fwd_flag       259874 non-null object\n",
            "PULocationID             259874 non-null int64\n",
            "DOLocationID             259874 non-null int64\n",
            "payment_type             259874 non-null int64\n",
            "fare_amount              259874 non-null float64\n",
            "extra                    259874 non-null float64\n",
            "mta_tax                  259874 non-null float64\n",
            "tip_amount               259874 non-null float64\n",
            "tolls_amount             259874 non-null float64\n",
            "improvement_surcharge    259874 non-null float64\n",
            "total_amount             259874 non-null float64\n",
            "dtypes: float64(8), int64(6), object(3)\n",
            "memory usage: 33.7+ MB\n"
          ],
          "name": "stdout"
        }
      ]
    },
    {
      "cell_type": "markdown",
      "metadata": {
        "id": "1NtSWD5uPFU0",
        "colab_type": "text"
      },
      "source": [
        "Veamos como filtrar un trozo usando una condicion, en este caso decidiremos que un viaje es largo si distancia del viaje es mayor a 10 millas ( [ver aqui](https://www1.nyc.gov/assets/tlc/downloads/pdf/data_dictionary_trip_records_yellow.pdf)."
      ]
    },
    {
      "cell_type": "code",
      "metadata": {
        "id": "0Z7EswN7QBXb",
        "colab_type": "code",
        "colab": {}
      },
      "source": [
        "es_un_viaje_largo = (trozo.trip_distance > 10)"
      ],
      "execution_count": 0,
      "outputs": []
    },
    {
      "cell_type": "code",
      "metadata": {
        "id": "p72gASh6QEMJ",
        "colab_type": "code",
        "colab": {
          "base_uri": "https://localhost:8080/",
          "height": 35
        },
        "outputId": "c0e7f119-9b47-449c-9fcb-701e13238d2f"
      },
      "source": [
        "trozo.loc[es_un_viaje_largo].shape"
      ],
      "execution_count": 16,
      "outputs": [
        {
          "output_type": "execute_result",
          "data": {
            "text/plain": [
              "(11817, 17)"
            ]
          },
          "metadata": {
            "tags": []
          },
          "execution_count": 16
        }
      ]
    },
    {
      "cell_type": "markdown",
      "metadata": {
        "id": "KOLpn8jWQsfs",
        "colab_type": "text"
      },
      "source": [
        "Ahora vamos a encapsular este filtrado en una funcion que acepta una estructura y regresa la estructura filtrada y luego vamos a iterar sobre los trozos"
      ]
    },
    {
      "cell_type": "code",
      "metadata": {
        "id": "Vqfuz1rGQeqh",
        "colab_type": "code",
        "colab": {}
      },
      "source": [
        "def filtra_es_viaje_largo(data):\n",
        "  '''Returns DataFrame filtering trips with distance over 10 miles'''\n",
        "  es_un_viaje_largo = (data.trip_distance > 10)\n",
        "  return data.loc[es_un_viaje_largo]"
      ],
      "execution_count": 0,
      "outputs": []
    },
    {
      "cell_type": "code",
      "metadata": {
        "id": "j0XfKR6ORfFc",
        "colab_type": "code",
        "colab": {}
      },
      "source": [
        "trozos = []\n",
        "for trozo in pd.read_csv(archivo, chunksize=500000):\n",
        "  trozos.append(filtra_es_viaje_largo(trozo))"
      ],
      "execution_count": 0,
      "outputs": []
    },
    {
      "cell_type": "markdown",
      "metadata": {
        "id": "AD8FqcEFSJ85",
        "colab_type": "text"
      },
      "source": [
        "En lugar de inicializar una lista vacia `trozos=[]` tambien podemos usar una comprension de lista (list comprehension) equivalente al bucle anterior"
      ]
    },
    {
      "cell_type": "code",
      "metadata": {
        "id": "e1oLXEigS0W2",
        "colab_type": "code",
        "colab": {}
      },
      "source": [
        "trozos = [ filtra_es_viaje_largo(trozo) for trozo in pd.read_csv(archivo, chunksize=500000) ]"
      ],
      "execution_count": 0,
      "outputs": []
    },
    {
      "cell_type": "code",
      "metadata": {
        "id": "4K10ecM-TJHF",
        "colab_type": "code",
        "colab": {
          "base_uri": "https://localhost:8080/",
          "height": 35
        },
        "outputId": "762eef83-72cc-4c83-834d-7b08b707fa9b"
      },
      "source": [
        "len(trozos)"
      ],
      "execution_count": 19,
      "outputs": [
        {
          "output_type": "execute_result",
          "data": {
            "text/plain": [
              "18"
            ]
          },
          "metadata": {
            "tags": []
          },
          "execution_count": 19
        }
      ]
    },
    {
      "cell_type": "markdown",
      "metadata": {
        "id": "WugTw63vS6lB",
        "colab_type": "text"
      },
      "source": [
        "Cada trozo filtrado tiene un tamaño menor a los 500000 originales"
      ]
    },
    {
      "cell_type": "code",
      "metadata": {
        "id": "JkFyzS1WTKrJ",
        "colab_type": "code",
        "colab": {
          "base_uri": "https://localhost:8080/",
          "height": 35
        },
        "outputId": "8cc18c3c-5c39-46e6-e1a4-ffe87bfbfa70"
      },
      "source": [
        "lengths = [len(trozo) for trozo in trozos]\n",
        "lengths[-5:]"
      ],
      "execution_count": 20,
      "outputs": [
        {
          "output_type": "execute_result",
          "data": {
            "text/plain": [
              "[24950, 22277, 27423, 23822, 11817]"
            ]
          },
          "metadata": {
            "tags": []
          },
          "execution_count": 20
        }
      ]
    },
    {
      "cell_type": "code",
      "metadata": {
        "id": "Ij6FWmeGTo1l",
        "colab_type": "code",
        "colab": {
          "base_uri": "https://localhost:8080/",
          "height": 35
        },
        "outputId": "411e0711-8c37-4454-aecc-493704a14456"
      },
      "source": [
        "np.mean(lengths)"
      ],
      "execution_count": 24,
      "outputs": [
        {
          "output_type": "execute_result",
          "data": {
            "text/plain": [
              "25934.11111111111"
            ]
          },
          "metadata": {
            "tags": []
          },
          "execution_count": 24
        }
      ]
    },
    {
      "cell_type": "markdown",
      "metadata": {
        "id": "PktBA4JdT0_N",
        "colab_type": "text"
      },
      "source": [
        "Vamos a acomodar cada trozo en un `DataFrame` usando la funcion `concat` del `pandas` resultando en una estructura con casi 470m registros:"
      ]
    },
    {
      "cell_type": "code",
      "metadata": {
        "id": "0-TPVZi7Tp8H",
        "colab_type": "code",
        "colab": {
          "base_uri": "https://localhost:8080/",
          "height": 35
        },
        "outputId": "922c6e6a-2b03-48e0-f2dd-d93f2ea03ffb"
      },
      "source": [
        "viajes_largos_df = pd.concat(trozos)\n",
        "viajes_largos_df.shape"
      ],
      "execution_count": 25,
      "outputs": [
        {
          "output_type": "execute_result",
          "data": {
            "text/plain": [
              "(466814, 17)"
            ]
          },
          "metadata": {
            "tags": []
          },
          "execution_count": 25
        }
      ]
    },
    {
      "cell_type": "markdown",
      "metadata": {
        "id": "Zvgf6E9GUTs1",
        "colab_type": "text"
      },
      "source": [
        "Ahora vamos a graficar  las distancias de los viajes filtrados contra el numero de pasajeros"
      ]
    },
    {
      "cell_type": "code",
      "metadata": {
        "id": "r0nr6bz8UIaa",
        "colab_type": "code",
        "colab": {}
      },
      "source": [
        "import matplotlib.pyplot as plt"
      ],
      "execution_count": 0,
      "outputs": []
    },
    {
      "cell_type": "code",
      "metadata": {
        "id": "OQgEgzUvUTJ2",
        "colab_type": "code",
        "colab": {
          "base_uri": "https://localhost:8080/",
          "height": 314
        },
        "outputId": "bfbfae6d-a336-4160-8615-215d1ea67e7e"
      },
      "source": [
        "viajes_largos_df.plot.scatter(x='fare_amount', y='trip_distance',title='Viajes Largos',ylim=(0,200),xlim=(0,800))"
      ],
      "execution_count": 30,
      "outputs": [
        {
          "output_type": "execute_result",
          "data": {
            "text/plain": [
              "<matplotlib.axes._subplots.AxesSubplot at 0x7fbc2c595e80>"
            ]
          },
          "metadata": {
            "tags": []
          },
          "execution_count": 30
        },
        {
          "output_type": "display_data",
          "data": {
            "image/png": "[encoded data removed]",
            "text/plain": [
              "<Figure size 432x288 with 1 Axes>"
            ]
          },
          "metadata": {
            "tags": []
          }
        }
      ]
    },
    {
      "cell_type": "markdown",
      "metadata": {
        "id": "WUlTF8I2s9me",
        "colab_type": "text"
      },
      "source": [
        "## Generadores\n",
        "\n",
        "Si reemplazamos los corchetes por parentesis en la expresion \n",
        "> `trozos = [ filtra_es_viaje_largo(trozo) for trozo in pd.read_csv(archivo, chunksize=500000) ]`\n",
        "tendremos un generador. La diferencia es que los elementos se generan uno a uno asi que nunca usan memoria de manera simultanea (lazy evaluation)."
      ]
    },
    {
      "cell_type": "code",
      "metadata": {
        "id": "lZlgzzhbtl1V",
        "colab_type": "code",
        "colab": {}
      },
      "source": [
        "trozos = (filtra_es_viaje_largo(trozo) for trozo in pd.read_csv(archivo, chunksize=500000)) "
      ],
      "execution_count": 0,
      "outputs": []
    },
    {
      "cell_type": "code",
      "metadata": {
        "id": "uZ0dnTgXUqKd",
        "colab_type": "code",
        "colab": {}
      },
      "source": [
        "distancias = (trozo['trip_distance'].sum() for trozo in trozos)"
      ],
      "execution_count": 0,
      "outputs": []
    },
    {
      "cell_type": "markdown",
      "metadata": {
        "id": "u21bBgIZtvaC",
        "colab_type": "text"
      },
      "source": [
        "El codigo anterior NO hace ningun calculo hasta que se hace la operacion, esto se llama _consumir el generador_"
      ]
    },
    {
      "cell_type": "code",
      "metadata": {
        "id": "SLAbcTDCtt2q",
        "colab_type": "code",
        "colab": {
          "base_uri": "https://localhost:8080/",
          "height": 35
        },
        "outputId": "7336c9f0-da1f-41af-deb9-10aec6e0fa72"
      },
      "source": [
        "sum(distancias)"
      ],
      "execution_count": 33,
      "outputs": [
        {
          "output_type": "execute_result",
          "data": {
            "text/plain": [
              "7339629.629999999"
            ]
          },
          "metadata": {
            "tags": []
          },
          "execution_count": 33
        }
      ]
    },
    {
      "cell_type": "code",
      "metadata": {
        "id": "HBL5wulTuC-3",
        "colab_type": "code",
        "colab": {
          "base_uri": "https://localhost:8080/",
          "height": 35
        },
        "outputId": "5c545151-7600-4912-9177-51d9c93a8bd7"
      },
      "source": [
        "distancias"
      ],
      "execution_count": 34,
      "outputs": [
        {
          "output_type": "execute_result",
          "data": {
            "text/plain": [
              "<generator object <genexpr> at 0x7fbc2c5b9e08>"
            ]
          },
          "metadata": {
            "tags": []
          },
          "execution_count": 34
        }
      ]
    },
    {
      "cell_type": "markdown",
      "metadata": {
        "id": "uAoAbn5SvLtV",
        "colab_type": "text"
      },
      "source": [
        "El generador ya esta consumido, no podemos accederlo mas"
      ]
    },
    {
      "cell_type": "code",
      "metadata": {
        "id": "qniVS2B6uPwb",
        "colab_type": "code",
        "colab": {
          "base_uri": "https://localhost:8080/",
          "height": 171
        },
        "outputId": "3a03d5ba-fc2b-4154-c6e5-260276905f28"
      },
      "source": [
        "next(distancias)"
      ],
      "execution_count": 35,
      "outputs": [
        {
          "output_type": "error",
          "ename": "StopIteration",
          "evalue": "ignored",
          "traceback": [
            "\u001b[0;31m---------------------------------------------------------------------------\u001b[0m",
            "\u001b[0;31mStopIteration\u001b[0m                             Traceback (most recent call last)",
            "\u001b[0;32m<ipython-input-35-b2849bfca938>\u001b[0m in \u001b[0;36m<module>\u001b[0;34m()\u001b[0m\n\u001b[0;32m----> 1\u001b[0;31m \u001b[0mnext\u001b[0m\u001b[0;34m(\u001b[0m\u001b[0mdistancias\u001b[0m\u001b[0;34m)\u001b[0m\u001b[0;34m\u001b[0m\u001b[0;34m\u001b[0m\u001b[0m\n\u001b[0m",
            "\u001b[0;31mStopIteration\u001b[0m: "
          ]
        }
      ]
    },
    {
      "cell_type": "markdown",
      "metadata": {
        "id": "e9wyO1GYusLp",
        "colab_type": "text"
      },
      "source": [
        "## Leyendo varios archivos"
      ]
    },
    {
      "cell_type": "code",
      "metadata": {
        "id": "dMPUt0nqvS6I",
        "colab_type": "code",
        "colab": {
          "base_uri": "https://localhost:8080/",
          "height": 124
        },
        "outputId": "179d5ddb-d06a-4711-c805-fa008c8a60d0"
      },
      "source": [
        "# !wget https://s3.amazonaws.com/nyc-tlc/trip+data/yellow_tripdata_2018-01.csv\n",
        "plantilla = 'yellow_tripdata_2018-{:02d}.csv'\n",
        "plantillaURL = 'wget https://s3.amazonaws.com/nyc-tlc/trip+data/'+plantilla\n",
        "\n",
        "urls = (plantillaURL.format(k) for k in range(1,7)) # generator\n",
        "for urls in urls:\n",
        "  print(url)"
      ],
      "execution_count": 48,
      "outputs": [
        {
          "output_type": "stream",
          "text": [
            "wget https://s3.amazonaws.com/nyc-tlc/trip+data/yellow_tripdata_2018-01.csv\n",
            "wget https://s3.amazonaws.com/nyc-tlc/trip+data/yellow_tripdata_2018-02.csv\n",
            "wget https://s3.amazonaws.com/nyc-tlc/trip+data/yellow_tripdata_2018-03.csv\n",
            "wget https://s3.amazonaws.com/nyc-tlc/trip+data/yellow_tripdata_2018-04.csv\n",
            "wget https://s3.amazonaws.com/nyc-tlc/trip+data/yellow_tripdata_2018-05.csv\n",
            "wget https://s3.amazonaws.com/nyc-tlc/trip+data/yellow_tripdata_2018-06.csv\n"
          ],
          "name": "stdout"
        }
      ]
    },
    {
      "cell_type": "markdown",
      "metadata": {
        "id": "nCvDW-y7xaIY",
        "colab_type": "text"
      },
      "source": [
        "Ahora vamos a descargar todos los archivos...necesitamos crear el generador de nuevo porque ya se consumio!"
      ]
    },
    {
      "cell_type": "code",
      "metadata": {
        "id": "7LYaoCU3wxTK",
        "colab_type": "code",
        "colab": {}
      },
      "source": [
        "urls = (plantillaURL.format(k) for k in range(1,7)) # generator\n",
        "for url in urls:\n",
        "  os.system(url)"
      ],
      "execution_count": 0,
      "outputs": []
    },
    {
      "cell_type": "code",
      "metadata": {
        "id": "MvZlUsA_wzUI",
        "colab_type": "code",
        "colab": {
          "base_uri": "https://localhost:8080/",
          "height": 106
        },
        "outputId": "ff1ae502-53c4-4dc2-9647-a08c0f062c7e"
      },
      "source": [
        "ls"
      ],
      "execution_count": 57,
      "outputs": [
        {
          "output_type": "stream",
          "text": [
            "\u001b[0m\u001b[01;34msample_data\u001b[0m/                   yellow_tripdata_2018-04.csv\n",
            "yellow_tripdata_2018-01.csv    yellow_tripdata_2018-05.csv\n",
            "yellow_tripdata_2018-01.csv.1  yellow_tripdata_2018-06.csv\n",
            "yellow_tripdata_2018-02.csv    yellow_tripdata_2018-06.csv.1\n",
            "yellow_tripdata_2018-03.csv\n"
          ],
          "name": "stdout"
        }
      ]
    },
    {
      "cell_type": "markdown",
      "metadata": {
        "id": "LQvPmVTPyAKB",
        "colab_type": "text"
      },
      "source": [
        "Examinemos uno de los archivos de ejemplo. ... . . ."
      ]
    },
    {
      "cell_type": "code",
      "metadata": {
        "id": "E4ptNMsGub2a",
        "colab_type": "code",
        "colab": {}
      },
      "source": [
        "df = pd.read_csv('yellow_tripdata_2018-01.csv', parse_dates=[1,2])"
      ],
      "execution_count": 0,
      "outputs": []
    },
    {
      "cell_type": "code",
      "metadata": {
        "id": "5TS758sUuoBo",
        "colab_type": "code",
        "colab": {
          "base_uri": "https://localhost:8080/",
          "height": 410
        },
        "outputId": "eec3a368-7b9e-4d5f-daac-da3e711caa6f"
      },
      "source": [
        "df.info()"
      ],
      "execution_count": 38,
      "outputs": [
        {
          "output_type": "stream",
          "text": [
            "<class 'pandas.core.frame.DataFrame'>\n",
            "RangeIndex: 8759874 entries, 0 to 8759873\n",
            "Data columns (total 17 columns):\n",
            "VendorID                 int64\n",
            "tpep_pickup_datetime     datetime64[ns]\n",
            "tpep_dropoff_datetime    datetime64[ns]\n",
            "passenger_count          int64\n",
            "trip_distance            float64\n",
            "RatecodeID               int64\n",
            "store_and_fwd_flag       object\n",
            "PULocationID             int64\n",
            "DOLocationID             int64\n",
            "payment_type             int64\n",
            "fare_amount              float64\n",
            "extra                    float64\n",
            "mta_tax                  float64\n",
            "tip_amount               float64\n",
            "tolls_amount             float64\n",
            "improvement_surcharge    float64\n",
            "total_amount             float64\n",
            "dtypes: datetime64[ns](2), float64(8), int64(6), object(1)\n",
            "memory usage: 1.1+ GB\n"
          ],
          "name": "stdout"
        }
      ]
    },
    {
      "cell_type": "markdown",
      "metadata": {
        "id": "USoyqq-Exxo2",
        "colab_type": "text"
      },
      "source": [
        "Vamos a usar la siguiente funcion para determinar el tiempo de recorridos en cada viaje"
      ]
    },
    {
      "cell_type": "code",
      "metadata": {
        "id": "hsRTjalbyFXa",
        "colab_type": "code",
        "colab": {}
      },
      "source": [
        "def cuenta_viajes_largos(df):\n",
        "  df['duracion'] = (df.tpep_dropoff_datetime - df.tpep_pickup_datetime).dt.seconds\n",
        "  es_viaje_largo = df.duracion > 1200 # viajes que duran mas de 20 minutos\n",
        "  result_dict = {'n_long':[sum(es_viaje_largo)],\n",
        "                'n_total':[len(df)]}\n",
        "  return pd.DataFrame(result_dict)"
      ],
      "execution_count": 0,
      "outputs": []
    },
    {
      "cell_type": "code",
      "metadata": {
        "id": "fVJaNWCgyzIM",
        "colab_type": "code",
        "colab": {
          "base_uri": "https://localhost:8080/",
          "height": 71
        },
        "outputId": "41cd2c0a-28cb-4adf-8f99-7434181679c6"
      },
      "source": [
        "archivos = [plantilla.format(k) for k in range(1,4)] # comprension de lista\n",
        "archivos"
      ],
      "execution_count": 65,
      "outputs": [
        {
          "output_type": "execute_result",
          "data": {
            "text/plain": [
              "['yellow_tripdata_2018-01.csv',\n",
              " 'yellow_tripdata_2018-02.csv',\n",
              " 'yellow_tripdata_2018-03.csv']"
            ]
          },
          "metadata": {
            "tags": []
          },
          "execution_count": 65
        }
      ]
    },
    {
      "cell_type": "code",
      "metadata": {
        "id": "lhlnMdwezIsW",
        "colab_type": "code",
        "colab": {}
      },
      "source": [
        "dataframes = (pd.read_csv(archivo, parse_dates=[1,2]) for archivo in archivos) # generador"
      ],
      "execution_count": 0,
      "outputs": []
    },
    {
      "cell_type": "code",
      "metadata": {
        "id": "z-kYqmzyzJiG",
        "colab_type": "code",
        "colab": {}
      },
      "source": [
        "totales = (cuenta_viajes_largos(df) for df in dataframes) #generador"
      ],
      "execution_count": 0,
      "outputs": []
    },
    {
      "cell_type": "code",
      "metadata": {
        "id": "PCFWu37uzjz4",
        "colab_type": "code",
        "colab": {}
      },
      "source": [
        "totales_semianuales = sum(totales) # consume generadores"
      ],
      "execution_count": 0,
      "outputs": []
    },
    {
      "cell_type": "markdown",
      "metadata": {
        "id": "TjAaXzWZ0HJE",
        "colab_type": "text"
      },
      "source": [
        "El dataframe que resulta contiene dos columnas, la razon entre ellas es la fraccion de viajes con una duracion mayor a 20 minutos de los viajes totales en la primera mitad del 2018"
      ]
    },
    {
      "cell_type": "code",
      "metadata": {
        "id": "JYJPw2xJzxJY",
        "colab_type": "code",
        "colab": {
          "base_uri": "https://localhost:8080/",
          "height": 53
        },
        "outputId": "a45aa300-3666-4b7b-eb5e-b6d1c9d907a2"
      },
      "source": [
        "print(totales_semianuales)"
      ],
      "execution_count": 63,
      "outputs": [
        {
          "output_type": "stream",
          "text": [
            "     n_long   n_total\n",
            "0  10954358  53925735\n"
          ],
          "name": "stdout"
        }
      ]
    },
    {
      "cell_type": "code",
      "metadata": {
        "id": "I50FA-Df0vTs",
        "colab_type": "code",
        "colab": {
          "base_uri": "https://localhost:8080/",
          "height": 53
        },
        "outputId": "62171264-d87a-458e-a646-94b8e4844195"
      },
      "source": [
        "fraccion = totales_semianuales['n_long'] / totales_semianuales['n_total']\n",
        "print(fraccion)"
      ],
      "execution_count": 64,
      "outputs": [
        {
          "output_type": "stream",
          "text": [
            "0    0.203138\n",
            "dtype: float64\n"
          ],
          "name": "stdout"
        }
      ]
    },
    {
      "cell_type": "markdown",
      "metadata": {
        "id": "np2UqT7f1EDR",
        "colab_type": "text"
      },
      "source": [
        "La introduccion de generadores permite retrasar calculos hasta que se consuman los generadores haciendo alguna operacion y control el uso de memora.\n",
        "La libreria `dask` puede ayudar a automatiza esto..."
      ]
    },
    {
      "cell_type": "code",
      "metadata": {
        "id": "T3b9Kocb02mx",
        "colab_type": "code",
        "colab": {}
      },
      "source": [
        "from math import sqrt"
      ],
      "execution_count": 0,
      "outputs": []
    },
    {
      "cell_type": "code",
      "metadata": {
        "id": "czsRt_kp1W24",
        "colab_type": "code",
        "colab": {}
      },
      "source": [
        "def f(z):\n",
        "  return sqrt(z + 4)\n",
        "\n",
        "def g(y):\n",
        "  return y - 3\n",
        "\n",
        "def h(x):\n",
        "  return x ** 2"
      ],
      "execution_count": 0,
      "outputs": []
    },
    {
      "cell_type": "code",
      "metadata": {
        "id": "QT8p0EuY1mBI",
        "colab_type": "code",
        "colab": {}
      },
      "source": [
        "x = 4\n"
      ],
      "execution_count": 0,
      "outputs": []
    },
    {
      "cell_type": "code",
      "metadata": {
        "id": "Vt_QRu3P1pWp",
        "colab_type": "code",
        "colab": {}
      },
      "source": [
        "y = h(x)"
      ],
      "execution_count": 0,
      "outputs": []
    },
    {
      "cell_type": "code",
      "metadata": {
        "id": "55J6Hd1C1qM3",
        "colab_type": "code",
        "colab": {}
      },
      "source": [
        "z = g(y)"
      ],
      "execution_count": 0,
      "outputs": []
    },
    {
      "cell_type": "code",
      "metadata": {
        "id": "H4y-z70c1r2r",
        "colab_type": "code",
        "colab": {}
      },
      "source": [
        "w = f(z)"
      ],
      "execution_count": 0,
      "outputs": []
    },
    {
      "cell_type": "code",
      "metadata": {
        "id": "Nuf8SwiL1t_o",
        "colab_type": "code",
        "colab": {}
      },
      "source": [
        ""
      ],
      "execution_count": 0,
      "outputs": []
    }
  ]
}