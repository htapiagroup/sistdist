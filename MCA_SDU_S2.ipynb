{
  "nbformat": 4,
  "nbformat_minor": 0,
  "metadata": {
    "colab": {
      "name": "MCA_SDU_S2.ipynb",
      "version": "0.3.2",
      "provenance": [],
      "include_colab_link": true
    },
    "kernelspec": {
      "name": "python3",
      "display_name": "Python 3"
    }
  },
  "cells": [
    {
      "cell_type": "markdown",
      "metadata": {
        "id": "view-in-github",
        "colab_type": "text"
      },
      "source": [
        "<a href=\"https://colab.research.google.com/github/htapiagroup/sistdist/blob/master/MCA_SDU_S2.ipynb\" target=\"_parent\"><img src=\"https://colab.research.google.com/assets/colab-badge.svg\" alt=\"Open In Colab\"/></a>"
      ]
    },
    {
      "cell_type": "markdown",
      "metadata": {
        "id": "KH80J9z5KznL",
        "colab_type": "text"
      },
      "source": [
        "# Sistemas Distribuidos y Ubicuos II \n",
        "\n",
        "## MCA Tercer cuatrimestre\n",
        "\n",
        "### Horacio Tapia-McClung\n",
        "\n"
      ]
    },
    {
      "cell_type": "markdown",
      "metadata": {
        "id": "GY2CbTqKLIuZ",
        "colab_type": "text"
      },
      "source": [
        "## Resumen Semana 1\n",
        "\n",
        "* Como \"guarda\" informacion la computadora"
      ]
    },
    {
      "cell_type": "code",
      "metadata": {
        "id": "iSktU9wzKxaT",
        "colab_type": "code",
        "colab": {
          "base_uri": "https://localhost:8080/",
          "height": 106
        },
        "outputId": "a46b241d-c9e8-416b-ab24-1be2704ce5ef"
      },
      "source": [
        "import numpy as np\n",
        "import pandas as pd\n",
        "import psutil, os\n",
        "\n",
        "def huella_memoria():\n",
        "  '''Regresa la huella de memoria en MB usada por un proceso de Python'''\n",
        "  mem = psutil.Process(os.getpid()).memory_info().rss\n",
        "  return (mem / 1024**2)\n",
        "\n",
        "\n",
        "antes = huella_memoria()\n",
        "N = (1024**2)//8\n",
        "x = np.random.rand(50*N)\n",
        "despues = huella_memoria()\n",
        "print('Memoria asignada a un arreglo: {} MB'.format(despues-antes))\n",
        "print('Memoria utilizada por el arreglo: {} MB'.format(x.nbytes / (1024**2)))\n",
        "\n",
        "antes = huella_memoria()\n",
        "x**2\n",
        "despues = huella_memoria()\n",
        "print('Memoria asignada a una operacion: {} MB'.format(despues-antes))\n",
        "\n",
        "df = pd.DataFrame(x)\n",
        "print('Memoria utilizada por el DataFrame: {} MB'.format(df.memory_usage(index=False)/(1024**2)))\n",
        "\n"
      ],
      "execution_count": 2,
      "outputs": [
        {
          "output_type": "stream",
          "text": [
            "Memoria asignada a un arreglo: 0.0 MB\n",
            "Memoria utilizada por el arreglo: 50.0 MB\n",
            "Memoria asignada a una operacion: 49.96484375 MB\n",
            "Memoria utilizada por el DataFrame: 0    50.0\n",
            "dtype: float64 MB\n"
          ],
          "name": "stdout"
        }
      ]
    },
    {
      "cell_type": "markdown",
      "metadata": {
        "id": "RzXLMrRsMbWF",
        "colab_type": "text"
      },
      "source": [
        "# Semana 2\n",
        "\n",
        "Ahora veremos como acceder a un conjunto de datos separandolo en partes y como podemos conocer las propiedades del conjunto compleo conociendo las propiedades de cada parte y agregando al final.\n",
        "Esto es util y practico cuando tenemos un conjunto de datos grande como el siguiente:"
      ]
    },
    {
      "cell_type": "code",
      "metadata": {
        "id": "mLRp_UCFMZav",
        "colab_type": "code",
        "colab": {
          "base_uri": "https://localhost:8080/",
          "height": 214
        },
        "outputId": "e3e40164-f543-4cf4-c1af-74be26eddcfc"
      },
      "source": [
        "!wget https://s3.amazonaws.com/nyc-tlc/trip+data/yellow_tripdata_2018-01.csv"
      ],
      "execution_count": 5,
      "outputs": [
        {
          "output_type": "stream",
          "text": [
            "--2019-05-13 17:24:22--  https://s3.amazonaws.com/nyc-tlc/trip+data/yellow_tripdata_2018-01.csv\n",
            "Resolving s3.amazonaws.com (s3.amazonaws.com)... 52.216.178.93\n",
            "Connecting to s3.amazonaws.com (s3.amazonaws.com)|52.216.178.93|:443... connected.\n",
            "HTTP request sent, awaiting response... 200 OK\n",
            "Length: 772098307 (736M) [text/csv]\n",
            "Saving to: ‘yellow_tripdata_2018-01.csv’\n",
            "\n",
            "yellow_tripdata_201 100%[===================>] 736.33M  43.7MB/s    in 17s     \n",
            "\n",
            "2019-05-13 17:24:39 (42.7 MB/s) - ‘yellow_tripdata_2018-01.csv’ saved [772098307/772098307]\n",
            "\n"
          ],
          "name": "stdout"
        }
      ]
    },
    {
      "cell_type": "code",
      "metadata": {
        "id": "QLg93rHYNCKJ",
        "colab_type": "code",
        "colab": {}
      },
      "source": [
        "archivo = 'yellow_tripdata_2018-01.csv'"
      ],
      "execution_count": 0,
      "outputs": []
    },
    {
      "cell_type": "code",
      "metadata": {
        "id": "jGqesstaOgAq",
        "colab_type": "code",
        "colab": {
          "base_uri": "https://localhost:8080/",
          "height": 339
        },
        "outputId": "4bbf1163-3a7c-4d29-d4a0-114de68d43bb"
      },
      "source": [
        "for trozo in pd.read_csv(archivo, chunksize=500000):\n",
        "  print('type: %s shape %s' % (type(trozo), trozo.shape))"
      ],
      "execution_count": 10,
      "outputs": [
        {
          "output_type": "stream",
          "text": [
            "type: <class 'pandas.core.frame.DataFrame'> forma (500000, 17)\n",
            "type: <class 'pandas.core.frame.DataFrame'> forma (500000, 17)\n",
            "type: <class 'pandas.core.frame.DataFrame'> forma (500000, 17)\n",
            "type: <class 'pandas.core.frame.DataFrame'> forma (500000, 17)\n",
            "type: <class 'pandas.core.frame.DataFrame'> forma (500000, 17)\n",
            "type: <class 'pandas.core.frame.DataFrame'> forma (500000, 17)\n",
            "type: <class 'pandas.core.frame.DataFrame'> forma (500000, 17)\n",
            "type: <class 'pandas.core.frame.DataFrame'> forma (500000, 17)\n",
            "type: <class 'pandas.core.frame.DataFrame'> forma (500000, 17)\n",
            "type: <class 'pandas.core.frame.DataFrame'> forma (500000, 17)\n",
            "type: <class 'pandas.core.frame.DataFrame'> forma (500000, 17)\n",
            "type: <class 'pandas.core.frame.DataFrame'> forma (500000, 17)\n",
            "type: <class 'pandas.core.frame.DataFrame'> forma (500000, 17)\n",
            "type: <class 'pandas.core.frame.DataFrame'> forma (500000, 17)\n",
            "type: <class 'pandas.core.frame.DataFrame'> forma (500000, 17)\n",
            "type: <class 'pandas.core.frame.DataFrame'> forma (500000, 17)\n",
            "type: <class 'pandas.core.frame.DataFrame'> forma (500000, 17)\n",
            "type: <class 'pandas.core.frame.DataFrame'> forma (259874, 17)\n"
          ],
          "name": "stdout"
        }
      ]
    },
    {
      "cell_type": "code",
      "metadata": {
        "id": "5F8q3JkoO0Ha",
        "colab_type": "code",
        "colab": {
          "base_uri": "https://localhost:8080/",
          "height": 35
        },
        "outputId": "6d4fe807-872b-4542-a279-b65726848e59"
      },
      "source": [
        "trozo.shape"
      ],
      "execution_count": 11,
      "outputs": [
        {
          "output_type": "execute_result",
          "data": {
            "text/plain": [
              "(259874, 17)"
            ]
          },
          "metadata": {
            "tags": []
          },
          "execution_count": 11
        }
      ]
    },
    {
      "cell_type": "markdown",
      "metadata": {
        "id": "UJkjXlT7POJ7",
        "colab_type": "text"
      },
      "source": [
        "Cada trozo tiene los atributos estandares de un `DataFrame`"
      ]
    },
    {
      "cell_type": "code",
      "metadata": {
        "id": "nZGeZhKRPSfM",
        "colab_type": "code",
        "colab": {
          "base_uri": "https://localhost:8080/",
          "height": 410
        },
        "outputId": "2e258f4d-9c2f-494f-eb3a-23fffb2f2100"
      },
      "source": [
        "trozo.info()"
      ],
      "execution_count": 12,
      "outputs": [
        {
          "output_type": "stream",
          "text": [
            "<class 'pandas.core.frame.DataFrame'>\n",
            "RangeIndex: 259874 entries, 8500000 to 8759873\n",
            "Data columns (total 17 columns):\n",
            "VendorID                 259874 non-null int64\n",
            "tpep_pickup_datetime     259874 non-null object\n",
            "tpep_dropoff_datetime    259874 non-null object\n",
            "passenger_count          259874 non-null int64\n",
            "trip_distance            259874 non-null float64\n",
            "RatecodeID               259874 non-null int64\n",
            "store_and_fwd_flag       259874 non-null object\n",
            "PULocationID             259874 non-null int64\n",
            "DOLocationID             259874 non-null int64\n",
            "payment_type             259874 non-null int64\n",
            "fare_amount              259874 non-null float64\n",
            "extra                    259874 non-null float64\n",
            "mta_tax                  259874 non-null float64\n",
            "tip_amount               259874 non-null float64\n",
            "tolls_amount             259874 non-null float64\n",
            "improvement_surcharge    259874 non-null float64\n",
            "total_amount             259874 non-null float64\n",
            "dtypes: float64(8), int64(6), object(3)\n",
            "memory usage: 33.7+ MB\n"
          ],
          "name": "stdout"
        }
      ]
    },
    {
      "cell_type": "markdown",
      "metadata": {
        "id": "1NtSWD5uPFU0",
        "colab_type": "text"
      },
      "source": [
        "Veamos como filtrar un trozo usando una condicion, en este caso decidiremos que un viaje es largo si distancia del viaje es mayor a 10 millas ( [ver aqui](https://www1.nyc.gov/assets/tlc/downloads/pdf/data_dictionary_trip_records_yellow.pdf)."
      ]
    },
    {
      "cell_type": "code",
      "metadata": {
        "id": "0Z7EswN7QBXb",
        "colab_type": "code",
        "colab": {}
      },
      "source": [
        "es_un_viaje_largo = (trozo.trip_distance > 10)"
      ],
      "execution_count": 0,
      "outputs": []
    },
    {
      "cell_type": "code",
      "metadata": {
        "id": "p72gASh6QEMJ",
        "colab_type": "code",
        "colab": {
          "base_uri": "https://localhost:8080/",
          "height": 35
        },
        "outputId": "c0e7f119-9b47-449c-9fcb-701e13238d2f"
      },
      "source": [
        "trozo.loc[es_un_viaje_largo].shape"
      ],
      "execution_count": 16,
      "outputs": [
        {
          "output_type": "execute_result",
          "data": {
            "text/plain": [
              "(11817, 17)"
            ]
          },
          "metadata": {
            "tags": []
          },
          "execution_count": 16
        }
      ]
    },
    {
      "cell_type": "markdown",
      "metadata": {
        "id": "KOLpn8jWQsfs",
        "colab_type": "text"
      },
      "source": [
        "Ahora vamos a encapsular este filtrado en una funcion que acepta una estructura y regresa la estructura filtrada y luego vamos a iterar sobre los trozos"
      ]
    },
    {
      "cell_type": "code",
      "metadata": {
        "id": "Vqfuz1rGQeqh",
        "colab_type": "code",
        "colab": {}
      },
      "source": [
        "def filtra_es_viaje_largo(data):\n",
        "  '''Returns DataFrame filtering trips with distance over 10 miles'''\n",
        "  es_un_viaje_largo = (data.trip_distance > 10)\n",
        "  return data.loc[es_un_viaje_largo]"
      ],
      "execution_count": 0,
      "outputs": []
    },
    {
      "cell_type": "code",
      "metadata": {
        "id": "j0XfKR6ORfFc",
        "colab_type": "code",
        "colab": {}
      },
      "source": [
        "trozos = []\n",
        "for trozo in pd.read_csv(archivo, chunksize=500000):\n",
        "  trozos.append"
      ],
      "execution_count": 0,
      "outputs": []
    }
  ]
}