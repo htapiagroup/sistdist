{
  "nbformat": 4,
  "nbformat_minor": 0,
  "metadata": {
    "colab": {
      "name": "MCA_SDU_S4.ipynb",
      "version": "0.3.2",
      "provenance": [],
      "include_colab_link": true
    },
    "kernelspec": {
      "name": "python3",
      "display_name": "Python 3"
    }
  },
  "cells": [
    {
      "cell_type": "markdown",
      "metadata": {
        "id": "view-in-github",
        "colab_type": "text"
      },
      "source": [
        "<a href=\"https://colab.research.google.com/github/htapiagroup/sistdist/blob/master/MCA_SDU_S4.ipynb\" target=\"_parent\"><img src=\"https://colab.research.google.com/assets/colab-badge.svg\" alt=\"Open In Colab\"/></a>"
      ]
    },
    {
      "cell_type": "markdown",
      "metadata": {
        "id": "ixwY_kTPuN_I",
        "colab_type": "text"
      },
      "source": [
        "# Sistemas Distribuidos y Ubicuos II \n",
        "\n",
        "## MCA Tercer cuatrimestre\n",
        "\n",
        "### Horacio Tapia-McClung\n"
      ]
    },
    {
      "cell_type": "markdown",
      "metadata": {
        "id": "4l10EUl4uSiT",
        "colab_type": "text"
      },
      "source": [
        "# Resumen Semana 3\n",
        "\n",
        "* Usamos Dask para represetnar matrices y realizar calculos de agregacion como promedios, valores minimos, maximos, etc."
      ]
    },
    {
      "cell_type": "code",
      "metadata": {
        "id": "Bnkb-GvluNVV",
        "colab_type": "code",
        "colab": {}
      },
      "source": [
        ""
      ],
      "execution_count": 0,
      "outputs": []
    }
  ]
}