{
  "nbformat": 4,
  "nbformat_minor": 0,
  "metadata": {
    "colab": {
      "name": "MCA_SDU_S4.ipynb",
      "version": "0.3.2",
      "provenance": [],
      "include_colab_link": true
    },
    "kernelspec": {
      "name": "python3",
      "display_name": "Python 3"
    }
  },
  "cells": [
    {
      "cell_type": "markdown",
      "metadata": {
        "id": "view-in-github",
        "colab_type": "text"
      },
      "source": [
        "<a href=\"https://colab.research.google.com/github/htapiagroup/sistdist/blob/master/MCA_SDU_S4.ipynb\" target=\"_parent\"><img src=\"https://colab.research.google.com/assets/colab-badge.svg\" alt=\"Open In Colab\"/></a>"
      ]
    },
    {
      "cell_type": "markdown",
      "metadata": {
        "id": "ixwY_kTPuN_I",
        "colab_type": "text"
      },
      "source": [
        "# Sistemas Distribuidos y Ubicuos II \n",
        "\n",
        "## MCA Tercer cuatrimestre\n",
        "\n",
        "### Horacio Tapia-McClung\n"
      ]
    },
    {
      "cell_type": "markdown",
      "metadata": {
        "id": "4l10EUl4uSiT",
        "colab_type": "text"
      },
      "source": [
        "# Resumen Semana 3\n",
        "\n",
        "* Usamos Dask para represetnar matrices y realizar calculos de agregacion como promedios, valores minimos, maximos, etc."
      ]
    },
    {
      "cell_type": "markdown",
      "metadata": {
        "id": "7xizI2fbulxM",
        "colab_type": "text"
      },
      "source": [
        "# Semana 4\n",
        "\n",
        "Vamos a trabajar un poco en la paralelizacion de codigo usando `@delayed`"
      ]
    },
    {
      "cell_type": "code",
      "metadata": {
        "id": "Bnkb-GvluNVV",
        "colab_type": "code",
        "colab": {}
      },
      "source": [
        "from time import sleep\n",
        "\n",
        "def inc(x):\n",
        "  sleep(1)\n",
        "  return x + 1\n",
        "\n",
        "def suma(x, y):\n",
        "  sleep(1)\n",
        "  return x + y"
      ],
      "execution_count": 0,
      "outputs": []
    },
    {
      "cell_type": "code",
      "metadata": {
        "id": "ROy7sWywu3b9",
        "colab_type": "code",
        "colab": {
          "base_uri": "https://localhost:8080/",
          "height": 53
        },
        "outputId": "9eb186ca-2322-40d0-8882-d695645f2f9f"
      },
      "source": [
        "%%time\n",
        "\n",
        "x = inc(1)\n",
        "y = inc(2)\n",
        "z = suma(x, y)"
      ],
      "execution_count": 4,
      "outputs": [
        {
          "output_type": "stream",
          "text": [
            "CPU times: user 1.38 ms, sys: 76 µs, total: 1.45 ms\n",
            "Wall time: 3 s\n"
          ],
          "name": "stdout"
        }
      ]
    },
    {
      "cell_type": "code",
      "metadata": {
        "id": "7fkmSj42u7j7",
        "colab_type": "code",
        "colab": {}
      },
      "source": [
        "from dask import delayed"
      ],
      "execution_count": 0,
      "outputs": []
    },
    {
      "cell_type": "code",
      "metadata": {
        "id": "oP0rkk1ZvAJv",
        "colab_type": "code",
        "colab": {
          "base_uri": "https://localhost:8080/",
          "height": 53
        },
        "outputId": "51384467-2222-49ca-b784-095752dfd3d7"
      },
      "source": [
        "%%time\n",
        "\n",
        "x = delayed(inc)(1)\n",
        "y = delayed(inc)(2)\n",
        "z = delayed(suma)(x, y)"
      ],
      "execution_count": 5,
      "outputs": [
        {
          "output_type": "stream",
          "text": [
            "CPU times: user 728 µs, sys: 0 ns, total: 728 µs\n",
            "Wall time: 620 µs\n"
          ],
          "name": "stdout"
        }
      ]
    },
    {
      "cell_type": "code",
      "metadata": {
        "id": "KeMOmUlfvKsL",
        "colab_type": "code",
        "colab": {
          "base_uri": "https://localhost:8080/",
          "height": 71
        },
        "outputId": "ab4734fc-f605-4ec7-d7fb-0d4e35a0ba31"
      },
      "source": [
        "%%time\n",
        "\n",
        "z.compute()"
      ],
      "execution_count": 6,
      "outputs": [
        {
          "output_type": "stream",
          "text": [
            "CPU times: user 7.4 ms, sys: 1.08 ms, total: 8.47 ms\n",
            "Wall time: 2.01 s\n"
          ],
          "name": "stdout"
        },
        {
          "output_type": "execute_result",
          "data": {
            "text/plain": [
              "5"
            ]
          },
          "metadata": {
            "tags": []
          },
          "execution_count": 6
        }
      ]
    },
    {
      "cell_type": "code",
      "metadata": {
        "id": "UMWYwZkbvO2p",
        "colab_type": "code",
        "colab": {
          "base_uri": "https://localhost:8080/",
          "height": 408
        },
        "outputId": "1b67fcf0-c9ec-4cec-fda8-514a882f9e38"
      },
      "source": [
        "z.visualize()"
      ],
      "execution_count": 7,
      "outputs": [
        {
          "output_type": "execute_result",
          "data": {
            "image/png": "[encoded data removed]",
            "text/plain": [
              "<IPython.core.display.Image object>"
            ]
          },
          "metadata": {
            "tags": []
          },
          "execution_count": 7
        }
      ]
    },
    {
      "cell_type": "code",
      "metadata": {
        "id": "1A8gvTZ2vVlY",
        "colab_type": "code",
        "colab": {}
      },
      "source": [
        "data = [1, 2, 3, 4, 5, 6, 7, 8]"
      ],
      "execution_count": 0,
      "outputs": []
    },
    {
      "cell_type": "code",
      "metadata": {
        "id": "0ibf-tmMvgII",
        "colab_type": "code",
        "colab": {
          "base_uri": "https://localhost:8080/",
          "height": 53
        },
        "outputId": "9736a88e-5e75-40c9-9d74-4acfe9f629ef"
      },
      "source": [
        "%%time\n",
        "\n",
        "resultados = []\n",
        "for x in data:\n",
        "  y = inc(x)\n",
        "  resultados.append(y)\n",
        " \n",
        "total = sum(resultados)"
      ],
      "execution_count": 9,
      "outputs": [
        {
          "output_type": "stream",
          "text": [
            "CPU times: user 9.1 ms, sys: 868 µs, total: 9.96 ms\n",
            "Wall time: 8.01 s\n"
          ],
          "name": "stdout"
        }
      ]
    },
    {
      "cell_type": "code",
      "metadata": {
        "id": "zZPashqRvr5m",
        "colab_type": "code",
        "colab": {
          "base_uri": "https://localhost:8080/",
          "height": 35
        },
        "outputId": "1143842d-a287-40dc-b06c-cea63f5adc06"
      },
      "source": [
        "total"
      ],
      "execution_count": 10,
      "outputs": [
        {
          "output_type": "execute_result",
          "data": {
            "text/plain": [
              "44"
            ]
          },
          "metadata": {
            "tags": []
          },
          "execution_count": 10
        }
      ]
    },
    {
      "cell_type": "code",
      "metadata": {
        "id": "5-7TBpTavtNG",
        "colab_type": "code",
        "colab": {
          "base_uri": "https://localhost:8080/",
          "height": 71
        },
        "outputId": "3a105db6-2813-404e-f61c-2fa2a28c83dd"
      },
      "source": [
        "%%time\n",
        "\n",
        "resultados = []\n",
        "\n",
        "for x in data:\n",
        "  y = delayed(inc)(x)\n",
        "  resultados.append(y)\n",
        " \n",
        "total = delayed(sum)(resultados)\n",
        "print(total.compute())"
      ],
      "execution_count": 11,
      "outputs": [
        {
          "output_type": "stream",
          "text": [
            "44\n",
            "CPU times: user 10.4 ms, sys: 1.86 ms, total: 12.2 ms\n",
            "Wall time: 4.01 s\n"
          ],
          "name": "stdout"
        }
      ]
    },
    {
      "cell_type": "code",
      "metadata": {
        "id": "14SRfOCWwHaP",
        "colab_type": "code",
        "colab": {}
      },
      "source": [
        ""
      ],
      "execution_count": 0,
      "outputs": []
    }
  ]
}